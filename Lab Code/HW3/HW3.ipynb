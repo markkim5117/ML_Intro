{
 "cells": [
  {
   "cell_type": "markdown",
   "metadata": {},
   "source": [
    "# Homework 3 (Full mark: 250pt)\n",
    "- Questions 1~5: Conceptual\n",
    "- Questions 6~11: Programming"
   ]
  },
  {
   "cell_type": "markdown",
   "metadata": {},
   "source": [
    "# Conceptual questions"
   ]
  },
  {
   "cell_type": "markdown",
   "metadata": {},
   "source": [
    "# 1. Variance (10pt)\n",
    "\n",
    "**Using basic statistical properties of the variance, as well as single variable calculus, derive the below equation. In other words, prove that $\\alpha$ given below does indeed minimize $\\operatorname{Var}(\\alpha X+(1-\\alpha) Y)$.**\n",
    "\n",
    "$$\n",
    "\\begin{array}{c}\n",
    "\\alpha=\\frac{\\sigma_{Y}^{2}-\\sigma_{X Y}}{\\sigma_{X}^{2}+\\sigma_{Y}^{2}-2 \\sigma_{X Y}}\n",
    "\\end{array}\n",
    "$$"
   ]
  },
  {
   "cell_type": "markdown",
   "metadata": {},
   "source": [
    "We have $\\mathrm{Var}(\\alpha X + (1 - \\alpha) Y) = \\alpha^2\\sigma_X^2 + (1 - \\alpha)^2\\sigma_Y^2 + 2\\alpha(1 - \\alpha)\\sigma_{XY}$.\n",
    "We now take the fist derivative of $\\mathrm{Var}(\\alpha X + (1 - \\alpha) Y)$ relative to $\\alpha$ and we get $\\frac{\\partial}{\\partial\\alpha}\\mathrm{Var}(\\alpha X + (1 - \\alpha) Y) = 2\\alpha\\sigma_X^2 - 2\\sigma_Y^2 + 2\\alpha\\sigma_Y^2 + 2\\sigma_{XY} - 4\\alpha\\sigma_{XY}$.\n",
    "We now seek critical points by equalling the last expression to $0$, $2\\alpha\\sigma_X^2 - 2\\sigma_Y^2 + 2\\alpha\\sigma_Y^2 + 2\\sigma_{XY} - 4\\alpha\\sigma_{XY} = 0$, which implies that $\\alpha = \\frac{\\sigma_Y^2 - \\sigma_{XY}}{\\sigma_X^2 + \\sigma_Y^2 - 2\\sigma_{XY}}$.\n",
    "It remains to check that this point is in fact a minimum, this is equivalent to prove that the second derivative is positive,\n",
    "$\\frac{\\partial^2}{\\partial\\alpha^2}\\mathrm{Var}(\\alpha X + (1 - \\alpha) Y) = 2\\sigma_X^2 + 2\\sigma_Y^2 - 4\\sigma_{XY} = 2\\mathrm{Var}(X - Y)\\ge 0$."
   ]
  },
  {
   "cell_type": "markdown",
   "metadata": {},
   "source": [
    "# 2. Estimating the standard deviation of prediction (10pt)\n",
    "**Suppose that we use some statistical learning method to make a prediction for the response Y for a particular value of the predictor X. Carefully describe how we might estimate the standard deviation of our prediction.**"
   ]
  },
  {
   "cell_type": "markdown",
   "metadata": {},
   "source": [
    "Bootstrap could be used in this situation. Let the original data $Z$ contains $n$ observations, then we create $B$ bootstrap samples from the data. We choose samples from $n$ observations with replacement, for $B$ times. For each of $B$ number of datasets, we can train a supervised learning method and use it to make our estimate for the ‘particular value of $X$’. Let our bootstrap samples as $Z^{*1}, ..., Z^{*B}$ and let the standar deviations of each sample as $\\alpha^{*1}, ..., \\alpha^{*B}$. Then our estimated $\\alpha$ would be $\\frac{1}{B}\\sum_{b=1}^B\\hat{\\alpha}^{*b}$ and standard error of it would be $SE_{B}(\\hat{\\alpha})= \\sqrt{\\frac{1}{B-1}\\sum_{b=1}^B \\left(\\hat{\\alpha}^{*b} - \\frac{1}{B}\\sum_{b'=1}^B \\hat{\\alpha}^{*b'} \\right)}$. This provides the bootstrap estimate for the standard error of our estimate."
   ]
  },
  {
   "cell_type": "markdown",
   "metadata": {},
   "source": [
    "# 3. Subset selection method (15pt)"
   ]
  },
  {
   "cell_type": "markdown",
   "metadata": {},
   "source": [
    "**We perform best subset, forward stepwise, and backward stepwise selection on a single data set. For each approach, we obtain $p + 1$ models, containing $0, 1, 2,..., p$ predictors. Explain your answers:**"
   ]
  },
  {
   "cell_type": "markdown",
   "metadata": {},
   "source": [
    "**(a) Which of the three models with $k$ predictors has the smallest training RSS?**"
   ]
  },
  {
   "cell_type": "markdown",
   "metadata": {},
   "source": [
    "Best subset selection would have the smallest trainging RSS, because it tries all $p \\choose k$ combinations. Otherwise, forward and backward selections do not guarantee the smallest RSS. When performing forward stepwise selection, the model with $k$ predictors is the model with the smallest RSS among the $p−k$ models which augment the predictors in $M_{k−1}$ with one additional predictor. When performing backward stepwise selection, the model with $k$ predictors is the model with the smallest RSS among the $k$ models which contains all but one of the predictors in $M_{k+1}$."
   ]
  },
  {
   "cell_type": "markdown",
   "metadata": {},
   "source": [
    "**(b) Which of the three models with $k$ predictors has the smallest test RSS?**"
   ]
  },
  {
   "cell_type": "markdown",
   "metadata": {},
   "source": [
    "This question does not have certain answer. We can assure that best subset selection would have the smallest trainging RSS, because it tries all $p \\choose k$ combinations. However, test RSS is not predictable based on selection method."
   ]
  },
  {
   "cell_type": "markdown",
   "metadata": {},
   "source": [
    "(c) True or False:\n",
    "- i. The predictors in the k-variable model identified by forward stepwise are a subset of the predictors in the (k+1)-variable model identified by forward stepwise selection.\n",
    "- ii. The predictors in the k-variable model identified by backward stepwise are a subset of the predictors in the (k + 1)- variable model identified by backward stepwise selection.\n",
    "- iii. The predictors in the k-variable model identified by backward stepwise are a subset of the predictors in the (k + 1)- variable model identified by forward stepwise selection.\n",
    "- iv. The predictors in the k-variable model identified by forward stepwise are a subset of the predictors in the (k+1)-variable model identified by backward stepwise selection.\n",
    "- v. The predictors in the k-variable model identified by best subset are a subset of the predictors in the (k + 1)-variable model identified by best subset selection."
   ]
  },
  {
   "cell_type": "markdown",
   "metadata": {},
   "source": [
    "i. True. $M_{k+1}$ predictors is obtained by augmenting the predictors in $M_{k}$ with one additional predictor.\n",
    "ii. True. $M_{k}$ is obtained by removing one predictor (which is least likely in the model) from $M_{k+1}$.\n",
    "iii. False. We cannot say that the backward selection is the reverse step of the forward selection. There is no direct link between two processes.\n",
    "iv. False. We cannot say that the backward selection is the reverse step of the forward selection. There is no direct link between two processes.\n",
    "v. False. We cannot say that k-variable model identified by best subset are a subset of the predictors in the (k + 1)-variable model identified by best subset selection. For example, let there are three variables $x_{1}$, $x_{2}$ and $x_{3}$. Even though $M_{1}$ contains $x_{1}$, $M_{2}$ could contain $x_{2}$ and $x_{3}$."
   ]
  },
  {
   "cell_type": "markdown",
   "metadata": {},
   "source": [
    "# 4. Lasso (25pt)"
   ]
  },
  {
   "cell_type": "markdown",
   "metadata": {},
   "source": [
    "Suppose we estimate the regression coefficients in a linear regression model by minimizing\n",
    "$$\n",
    "\\sum_{i=1}^{n}\\left(y_{i}-\\beta_{0}-\\sum_{j=1}^{p} \\beta_{j} x_{i j}\\right)^{2} \\quad \\text { subject to } \\quad \\sum_{j=1}^{p}\\left|\\beta_{j}\\right| \\leq s\n",
    "$$\n",
    "for a particular value of $s$. For parts (a) through (e), indicate which of i. through v. is correct. Justify your answer."
   ]
  },
  {
   "cell_type": "markdown",
   "metadata": {},
   "source": [
    "**(a) As we increase $s$ from 0 , the training RSS will:**\n",
    "- i. Increase initially, and then eventually start decreasing in an inverted U shape.\n",
    "- ii. Decrease initially, and then eventually start increasing in a U shape.\n",
    "- iii. Steadily increase.\n",
    "- iv. Steadily decrease.\n",
    "- v . Remain constant."
   ]
  },
  {
   "cell_type": "markdown",
   "metadata": {},
   "source": [
    "Steadily decrease. Increasing s means that $\\beta_{j}$ coefficients less tends to be zero. This implies that we less penalize unnecessary variable. Hence as we increase s from 0, we are restricting the $\\beta_{j}$ coefficients less and less (the coefficients will increase to their least squares estimates), and so the model is becoming flexible which provokes a steady decrease in the training RSS."
   ]
  },
  {
   "cell_type": "markdown",
   "metadata": {},
   "source": [
    "**(b) Repeat (a) for test RSS.**"
   ]
  },
  {
   "cell_type": "markdown",
   "metadata": {},
   "source": [
    "Decrease initially, and then eventually start increasing in a U shape. Test RSS would decrease initially, but after the critical minimum (local minima) it would increases. Increasing s means that $\\beta_{j}$ coefficients less tends to be zero. This implies that we less penalize unnecessary variable. As we increase s from 0, we are less restricting the $\\beta_{j}$ coefficients (the coefficients will increase to their least squares estimates), and so the model is becoming flexible which provokes at first a decrease in the test RSS before increasing again after that in a U shape."
   ]
  },
  {
   "cell_type": "markdown",
   "metadata": {},
   "source": [
    "**(c) Repeat (a) for variance.**"
   ]
  },
  {
   "cell_type": "markdown",
   "metadata": {},
   "source": [
    "Steadily increase. Similar to part (a), increasing s from 0, we are less restricting the $\\beta_{j}$ coefficients (the coefficients will increase to their least squares estimates), and so the model is becoming flexible which provokes a steady increase in variance."
   ]
  },
  {
   "cell_type": "markdown",
   "metadata": {},
   "source": [
    "**(d) Repeat (a) for (squared) bias.**"
   ]
  },
  {
   "cell_type": "markdown",
   "metadata": {},
   "source": [
    "Steadily decrease. Due to the bias-variance trade-off, we can expect that bias would steadily decrease. Increasing s from 0, we are less restricting the $\\beta_{j}$ coefficients (the coefficients will increase to their least squares estimates), and so the model is becoming flexible. Hence, bias decreases."
   ]
  },
  {
   "cell_type": "markdown",
   "metadata": {},
   "source": [
    "**(e) Repeat (a) for the irreducible error.**"
   ]
  },
  {
   "cell_type": "markdown",
   "metadata": {},
   "source": [
    "Remain constant. The irreducible error is just a noise, so does not depent on the model. Hence the coefficient restriction will not affect it at all."
   ]
  },
  {
   "cell_type": "markdown",
   "metadata": {},
   "source": [
    "# 5. Ridge regression (25pt)"
   ]
  },
  {
   "cell_type": "markdown",
   "metadata": {},
   "source": [
    "Suppose we estimate the regression coefficients in a linear regression model by minimizing\n",
    "$$\n",
    "\\sum_{i=1}^{n}\\left(y_{i}-\\beta_{0}-\\sum_{j=1}^{p} \\beta_{j} x_{i j}\\right)^{2}+\\lambda \\sum_{j=1}^{p} \\beta_{j}^{2}\n",
    "$$\n",
    "for a particular value of $\\lambda$. For parts (a) through (e), indicate which of i. through $\\mathrm{v}$. is correct. Justify your answer."
   ]
  },
  {
   "cell_type": "markdown",
   "metadata": {},
   "source": [
    "**(a) As we increase $\\lambda$ from 0 , the training RSS will:**\n",
    "- i. Increase initially, and then eventually start decreasing in an inverted U shape.\n",
    "- ii. Decrease initially, and then eventually start increasing in a U shape.\n",
    "- iii. Steadily increase.\n",
    "- iv. Steadily decrease.\n",
    "- v. Remain constant."
   ]
  },
  {
   "cell_type": "markdown",
   "metadata": {},
   "source": [
    "Steadily increase. Increasing $\\lambda$ means that $\\beta_{j}$ coefficients tends to be zero. This implies that we penalize unnecessary variable more. Hence, as we increase $\\lambda$ from 0, we are restricting the $\\beta_{j}$ coefficients more (the coefficients will decrease to their least squares estimates), and so the model is becoming inflexible which makes a steady increase in the training RSS."
   ]
  },
  {
   "cell_type": "markdown",
   "metadata": {},
   "source": [
    "**(b) Repeat (a) for test RSS.**"
   ]
  },
  {
   "cell_type": "markdown",
   "metadata": {},
   "source": [
    "Decrease initially, and then eventually start increasing in a U shape. Test RSS would decrease initially, but after the critical minimum (local minima) it would increases. Increasing $\\lambda$ means that $\\beta_{j}$ coefficients tends to be zero. This implies that we penalize unnecessary variable more. Hence, as we increase $\\lambda$ from 0, we are restricting the $\\beta_{j}$ coefficients more (the coefficients will decrease to their least squares estimates), and so the model is becoming inflexible which makes, at first a decrease in the test RSS before increasing again after that in a U shape."
   ]
  },
  {
   "cell_type": "markdown",
   "metadata": {},
   "source": [
    "**(c) Repeat (a) for variance.**"
   ]
  },
  {
   "cell_type": "markdown",
   "metadata": {},
   "source": [
    "Steadily decrease. Increasing $\\lambda$ from 0, we are more restricting the $\\beta_{j}$ coefficients (the coefficients will deviate from their least squares estimates), and so the model is becoming inflexible which makes a steady decrease in variance."
   ]
  },
  {
   "cell_type": "markdown",
   "metadata": {},
   "source": [
    "**(d) Repeat (a) for (squared) bias.**"
   ]
  },
  {
   "cell_type": "markdown",
   "metadata": {},
   "source": [
    "Steadily increase. Due to the bias-variance trade-off, we can expect that bias would steadily increase. Increasing $\\lambda$ from 0, we are more restricting the $\\beta_{j}$ coefficients (the coefficients will deviate from their least squares estimates), and so the model is becoming inflexible which makes a steady increase in bias."
   ]
  },
  {
   "cell_type": "markdown",
   "metadata": {},
   "source": [
    "**(e) Repeat (a) for the irreducible error.**"
   ]
  },
  {
   "cell_type": "markdown",
   "metadata": {},
   "source": [
    "Remain constant. The irreducible error is just a noise, so does not depent on the model. Hence the coefficient restriction will not affect it at all."
   ]
  },
  {
   "cell_type": "markdown",
   "metadata": {},
   "source": [
    "# Programming questions"
   ]
  },
  {
   "cell_type": "markdown",
   "metadata": {},
   "source": [
    "# 6. Validation Set Approach (20pt)"
   ]
  },
  {
   "cell_type": "markdown",
   "metadata": {},
   "source": [
    "In Chapter 4, we used logistic regression to predict the probability of ````default```` using ````income```` and ````balance```` on the ````Default```` data set. We will now estimate the test error of this logistic regression model using the validation set approach. Do not forget to set a random seed before beginning your analysis."
   ]
  },
  {
   "cell_type": "code",
   "execution_count": 1,
   "metadata": {},
   "outputs": [
    {
     "data": {
      "text/html": [
       "<div>\n",
       "<style scoped>\n",
       "    .dataframe tbody tr th:only-of-type {\n",
       "        vertical-align: middle;\n",
       "    }\n",
       "\n",
       "    .dataframe tbody tr th {\n",
       "        vertical-align: top;\n",
       "    }\n",
       "\n",
       "    .dataframe thead th {\n",
       "        text-align: right;\n",
       "    }\n",
       "</style>\n",
       "<table border=\"1\" class=\"dataframe\">\n",
       "  <thead>\n",
       "    <tr style=\"text-align: right;\">\n",
       "      <th></th>\n",
       "      <th>default</th>\n",
       "      <th>student</th>\n",
       "      <th>balance</th>\n",
       "      <th>income</th>\n",
       "    </tr>\n",
       "  </thead>\n",
       "  <tbody>\n",
       "    <tr>\n",
       "      <th>1</th>\n",
       "      <td>No</td>\n",
       "      <td>No</td>\n",
       "      <td>729.526495</td>\n",
       "      <td>44361.62507</td>\n",
       "    </tr>\n",
       "    <tr>\n",
       "      <th>2</th>\n",
       "      <td>No</td>\n",
       "      <td>Yes</td>\n",
       "      <td>817.180407</td>\n",
       "      <td>12106.13470</td>\n",
       "    </tr>\n",
       "    <tr>\n",
       "      <th>3</th>\n",
       "      <td>No</td>\n",
       "      <td>No</td>\n",
       "      <td>1073.549164</td>\n",
       "      <td>31767.13895</td>\n",
       "    </tr>\n",
       "    <tr>\n",
       "      <th>4</th>\n",
       "      <td>No</td>\n",
       "      <td>No</td>\n",
       "      <td>529.250605</td>\n",
       "      <td>35704.49394</td>\n",
       "    </tr>\n",
       "    <tr>\n",
       "      <th>5</th>\n",
       "      <td>No</td>\n",
       "      <td>No</td>\n",
       "      <td>785.655883</td>\n",
       "      <td>38463.49588</td>\n",
       "    </tr>\n",
       "  </tbody>\n",
       "</table>\n",
       "</div>"
      ],
      "text/plain": [
       "  default student      balance       income\n",
       "1      No      No   729.526495  44361.62507\n",
       "2      No     Yes   817.180407  12106.13470\n",
       "3      No      No  1073.549164  31767.13895\n",
       "4      No      No   529.250605  35704.49394\n",
       "5      No      No   785.655883  38463.49588"
      ]
     },
     "execution_count": 1,
     "metadata": {},
     "output_type": "execute_result"
    }
   ],
   "source": [
    "import numpy as np\n",
    "import pandas as pd\n",
    "import matplotlib.pyplot as plt\n",
    "from sklearn.linear_model import LogisticRegression, LinearRegression\n",
    "from sklearn.model_selection import train_test_split, cross_val_score, LeaveOneOut, KFold\n",
    "from sklearn.preprocessing import OneHotEncoder, PolynomialFeatures\n",
    "from sklearn.pipeline import Pipeline\n",
    "from sklearn.compose import ColumnTransformer\n",
    "from sklearn.utils import resample\n",
    "from sklearn.metrics import mean_squared_error\n",
    "\n",
    "# print numpy arrays with precision 4\n",
    "np.set_printoptions(precision=4)\n",
    "\n",
    "df = pd.read_csv('data/Default.csv',index_col=0)\n",
    "df.head()"
   ]
  },
  {
   "cell_type": "markdown",
   "metadata": {},
   "source": [
    "**(a) Fit a logistic regression model that uses ````income```` and ````balance```` to predict ````default````.**"
   ]
  },
  {
   "cell_type": "code",
   "execution_count": 2,
   "metadata": {},
   "outputs": [
    {
     "data": {
      "text/plain": [
       "array([[5.6471e-03, 2.0809e-05]])"
      ]
     },
     "execution_count": 2,
     "metadata": {},
     "output_type": "execute_result"
    }
   ],
   "source": [
    "X = df[[\"balance\", \"income\"]]\n",
    "y = df[\"default\"]\n",
    "ols_sklearn = LogisticRegression(penalty = \"none\", solver = \"lbfgs\")\n",
    "ols_sklearn.fit(X, y)\n",
    "ols_sklearn.coef_"
   ]
  },
  {
   "cell_type": "markdown",
   "metadata": {},
   "source": [
    "**(b) Using the validation set approach, estimate the test error of this model. In order to do this, you must perform the following steps:**\n",
    "- i. Split the sample set into a training set and a validation set (75%:25%).\n",
    "- ii. Fit a multiple logistic regression model using only the training observations.\n",
    "- iii. Obtain a prediction of default status for each individual in the validation set by computing the posterior probability of default for that individual, and classifying the individual to the ````default```` category if the posterior probability is greater than 0.5.\n",
    "- iv. Compute the validation set error, which is the fraction of the observations in the validation set that are misclassified."
   ]
  },
  {
   "cell_type": "code",
   "execution_count": 3,
   "metadata": {},
   "outputs": [
    {
     "data": {
      "text/plain": [
       "0.02839999999999998"
      ]
     },
     "execution_count": 3,
     "metadata": {},
     "output_type": "execute_result"
    }
   ],
   "source": [
    "X_train, X_test, y_train, y_test = train_test_split(df[[\"balance\", \"income\"]], df[\"default\"], test_size = 0.25, random_state = 312)\n",
    "ols_sklearn = LogisticRegression(penalty = \"none\", solver = \"lbfgs\")\n",
    "ols_sklearn.fit(X_train, y_train)\n",
    "1 - ols_sklearn.score(X_test, y_test)"
   ]
  },
  {
   "cell_type": "markdown",
   "metadata": {},
   "source": [
    "For this train-test split, we had a validation set error of 0.0284, or 2.84% of the observations in the validation set that are misclassified."
   ]
  },
  {
   "cell_type": "markdown",
   "metadata": {},
   "source": [
    "**(c) Repeat the process in (b) three times, using three different splits of the observations into a training set and a validation set. Comment on the results obtained.**"
   ]
  },
  {
   "cell_type": "code",
   "execution_count": 4,
   "metadata": {},
   "outputs": [
    {
     "data": {
      "text/plain": [
       "0.03200000000000003"
      ]
     },
     "execution_count": 4,
     "metadata": {},
     "output_type": "execute_result"
    }
   ],
   "source": [
    "X_train, X_test, y_train, y_test = train_test_split(df[[\"balance\", \"income\"]], df[\"default\"], test_size = 0.25, random_state = 456)\n",
    "ols_sklearn = LogisticRegression(penalty = \"none\", solver = \"lbfgs\")\n",
    "ols_sklearn.fit(X_train, y_train)\n",
    "1 - ols_sklearn.score(X_test, y_test)"
   ]
  },
  {
   "cell_type": "code",
   "execution_count": 5,
   "metadata": {},
   "outputs": [
    {
     "data": {
      "text/plain": [
       "0.034399999999999986"
      ]
     },
     "execution_count": 5,
     "metadata": {},
     "output_type": "execute_result"
    }
   ],
   "source": [
    "X_train, X_test, y_train, y_test = train_test_split(df[[\"balance\", \"income\"]], df[\"default\"], test_size = 0.25, random_state = 789)                                                   \n",
    "ols_sklearn = LogisticRegression(penalty = \"none\", solver = \"lbfgs\")\n",
    "ols_sklearn.fit(X_train, y_train)\n",
    "1 - ols_sklearn.score(X_test, y_test)"
   ]
  },
  {
   "cell_type": "code",
   "execution_count": 6,
   "metadata": {},
   "outputs": [
    {
     "data": {
      "text/plain": [
       "0.031200000000000006"
      ]
     },
     "execution_count": 6,
     "metadata": {},
     "output_type": "execute_result"
    }
   ],
   "source": [
    "X_train, X_test, y_train, y_test = train_test_split(df[[\"balance\", \"income\"]], df[\"default\"],  test_size = 0.25, random_state = 314159)\n",
    "ols_sklearn = LogisticRegression(penalty = \"none\", solver = \"lbfgs\")\n",
    "ols_sklearn.fit(X_train, y_train)\n",
    "1 - ols_sklearn.score(X_test, y_test)"
   ]
  },
  {
   "cell_type": "code",
   "execution_count": 7,
   "metadata": {},
   "outputs": [
    {
     "data": {
      "text/plain": [
       "0.0333"
      ]
     },
     "execution_count": 7,
     "metadata": {},
     "output_type": "execute_result"
    }
   ],
   "source": [
    "(df[\"default\"] != \"No\").mean()"
   ]
  },
  {
   "cell_type": "markdown",
   "metadata": {},
   "source": [
    "**(d) Now consider a logistic regression model that predicts the probability of ````default```` using ````income````, ````balance````, and a dummy variable for ````student````. Estimate the test error for this model using the validation set approach. Comment on whether or not including a dummy variable for ````student```` leads to a reduction in the test error rate.**"
   ]
  },
  {
   "cell_type": "code",
   "execution_count": 8,
   "metadata": {},
   "outputs": [
    {
     "data": {
      "text/plain": [
       "0.0021280000000000075"
      ]
     },
     "execution_count": 8,
     "metadata": {},
     "output_type": "execute_result"
    }
   ],
   "source": [
    "np.random.seed(312)\n",
    "with_student = {}\n",
    "without_student = {}\n",
    "\n",
    "# Create two classifier pipelines\n",
    "# with_student takes the student variable and encodes it using one hot encoding, passes through income, balance\n",
    "# without_student drops the student variable and only passes through income and balance\n",
    "categorical_features = [\"student\"]\n",
    "categorical_transformer = Pipeline([(\"onehot\", OneHotEncoder(drop = \"first\"))])\n",
    "numerical_features = [\"income\", \"balance\"]\n",
    "with_student_preprocessor = ColumnTransformer([(\"cat\", categorical_transformer, categorical_features), (\"num\", \"passthrough\", numerical_features)])\n",
    "with_student_clf = Pipeline([(\"preprocessor\", with_student_preprocessor), (\"classifier\", LogisticRegression(penalty = \"none\", solver = \"lbfgs\"))])              \n",
    "without_student_preprocessor = ColumnTransformer([(\"num\", \"passthrough\", numerical_features)])\n",
    "without_student_clf = Pipeline([(\"preprocessor\", without_student_preprocessor), (\"classifier\", LogisticRegression(penalty = \"none\", solver = \"lbfgs\"))])\n",
    "                \n",
    "# Loop through 50 train-test splits to compute average difference in error rate\n",
    "for i in range(50):\n",
    "    # Split the data in to training and test sets\n",
    "    X_train, X_test, y_train, y_test = train_test_split(df, df[\"default\"], test_size = 0.25)\n",
    "    # Fit classifier which includes student variable and compute validation set error\n",
    "    with_student_clf.fit(X_train, y_train)\n",
    "    with_student[i] = 1 - with_student_clf.score(X_test, y_test)\n",
    "    # Fit classifier which excludes student variable and compute validation set error\n",
    "    without_student_clf.fit(X_train, y_train)\n",
    "    without_student[i] = 1 - without_student_clf.score(X_test, y_test)\n",
    "errors = pd.DataFrame({\"with_student\": with_student, \"without_student\": without_student})\n",
    "errors[\"difference\"] = errors[\"with_student\"] - errors[\"without_student\"]\n",
    "errors[\"difference\"].mean()"
   ]
  },
  {
   "cell_type": "markdown",
   "metadata": {},
   "source": [
    "# 7. Leave-one-out cross validation (LOOCV) (25pt)"
   ]
  },
  {
   "cell_type": "markdown",
   "metadata": {},
   "source": [
    "**Compute the LOOCV error for a simple logistic regression model on the Weekly data set.**"
   ]
  },
  {
   "cell_type": "code",
   "execution_count": 9,
   "metadata": {},
   "outputs": [],
   "source": [
    "weekly = pd.read_csv(\"data/Weekly.csv\")\n",
    "X = weekly[['Lag1', 'Lag2']]\n",
    "y = weekly['Direction']"
   ]
  },
  {
   "cell_type": "markdown",
   "metadata": {},
   "source": [
    "(a) Fit a logistic regression model that predicts ````Direction```` using ````Lag1```` and ````Lag2````."
   ]
  },
  {
   "cell_type": "code",
   "execution_count": 10,
   "metadata": {},
   "outputs": [
    {
     "name": "stdout",
     "output_type": "stream",
     "text": [
      "[[-0.0387  0.0602]] [0.2212]\n"
     ]
    }
   ],
   "source": [
    "ols_sklearn = LogisticRegression(penalty = \"none\", solver = \"lbfgs\")\n",
    "ols_sklearn.fit(X, y)\n",
    "print(ols_sklearn.coef_, ols_sklearn.intercept_)"
   ]
  },
  {
   "cell_type": "markdown",
   "metadata": {},
   "source": [
    "(b) Fit a logistic regressionmodel that predicts ````Direction```` using ````Lag1```` and ````Lag2```` using all but the first observation."
   ]
  },
  {
   "cell_type": "code",
   "execution_count": 11,
   "metadata": {},
   "outputs": [
    {
     "name": "stdout",
     "output_type": "stream",
     "text": [
      "[[-0.0384  0.0608]] [0.2232]\n"
     ]
    }
   ],
   "source": [
    "X_loo = weekly.loc[weekly.index != 0, [\"Lag1\", \"Lag2\"]]\n",
    "y_loo = weekly.loc[weekly.index != 0, \"Direction\"]\n",
    "ols_sklearn = LogisticRegression(penalty = \"none\", solver = \"lbfgs\")\n",
    "ols_sklearn.fit(X_loo, y_loo)\n",
    "print(ols_sklearn.coef_, ols_sklearn.intercept_)"
   ]
  },
  {
   "cell_type": "markdown",
   "metadata": {},
   "source": [
    "(c) Use the model from (b) to predict the direction of the first observation. You can do this by predicting that the first observation will go up if $P(Direction=\"Up\"|Lag1, Lag2) > 0.5$. Was this observation correctly classified?"
   ]
  },
  {
   "cell_type": "code",
   "execution_count": 12,
   "metadata": {},
   "outputs": [
    {
     "data": {
      "text/plain": [
       "array([[0.4286, 0.5714]])"
      ]
     },
     "execution_count": 12,
     "metadata": {},
     "output_type": "execute_result"
    }
   ],
   "source": [
    "ols_sklearn.predict_proba(weekly.loc[0, [\"Lag1\", \"Lag2\"]].to_frame().T)"
   ]
  },
  {
   "cell_type": "code",
   "execution_count": 13,
   "metadata": {},
   "outputs": [
    {
     "data": {
      "text/plain": [
       "array(['Up'], dtype=object)"
      ]
     },
     "execution_count": 13,
     "metadata": {},
     "output_type": "execute_result"
    }
   ],
   "source": [
    "ols_sklearn.predict(weekly.loc[0, [\"Lag1\", \"Lag2\"]].to_frame().T)"
   ]
  },
  {
   "cell_type": "markdown",
   "metadata": {},
   "source": [
    "Using the model from Part 2, we predict that the first observation will go up, since the predicted posterior probability from the model is 0.4286 that the direction will be down and 0.5714 that the direction will be up. This observation was incorrectly classified."
   ]
  },
  {
   "cell_type": "markdown",
   "metadata": {},
   "source": [
    "(d) Write a for loop from $i = 1$ to $i = n$, where $n$ is the number of observations in the data set, that performs each of the following steps:\n",
    "- i. Fit a logistic regression model using all but the ith observation to predict ````Direction```` using ````Lag1```` and ````Lag2````.\n",
    "- ii. Compute the posterior probability of the market moving up for the ith observation.\n",
    "- iii. Use the posterior probability for the ith observation in order to predict whether or not the market moves up.\n",
    "- iv. Determine whether or not an error was made in predicting the direction for the ith observation. If an error was made, then indicate this as a 1, and otherwise indicate it as a 0."
   ]
  },
  {
   "cell_type": "code",
   "execution_count": 14,
   "metadata": {},
   "outputs": [],
   "source": [
    "n = weekly.shape[0]\n",
    "scores = np.empty(n)\n",
    "ols_sklearn = LogisticRegression(penalty = \"none\", solver = \"lbfgs\")\n",
    "for i in range(n):\n",
    "    X_loo = weekly.loc[weekly.index != i, [\"Lag1\", \"Lag2\"]]\n",
    "    y_loo = weekly.loc[weekly.index != i, \"Direction\"]\n",
    "    ols_sklearn.fit(X_loo, y_loo)\n",
    "    scores[i] = ols_sklearn.score(weekly.loc[i, [\"Lag1\", \"Lag2\"]].to_frame().T, pd.Series(weekly.loc[i, \"Direction\"]))"
   ]
  },
  {
   "cell_type": "markdown",
   "metadata": {},
   "source": [
    "(e) Take the average of the $n$ numbers obtained in (d)iv in order to obtain the LOOCV estimate for the test error. Comment on the results."
   ]
  },
  {
   "cell_type": "code",
   "execution_count": 15,
   "metadata": {},
   "outputs": [
    {
     "data": {
      "text/plain": [
       "0.5500459136822773"
      ]
     },
     "execution_count": 15,
     "metadata": {},
     "output_type": "execute_result"
    }
   ],
   "source": [
    "scores.mean()"
   ]
  },
  {
   "cell_type": "code",
   "execution_count": 16,
   "metadata": {},
   "outputs": [
    {
     "data": {
      "text/plain": [
       "0.44995408631772266"
      ]
     },
     "execution_count": 16,
     "metadata": {},
     "output_type": "execute_result"
    }
   ],
   "source": [
    "errors = 1 - scores\n",
    "errors.mean()"
   ]
  },
  {
   "cell_type": "code",
   "execution_count": 17,
   "metadata": {},
   "outputs": [
    {
     "data": {
      "text/plain": [
       "0.5500459136822773"
      ]
     },
     "execution_count": 17,
     "metadata": {},
     "output_type": "execute_result"
    }
   ],
   "source": [
    "X = weekly[[\"Lag1\", \"Lag2\"]]\n",
    "y = weekly[\"Direction\"]\n",
    "ols_sklearn = LogisticRegression(penalty = \"none\", solver = \"lbfgs\")\n",
    "loo = LeaveOneOut()\n",
    "cv_scores = cross_val_score(ols_sklearn, X, y, cv = loo)\n",
    "cv_scores.mean()"
   ]
  },
  {
   "cell_type": "code",
   "execution_count": 18,
   "metadata": {},
   "outputs": [
    {
     "data": {
      "text/plain": [
       "0.4499540863177227"
      ]
     },
     "execution_count": 18,
     "metadata": {},
     "output_type": "execute_result"
    }
   ],
   "source": [
    "1 - cv_scores.mean()"
   ]
  },
  {
   "cell_type": "code",
   "execution_count": 19,
   "metadata": {},
   "outputs": [
    {
     "data": {
      "text/plain": [
       "0.4444444444444444"
      ]
     },
     "execution_count": 19,
     "metadata": {},
     "output_type": "execute_result"
    }
   ],
   "source": [
    "(weekly[\"Direction\"] != \"Up\").mean()"
   ]
  },
  {
   "cell_type": "markdown",
   "metadata": {},
   "source": [
    "The LOOCV estimate for the test error is approximately 0.45, which matches the value we get if we use cross_val_score() with the LeaveOneOut() splitter to compute the error. This tells us that the logistic regression model using Lag1 and Lag2 to predict Direction by using a probability threshold of 0.5 performed a bit better than randomly guessing. However, it is important to note that we get essentially the same error rate with a naive strategy of predicting that the market will go up every week.\n",
    "\n",
    "Note that when using cross_val_score to compute the LOOCV test error, it computes scores using the score() function associated with the estimator class by default. In the case of logistic regression with two classes, this is the accuracy score computed using a posterior probability threshold of 0.5. However, it is important to note that performing classification using logistic regression like we have done in this chapter involves choosing a probability threshold for assigning class predictions, based on the posterior probabilities predicted by the logistic regresion model. Since on its own logistic regression is not a classification method, we may wish to instead compute scores/errors associated with the posterior probabilities instead. To do that, we should either pick one of the scorers or metrics as discussed in the scikit-learn documentation and supply that for the scoring argument."
   ]
  },
  {
   "cell_type": "markdown",
   "metadata": {},
   "source": [
    "# 8. Shrinkage methods + Dimension reduction (35pt)"
   ]
  },
  {
   "cell_type": "markdown",
   "metadata": {},
   "source": [
    "In this exercise, we will predict the number of applications received using the other variables in the ````College```` data set."
   ]
  },
  {
   "cell_type": "markdown",
   "metadata": {},
   "source": [
    "**(a) Split the data set into a training set and a test set.**"
   ]
  },
  {
   "cell_type": "code",
   "execution_count": 20,
   "metadata": {},
   "outputs": [],
   "source": [
    "college = pd.read_csv(\"data/College.csv\")\n",
    "college = college.rename(columns={'Unnamed: 0': 'Name'})\n",
    "college['Private'] = college['Private'].map({'Yes': 1, 'No': 0})\n",
    "msk = np.random.rand(len(college)) < 0.8\n",
    "train = college[msk]\n",
    "test = college[~msk]"
   ]
  },
  {
   "cell_type": "markdown",
   "metadata": {},
   "source": [
    "**(b) Fit a linear model using least squares on the training set, and report the test error obtained.**"
   ]
  },
  {
   "cell_type": "code",
   "execution_count": 21,
   "metadata": {},
   "outputs": [
    {
     "name": "stdout",
     "output_type": "stream",
     "text": [
      "Test Error: 762351.0764267098\n"
     ]
    }
   ],
   "source": [
    "from sklearn.linear_model import LinearRegression\n",
    "from sklearn.metrics import mean_squared_error\n",
    "\n",
    "model = LinearRegression(fit_intercept=True)\n",
    "model.fit(train.drop(['Name', 'Apps'], axis=1), train['Apps'])\n",
    "predictions = model.predict(test.drop(['Name', 'Apps'], axis=1))\n",
    "\n",
    "print(\"Test Error: \" +str(mean_squared_error(test['Apps'], predictions)))"
   ]
  },
  {
   "cell_type": "markdown",
   "metadata": {},
   "source": [
    "**(c) Fit a ridge regression model on the training set, with $\\lambda$ chosen by cross-validation. Report the test error obtained.**"
   ]
  },
  {
   "cell_type": "code",
   "execution_count": 22,
   "metadata": {},
   "outputs": [
    {
     "name": "stdout",
     "output_type": "stream",
     "text": [
      "Test Error: 765426.9283435798\n"
     ]
    }
   ],
   "source": [
    "from sklearn.linear_model import RidgeCV\n",
    "\n",
    "n_alphas = 200\n",
    "alphas = np.logspace(-10, 2, n_alphas)\n",
    "# Leave one out cross-validation\n",
    "model = RidgeCV(alphas=alphas, fit_intercept=True, cv=None, store_cv_values=True)\n",
    "model.fit(train.drop(['Name', 'Apps'], axis=1), train['Apps'])\n",
    "\n",
    "predictions = model.predict(test.drop(['Name', 'Apps'], axis=1))\n",
    "print(\"Test Error: \" +str(mean_squared_error(test['Apps'], predictions)))"
   ]
  },
  {
   "cell_type": "markdown",
   "metadata": {},
   "source": [
    "**(d) Fit a lasso model on the training set, with $\\lambda$ chosen by crossvalidation. Report the test error obtained, along with the number of non-zero coefficient estimates.**"
   ]
  },
  {
   "cell_type": "code",
   "execution_count": 23,
   "metadata": {},
   "outputs": [
    {
     "name": "stderr",
     "output_type": "stream",
     "text": [
      "C:\\Users\\Mark Mintae Kim\\anaconda3\\lib\\site-packages\\sklearn\\linear_model\\_coordinate_descent.py:525: ConvergenceWarning: Objective did not converge. You might want to increase the number of iterations. Duality gap: 163293275.55332994, tolerance: 917027.6410419678\n",
      "  model = cd_fast.enet_coordinate_descent_gram(\n",
      "C:\\Users\\Mark Mintae Kim\\anaconda3\\lib\\site-packages\\sklearn\\linear_model\\_coordinate_descent.py:525: ConvergenceWarning: Objective did not converge. You might want to increase the number of iterations. Duality gap: 174333534.61943668, tolerance: 917027.6410419678\n",
      "  model = cd_fast.enet_coordinate_descent_gram(\n",
      "C:\\Users\\Mark Mintae Kim\\anaconda3\\lib\\site-packages\\sklearn\\linear_model\\_coordinate_descent.py:525: ConvergenceWarning: Objective did not converge. You might want to increase the number of iterations. Duality gap: 184458144.064299, tolerance: 917027.6410419678\n",
      "  model = cd_fast.enet_coordinate_descent_gram(\n",
      "C:\\Users\\Mark Mintae Kim\\anaconda3\\lib\\site-packages\\sklearn\\linear_model\\_coordinate_descent.py:525: ConvergenceWarning: Objective did not converge. You might want to increase the number of iterations. Duality gap: 132301594.3141852, tolerance: 917027.6410419678\n",
      "  model = cd_fast.enet_coordinate_descent_gram(\n",
      "C:\\Users\\Mark Mintae Kim\\anaconda3\\lib\\site-packages\\sklearn\\linear_model\\_coordinate_descent.py:525: ConvergenceWarning: Objective did not converge. You might want to increase the number of iterations. Duality gap: 195900431.3636192, tolerance: 917027.6410419678\n",
      "  model = cd_fast.enet_coordinate_descent_gram(\n",
      "C:\\Users\\Mark Mintae Kim\\anaconda3\\lib\\site-packages\\sklearn\\linear_model\\_coordinate_descent.py:525: ConvergenceWarning: Objective did not converge. You might want to increase the number of iterations. Duality gap: 190230193.09195817, tolerance: 917027.6410419678\n",
      "  model = cd_fast.enet_coordinate_descent_gram(\n",
      "C:\\Users\\Mark Mintae Kim\\anaconda3\\lib\\site-packages\\sklearn\\linear_model\\_coordinate_descent.py:525: ConvergenceWarning: Objective did not converge. You might want to increase the number of iterations. Duality gap: 232191787.4101969, tolerance: 917027.6410419678\n",
      "  model = cd_fast.enet_coordinate_descent_gram(\n",
      "C:\\Users\\Mark Mintae Kim\\anaconda3\\lib\\site-packages\\sklearn\\linear_model\\_coordinate_descent.py:525: ConvergenceWarning: Objective did not converge. You might want to increase the number of iterations. Duality gap: 250838305.3634587, tolerance: 917027.6410419678\n",
      "  model = cd_fast.enet_coordinate_descent_gram(\n",
      "C:\\Users\\Mark Mintae Kim\\anaconda3\\lib\\site-packages\\sklearn\\linear_model\\_coordinate_descent.py:525: ConvergenceWarning: Objective did not converge. You might want to increase the number of iterations. Duality gap: 251493194.35928988, tolerance: 917027.6410419678\n",
      "  model = cd_fast.enet_coordinate_descent_gram(\n",
      "C:\\Users\\Mark Mintae Kim\\anaconda3\\lib\\site-packages\\sklearn\\linear_model\\_coordinate_descent.py:525: ConvergenceWarning: Objective did not converge. You might want to increase the number of iterations. Duality gap: 294967074.3887361, tolerance: 917027.6410419678\n",
      "  model = cd_fast.enet_coordinate_descent_gram(\n",
      "C:\\Users\\Mark Mintae Kim\\anaconda3\\lib\\site-packages\\sklearn\\linear_model\\_coordinate_descent.py:525: ConvergenceWarning: Objective did not converge. You might want to increase the number of iterations. Duality gap: 265953103.07332528, tolerance: 917027.6410419678\n",
      "  model = cd_fast.enet_coordinate_descent_gram(\n",
      "C:\\Users\\Mark Mintae Kim\\anaconda3\\lib\\site-packages\\sklearn\\linear_model\\_coordinate_descent.py:525: ConvergenceWarning: Objective did not converge. You might want to increase the number of iterations. Duality gap: 271924588.3962535, tolerance: 917027.6410419678\n",
      "  model = cd_fast.enet_coordinate_descent_gram(\n",
      "C:\\Users\\Mark Mintae Kim\\anaconda3\\lib\\site-packages\\sklearn\\linear_model\\_coordinate_descent.py:525: ConvergenceWarning: Objective did not converge. You might want to increase the number of iterations. Duality gap: 281787280.67981064, tolerance: 917027.6410419678\n",
      "  model = cd_fast.enet_coordinate_descent_gram(\n",
      "C:\\Users\\Mark Mintae Kim\\anaconda3\\lib\\site-packages\\sklearn\\linear_model\\_coordinate_descent.py:525: ConvergenceWarning: Objective did not converge. You might want to increase the number of iterations. Duality gap: 294987378.4731136, tolerance: 917027.6410419678\n",
      "  model = cd_fast.enet_coordinate_descent_gram(\n",
      "C:\\Users\\Mark Mintae Kim\\anaconda3\\lib\\site-packages\\sklearn\\linear_model\\_coordinate_descent.py:525: ConvergenceWarning: Objective did not converge. You might want to increase the number of iterations. Duality gap: 289375469.5638378, tolerance: 917027.6410419678\n",
      "  model = cd_fast.enet_coordinate_descent_gram(\n",
      "C:\\Users\\Mark Mintae Kim\\anaconda3\\lib\\site-packages\\sklearn\\linear_model\\_coordinate_descent.py:525: ConvergenceWarning: Objective did not converge. You might want to increase the number of iterations. Duality gap: 298200113.2999725, tolerance: 917027.6410419678\n",
      "  model = cd_fast.enet_coordinate_descent_gram(\n",
      "C:\\Users\\Mark Mintae Kim\\anaconda3\\lib\\site-packages\\sklearn\\linear_model\\_coordinate_descent.py:525: ConvergenceWarning: Objective did not converge. You might want to increase the number of iterations. Duality gap: 301308308.1155928, tolerance: 917027.6410419678\n",
      "  model = cd_fast.enet_coordinate_descent_gram(\n",
      "C:\\Users\\Mark Mintae Kim\\anaconda3\\lib\\site-packages\\sklearn\\linear_model\\_coordinate_descent.py:525: ConvergenceWarning: Objective did not converge. You might want to increase the number of iterations. Duality gap: 297562596.9791132, tolerance: 917027.6410419678\n",
      "  model = cd_fast.enet_coordinate_descent_gram(\n",
      "C:\\Users\\Mark Mintae Kim\\anaconda3\\lib\\site-packages\\sklearn\\linear_model\\_coordinate_descent.py:525: ConvergenceWarning: Objective did not converge. You might want to increase the number of iterations. Duality gap: 56519425.3467868, tolerance: 909630.9519504018\n",
      "  model = cd_fast.enet_coordinate_descent_gram(\n",
      "C:\\Users\\Mark Mintae Kim\\anaconda3\\lib\\site-packages\\sklearn\\linear_model\\_coordinate_descent.py:525: ConvergenceWarning: Objective did not converge. You might want to increase the number of iterations. Duality gap: 161336412.9199168, tolerance: 909630.9519504018\n",
      "  model = cd_fast.enet_coordinate_descent_gram(\n",
      "C:\\Users\\Mark Mintae Kim\\anaconda3\\lib\\site-packages\\sklearn\\linear_model\\_coordinate_descent.py:525: ConvergenceWarning: Objective did not converge. You might want to increase the number of iterations. Duality gap: 186897708.12913913, tolerance: 909630.9519504018\n",
      "  model = cd_fast.enet_coordinate_descent_gram(\n",
      "C:\\Users\\Mark Mintae Kim\\anaconda3\\lib\\site-packages\\sklearn\\linear_model\\_coordinate_descent.py:525: ConvergenceWarning: Objective did not converge. You might want to increase the number of iterations. Duality gap: 94702650.10288596, tolerance: 909630.9519504018\n",
      "  model = cd_fast.enet_coordinate_descent_gram(\n",
      "C:\\Users\\Mark Mintae Kim\\anaconda3\\lib\\site-packages\\sklearn\\linear_model\\_coordinate_descent.py:525: ConvergenceWarning: Objective did not converge. You might want to increase the number of iterations. Duality gap: 160900180.32572114, tolerance: 909630.9519504018\n",
      "  model = cd_fast.enet_coordinate_descent_gram(\n",
      "C:\\Users\\Mark Mintae Kim\\anaconda3\\lib\\site-packages\\sklearn\\linear_model\\_coordinate_descent.py:525: ConvergenceWarning: Objective did not converge. You might want to increase the number of iterations. Duality gap: 130814059.08358085, tolerance: 909630.9519504018\n",
      "  model = cd_fast.enet_coordinate_descent_gram(\n",
      "C:\\Users\\Mark Mintae Kim\\anaconda3\\lib\\site-packages\\sklearn\\linear_model\\_coordinate_descent.py:525: ConvergenceWarning: Objective did not converge. You might want to increase the number of iterations. Duality gap: 154807013.1235395, tolerance: 909630.9519504018\n",
      "  model = cd_fast.enet_coordinate_descent_gram(\n",
      "C:\\Users\\Mark Mintae Kim\\anaconda3\\lib\\site-packages\\sklearn\\linear_model\\_coordinate_descent.py:525: ConvergenceWarning: Objective did not converge. You might want to increase the number of iterations. Duality gap: 216912431.06591254, tolerance: 909630.9519504018\n",
      "  model = cd_fast.enet_coordinate_descent_gram(\n",
      "C:\\Users\\Mark Mintae Kim\\anaconda3\\lib\\site-packages\\sklearn\\linear_model\\_coordinate_descent.py:525: ConvergenceWarning: Objective did not converge. You might want to increase the number of iterations. Duality gap: 225354725.01237893, tolerance: 909630.9519504018\n",
      "  model = cd_fast.enet_coordinate_descent_gram(\n",
      "C:\\Users\\Mark Mintae Kim\\anaconda3\\lib\\site-packages\\sklearn\\linear_model\\_coordinate_descent.py:525: ConvergenceWarning: Objective did not converge. You might want to increase the number of iterations. Duality gap: 113572370.33211434, tolerance: 909630.9519504018\n",
      "  model = cd_fast.enet_coordinate_descent_gram(\n",
      "C:\\Users\\Mark Mintae Kim\\anaconda3\\lib\\site-packages\\sklearn\\linear_model\\_coordinate_descent.py:525: ConvergenceWarning: Objective did not converge. You might want to increase the number of iterations. Duality gap: 214320839.9108224, tolerance: 909630.9519504018\n",
      "  model = cd_fast.enet_coordinate_descent_gram(\n",
      "C:\\Users\\Mark Mintae Kim\\anaconda3\\lib\\site-packages\\sklearn\\linear_model\\_coordinate_descent.py:525: ConvergenceWarning: Objective did not converge. You might want to increase the number of iterations. Duality gap: 255852369.6391065, tolerance: 909630.9519504018\n",
      "  model = cd_fast.enet_coordinate_descent_gram(\n",
      "C:\\Users\\Mark Mintae Kim\\anaconda3\\lib\\site-packages\\sklearn\\linear_model\\_coordinate_descent.py:525: ConvergenceWarning: Objective did not converge. You might want to increase the number of iterations. Duality gap: 252500252.7855683, tolerance: 909630.9519504018\n",
      "  model = cd_fast.enet_coordinate_descent_gram(\n",
      "C:\\Users\\Mark Mintae Kim\\anaconda3\\lib\\site-packages\\sklearn\\linear_model\\_coordinate_descent.py:525: ConvergenceWarning: Objective did not converge. You might want to increase the number of iterations. Duality gap: 264328423.3883875, tolerance: 909630.9519504018\n",
      "  model = cd_fast.enet_coordinate_descent_gram(\n",
      "C:\\Users\\Mark Mintae Kim\\anaconda3\\lib\\site-packages\\sklearn\\linear_model\\_coordinate_descent.py:525: ConvergenceWarning: Objective did not converge. You might want to increase the number of iterations. Duality gap: 243702320.6970259, tolerance: 909630.9519504018\n",
      "  model = cd_fast.enet_coordinate_descent_gram(\n",
      "C:\\Users\\Mark Mintae Kim\\anaconda3\\lib\\site-packages\\sklearn\\linear_model\\_coordinate_descent.py:525: ConvergenceWarning: Objective did not converge. You might want to increase the number of iterations. Duality gap: 266635991.43111357, tolerance: 909630.9519504018\n",
      "  model = cd_fast.enet_coordinate_descent_gram(\n",
      "C:\\Users\\Mark Mintae Kim\\anaconda3\\lib\\site-packages\\sklearn\\linear_model\\_coordinate_descent.py:525: ConvergenceWarning: Objective did not converge. You might want to increase the number of iterations. Duality gap: 36969405.76901758, tolerance: 863737.5056120482\n",
      "  model = cd_fast.enet_coordinate_descent_gram(\n",
      "C:\\Users\\Mark Mintae Kim\\anaconda3\\lib\\site-packages\\sklearn\\linear_model\\_coordinate_descent.py:525: ConvergenceWarning: Objective did not converge. You might want to increase the number of iterations. Duality gap: 174048139.85042566, tolerance: 863737.5056120482\n",
      "  model = cd_fast.enet_coordinate_descent_gram(\n",
      "C:\\Users\\Mark Mintae Kim\\anaconda3\\lib\\site-packages\\sklearn\\linear_model\\_coordinate_descent.py:525: ConvergenceWarning: Objective did not converge. You might want to increase the number of iterations. Duality gap: 20369304.60367167, tolerance: 863737.5056120482\n",
      "  model = cd_fast.enet_coordinate_descent_gram(\n",
      "C:\\Users\\Mark Mintae Kim\\anaconda3\\lib\\site-packages\\sklearn\\linear_model\\_coordinate_descent.py:525: ConvergenceWarning: Objective did not converge. You might want to increase the number of iterations. Duality gap: 174149579.4956326, tolerance: 863737.5056120482\n",
      "  model = cd_fast.enet_coordinate_descent_gram(\n",
      "C:\\Users\\Mark Mintae Kim\\anaconda3\\lib\\site-packages\\sklearn\\linear_model\\_coordinate_descent.py:525: ConvergenceWarning: Objective did not converge. You might want to increase the number of iterations. Duality gap: 20490280.75132084, tolerance: 863737.5056120482\n",
      "  model = cd_fast.enet_coordinate_descent_gram(\n",
      "C:\\Users\\Mark Mintae Kim\\anaconda3\\lib\\site-packages\\sklearn\\linear_model\\_coordinate_descent.py:525: ConvergenceWarning: Objective did not converge. You might want to increase the number of iterations. Duality gap: 236148754.54025972, tolerance: 863737.5056120482\n",
      "  model = cd_fast.enet_coordinate_descent_gram(\n",
      "C:\\Users\\Mark Mintae Kim\\anaconda3\\lib\\site-packages\\sklearn\\linear_model\\_coordinate_descent.py:525: ConvergenceWarning: Objective did not converge. You might want to increase the number of iterations. Duality gap: 206982583.99196398, tolerance: 863737.5056120482\n",
      "  model = cd_fast.enet_coordinate_descent_gram(\n",
      "C:\\Users\\Mark Mintae Kim\\anaconda3\\lib\\site-packages\\sklearn\\linear_model\\_coordinate_descent.py:525: ConvergenceWarning: Objective did not converge. You might want to increase the number of iterations. Duality gap: 256710169.8449002, tolerance: 863737.5056120482\n",
      "  model = cd_fast.enet_coordinate_descent_gram(\n",
      "C:\\Users\\Mark Mintae Kim\\anaconda3\\lib\\site-packages\\sklearn\\linear_model\\_coordinate_descent.py:525: ConvergenceWarning: Objective did not converge. You might want to increase the number of iterations. Duality gap: 223366695.6088485, tolerance: 863737.5056120482\n",
      "  model = cd_fast.enet_coordinate_descent_gram(\n",
      "C:\\Users\\Mark Mintae Kim\\anaconda3\\lib\\site-packages\\sklearn\\linear_model\\_coordinate_descent.py:525: ConvergenceWarning: Objective did not converge. You might want to increase the number of iterations. Duality gap: 230180063.63554657, tolerance: 863737.5056120482\n",
      "  model = cd_fast.enet_coordinate_descent_gram(\n",
      "C:\\Users\\Mark Mintae Kim\\anaconda3\\lib\\site-packages\\sklearn\\linear_model\\_coordinate_descent.py:525: ConvergenceWarning: Objective did not converge. You might want to increase the number of iterations. Duality gap: 236193455.0617836, tolerance: 863737.5056120482\n",
      "  model = cd_fast.enet_coordinate_descent_gram(\n",
      "C:\\Users\\Mark Mintae Kim\\anaconda3\\lib\\site-packages\\sklearn\\linear_model\\_coordinate_descent.py:525: ConvergenceWarning: Objective did not converge. You might want to increase the number of iterations. Duality gap: 241490377.90846425, tolerance: 863737.5056120482\n",
      "  model = cd_fast.enet_coordinate_descent_gram(\n",
      "C:\\Users\\Mark Mintae Kim\\anaconda3\\lib\\site-packages\\sklearn\\linear_model\\_coordinate_descent.py:525: ConvergenceWarning: Objective did not converge. You might want to increase the number of iterations. Duality gap: 262109916.76322708, tolerance: 863737.5056120482\n",
      "  model = cd_fast.enet_coordinate_descent_gram(\n",
      "C:\\Users\\Mark Mintae Kim\\anaconda3\\lib\\site-packages\\sklearn\\linear_model\\_coordinate_descent.py:525: ConvergenceWarning: Objective did not converge. You might want to increase the number of iterations. Duality gap: 250238792.37305063, tolerance: 863737.5056120482\n",
      "  model = cd_fast.enet_coordinate_descent_gram(\n",
      "C:\\Users\\Mark Mintae Kim\\anaconda3\\lib\\site-packages\\sklearn\\linear_model\\_coordinate_descent.py:525: ConvergenceWarning: Objective did not converge. You might want to increase the number of iterations. Duality gap: 5605930.976090491, tolerance: 627684.3571402805\n",
      "  model = cd_fast.enet_coordinate_descent_gram(\n",
      "C:\\Users\\Mark Mintae Kim\\anaconda3\\lib\\site-packages\\sklearn\\linear_model\\_coordinate_descent.py:525: ConvergenceWarning: Objective did not converge. You might want to increase the number of iterations. Duality gap: 23070669.53409636, tolerance: 627684.3571402805\n",
      "  model = cd_fast.enet_coordinate_descent_gram(\n",
      "C:\\Users\\Mark Mintae Kim\\anaconda3\\lib\\site-packages\\sklearn\\linear_model\\_coordinate_descent.py:525: ConvergenceWarning: Objective did not converge. You might want to increase the number of iterations. Duality gap: 43637673.92642897, tolerance: 627684.3571402805\n",
      "  model = cd_fast.enet_coordinate_descent_gram(\n",
      "C:\\Users\\Mark Mintae Kim\\anaconda3\\lib\\site-packages\\sklearn\\linear_model\\_coordinate_descent.py:525: ConvergenceWarning: Objective did not converge. You might want to increase the number of iterations. Duality gap: 65167186.32516062, tolerance: 627684.3571402805\n",
      "  model = cd_fast.enet_coordinate_descent_gram(\n",
      "C:\\Users\\Mark Mintae Kim\\anaconda3\\lib\\site-packages\\sklearn\\linear_model\\_coordinate_descent.py:525: ConvergenceWarning: Objective did not converge. You might want to increase the number of iterations. Duality gap: 99817209.8240821, tolerance: 627684.3571402805\n",
      "  model = cd_fast.enet_coordinate_descent_gram(\n",
      "C:\\Users\\Mark Mintae Kim\\anaconda3\\lib\\site-packages\\sklearn\\linear_model\\_coordinate_descent.py:525: ConvergenceWarning: Objective did not converge. You might want to increase the number of iterations. Duality gap: 140610483.65839753, tolerance: 627684.3571402805\n",
      "  model = cd_fast.enet_coordinate_descent_gram(\n",
      "C:\\Users\\Mark Mintae Kim\\anaconda3\\lib\\site-packages\\sklearn\\linear_model\\_coordinate_descent.py:525: ConvergenceWarning: Objective did not converge. You might want to increase the number of iterations. Duality gap: 118402391.94810054, tolerance: 627684.3571402805\n",
      "  model = cd_fast.enet_coordinate_descent_gram(\n",
      "C:\\Users\\Mark Mintae Kim\\anaconda3\\lib\\site-packages\\sklearn\\linear_model\\_coordinate_descent.py:525: ConvergenceWarning: Objective did not converge. You might want to increase the number of iterations. Duality gap: 130468736.7419785, tolerance: 627684.3571402805\n",
      "  model = cd_fast.enet_coordinate_descent_gram(\n",
      "C:\\Users\\Mark Mintae Kim\\anaconda3\\lib\\site-packages\\sklearn\\linear_model\\_coordinate_descent.py:525: ConvergenceWarning: Objective did not converge. You might want to increase the number of iterations. Duality gap: 76246575.49958804, tolerance: 627684.3571402805\n",
      "  model = cd_fast.enet_coordinate_descent_gram(\n",
      "C:\\Users\\Mark Mintae Kim\\anaconda3\\lib\\site-packages\\sklearn\\linear_model\\_coordinate_descent.py:525: ConvergenceWarning: Objective did not converge. You might want to increase the number of iterations. Duality gap: 129637558.07888588, tolerance: 627684.3571402805\n",
      "  model = cd_fast.enet_coordinate_descent_gram(\n",
      "C:\\Users\\Mark Mintae Kim\\anaconda3\\lib\\site-packages\\sklearn\\linear_model\\_coordinate_descent.py:525: ConvergenceWarning: Objective did not converge. You might want to increase the number of iterations. Duality gap: 172623377.8527006, tolerance: 627684.3571402805\n",
      "  model = cd_fast.enet_coordinate_descent_gram(\n",
      "C:\\Users\\Mark Mintae Kim\\anaconda3\\lib\\site-packages\\sklearn\\linear_model\\_coordinate_descent.py:525: ConvergenceWarning: Objective did not converge. You might want to increase the number of iterations. Duality gap: 168224317.81968245, tolerance: 627684.3571402805\n",
      "  model = cd_fast.enet_coordinate_descent_gram(\n",
      "C:\\Users\\Mark Mintae Kim\\anaconda3\\lib\\site-packages\\sklearn\\linear_model\\_coordinate_descent.py:525: ConvergenceWarning: Objective did not converge. You might want to increase the number of iterations. Duality gap: 159659707.2055276, tolerance: 627684.3571402805\n",
      "  model = cd_fast.enet_coordinate_descent_gram(\n",
      "C:\\Users\\Mark Mintae Kim\\anaconda3\\lib\\site-packages\\sklearn\\linear_model\\_coordinate_descent.py:525: ConvergenceWarning: Objective did not converge. You might want to increase the number of iterations. Duality gap: 181589436.50048685, tolerance: 627684.3571402805\n",
      "  model = cd_fast.enet_coordinate_descent_gram(\n",
      "C:\\Users\\Mark Mintae Kim\\anaconda3\\lib\\site-packages\\sklearn\\linear_model\\_coordinate_descent.py:525: ConvergenceWarning: Objective did not converge. You might want to increase the number of iterations. Duality gap: 151437839.4350246, tolerance: 627684.3571402805\n",
      "  model = cd_fast.enet_coordinate_descent_gram(\n",
      "C:\\Users\\Mark Mintae Kim\\anaconda3\\lib\\site-packages\\sklearn\\linear_model\\_coordinate_descent.py:525: ConvergenceWarning: Objective did not converge. You might want to increase the number of iterations. Duality gap: 187347332.02449763, tolerance: 627684.3571402805\n",
      "  model = cd_fast.enet_coordinate_descent_gram(\n",
      "C:\\Users\\Mark Mintae Kim\\anaconda3\\lib\\site-packages\\sklearn\\linear_model\\_coordinate_descent.py:525: ConvergenceWarning: Objective did not converge. You might want to increase the number of iterations. Duality gap: 168283740.60610512, tolerance: 627684.3571402805\n",
      "  model = cd_fast.enet_coordinate_descent_gram(\n",
      "C:\\Users\\Mark Mintae Kim\\anaconda3\\lib\\site-packages\\sklearn\\linear_model\\_coordinate_descent.py:525: ConvergenceWarning: Objective did not converge. You might want to increase the number of iterations. Duality gap: 200176113.16762155, tolerance: 627684.3571402805\n",
      "  model = cd_fast.enet_coordinate_descent_gram(\n",
      "C:\\Users\\Mark Mintae Kim\\anaconda3\\lib\\site-packages\\sklearn\\linear_model\\_coordinate_descent.py:525: ConvergenceWarning: Objective did not converge. You might want to increase the number of iterations. Duality gap: 203513601.43112886, tolerance: 627684.3571402805\n",
      "  model = cd_fast.enet_coordinate_descent_gram(\n",
      "C:\\Users\\Mark Mintae Kim\\anaconda3\\lib\\site-packages\\sklearn\\linear_model\\_coordinate_descent.py:525: ConvergenceWarning: Objective did not converge. You might want to increase the number of iterations. Duality gap: 199918963.47183117, tolerance: 627684.3571402805\n",
      "  model = cd_fast.enet_coordinate_descent_gram(\n",
      "C:\\Users\\Mark Mintae Kim\\anaconda3\\lib\\site-packages\\sklearn\\linear_model\\_coordinate_descent.py:525: ConvergenceWarning: Objective did not converge. You might want to increase the number of iterations. Duality gap: 203287920.8485921, tolerance: 627684.3571402805\n",
      "  model = cd_fast.enet_coordinate_descent_gram(\n",
      "C:\\Users\\Mark Mintae Kim\\anaconda3\\lib\\site-packages\\sklearn\\linear_model\\_coordinate_descent.py:525: ConvergenceWarning: Objective did not converge. You might want to increase the number of iterations. Duality gap: 211250843.6300113, tolerance: 627684.3571402805\n",
      "  model = cd_fast.enet_coordinate_descent_gram(\n",
      "C:\\Users\\Mark Mintae Kim\\anaconda3\\lib\\site-packages\\sklearn\\linear_model\\_coordinate_descent.py:525: ConvergenceWarning: Objective did not converge. You might want to increase the number of iterations. Duality gap: 213214717.77857557, tolerance: 627684.3571402805\n",
      "  model = cd_fast.enet_coordinate_descent_gram(\n",
      "C:\\Users\\Mark Mintae Kim\\anaconda3\\lib\\site-packages\\sklearn\\linear_model\\_coordinate_descent.py:525: ConvergenceWarning: Objective did not converge. You might want to increase the number of iterations. Duality gap: 203538328.32905716, tolerance: 627684.3571402805\n",
      "  model = cd_fast.enet_coordinate_descent_gram(\n",
      "C:\\Users\\Mark Mintae Kim\\anaconda3\\lib\\site-packages\\sklearn\\linear_model\\_coordinate_descent.py:525: ConvergenceWarning: Objective did not converge. You might want to increase the number of iterations. Duality gap: 169831235.2561229, tolerance: 792793.7732573147\n",
      "  model = cd_fast.enet_coordinate_descent_gram(\n",
      "C:\\Users\\Mark Mintae Kim\\anaconda3\\lib\\site-packages\\sklearn\\linear_model\\_coordinate_descent.py:525: ConvergenceWarning: Objective did not converge. You might want to increase the number of iterations. Duality gap: 143128575.91587973, tolerance: 792793.7732573147\n",
      "  model = cd_fast.enet_coordinate_descent_gram(\n",
      "C:\\Users\\Mark Mintae Kim\\anaconda3\\lib\\site-packages\\sklearn\\linear_model\\_coordinate_descent.py:525: ConvergenceWarning: Objective did not converge. You might want to increase the number of iterations. Duality gap: 231965277.59058946, tolerance: 792793.7732573147\n",
      "  model = cd_fast.enet_coordinate_descent_gram(\n",
      "C:\\Users\\Mark Mintae Kim\\anaconda3\\lib\\site-packages\\sklearn\\linear_model\\_coordinate_descent.py:525: ConvergenceWarning: Objective did not converge. You might want to increase the number of iterations. Duality gap: 255131530.333392, tolerance: 792793.7732573147\n",
      "  model = cd_fast.enet_coordinate_descent_gram(\n",
      "C:\\Users\\Mark Mintae Kim\\anaconda3\\lib\\site-packages\\sklearn\\linear_model\\_coordinate_descent.py:525: ConvergenceWarning: Objective did not converge. You might want to increase the number of iterations. Duality gap: 245806467.79109257, tolerance: 792793.7732573147\n",
      "  model = cd_fast.enet_coordinate_descent_gram(\n",
      "C:\\Users\\Mark Mintae Kim\\anaconda3\\lib\\site-packages\\sklearn\\linear_model\\_coordinate_descent.py:525: ConvergenceWarning: Objective did not converge. You might want to increase the number of iterations. Duality gap: 226089617.58254474, tolerance: 792793.7732573147\n",
      "  model = cd_fast.enet_coordinate_descent_gram(\n",
      "C:\\Users\\Mark Mintae Kim\\anaconda3\\lib\\site-packages\\sklearn\\linear_model\\_coordinate_descent.py:525: ConvergenceWarning: Objective did not converge. You might want to increase the number of iterations. Duality gap: 232009282.0071137, tolerance: 792793.7732573147\n",
      "  model = cd_fast.enet_coordinate_descent_gram(\n",
      "C:\\Users\\Mark Mintae Kim\\anaconda3\\lib\\site-packages\\sklearn\\linear_model\\_coordinate_descent.py:525: ConvergenceWarning: Objective did not converge. You might want to increase the number of iterations. Duality gap: 203327072.99250096, tolerance: 792793.7732573147\n",
      "  model = cd_fast.enet_coordinate_descent_gram(\n",
      "C:\\Users\\Mark Mintae Kim\\anaconda3\\lib\\site-packages\\sklearn\\linear_model\\_coordinate_descent.py:525: ConvergenceWarning: Objective did not converge. You might want to increase the number of iterations. Duality gap: 245836333.27130145, tolerance: 792793.7732573147\n",
      "  model = cd_fast.enet_coordinate_descent_gram(\n",
      "C:\\Users\\Mark Mintae Kim\\anaconda3\\lib\\site-packages\\sklearn\\linear_model\\_coordinate_descent.py:529: ConvergenceWarning: Objective did not converge. You might want to increase the number of iterations. Duality gap: 137334275.4143479, tolerance: 1030560.6934288925\n",
      "  model = cd_fast.enet_coordinate_descent(\n"
     ]
    },
    {
     "name": "stdout",
     "output_type": "stream",
     "text": [
      "Test Error: 762351.0764267208\n",
      "Number of Non-zero coefficients: 17\n"
     ]
    }
   ],
   "source": [
    "from sklearn.linear_model import LassoCV\n",
    "\n",
    "# Leave one out cross-validation\n",
    "model = LassoCV(alphas=alphas, fit_intercept=True, cv=None)\n",
    "model.fit(train.drop(['Name', 'Apps'], axis=1), train['Apps'])\n",
    "\n",
    "predictions = model.predict(test.drop(['Name', 'Apps'], axis=1))\n",
    "print(\"Test Error: \" +str(mean_squared_error(test['Apps'], predictions)))\n",
    "print(\"Number of Non-zero coefficients: \" + str(len(model.coef_)))"
   ]
  },
  {
   "cell_type": "markdown",
   "metadata": {},
   "source": [
    "**(e) Fit a PCR model on the training set, with $M$ chosen by crossvalidation. Report the test error obtained, along with the value of $M$ selected by cross-validation.**"
   ]
  },
  {
   "cell_type": "code",
   "execution_count": 24,
   "metadata": {},
   "outputs": [
    {
     "data": {
      "image/png": "[encoded data removed]",
      "text/plain": [
       "<Figure size 1080x576 with 2 Axes>"
      ]
     },
     "metadata": {
      "needs_background": "light"
     },
     "output_type": "display_data"
    }
   ],
   "source": [
    "from sklearn import preprocessing\n",
    "from sklearn.decomposition import PCA\n",
    "from sklearn.model_selection import LeaveOneOut\n",
    "from sklearn.linear_model import LinearRegression\n",
    "from sklearn.metrics import mean_squared_error\n",
    "\n",
    "def PCR_CV(X_train, Y_train, X_test, Y_test, M):\n",
    "    X_train_scaled = preprocessing.scale(X_train)\n",
    "    X_test_scaled = preprocessing.scale(X_test)\n",
    "\n",
    "    MSE = {}\n",
    "    test_MSE = {}\n",
    "\n",
    "    for m in M: # Iterate over number of principal components\n",
    "        pca = PCA(n_components=m)\n",
    "        X_train_reduced = pca.fit_transform(X_train_scaled)\n",
    "        X_test_reduced = pca.fit_transform(X_test_scaled)\n",
    "\n",
    "        mse = 0\n",
    "        test_mse = 0\n",
    "        loo = LeaveOneOut() # Leave one out cross-validation\n",
    "        for train_index, test_index in loo.split(X_train_reduced):\n",
    "            X, X_CV = X_train_reduced[train_index], X_train_reduced[test_index]\n",
    "            Y, Y_CV = Y_train[train_index], Y_train[test_index]\n",
    "            model = LinearRegression(fit_intercept=True)\n",
    "            model.fit(X, Y)\n",
    "            p = model.predict(X_CV)\n",
    "            mse += mean_squared_error(p, Y_CV)\n",
    "        MSE[m] = mse/len(X_train_reduced)\n",
    "\n",
    "        # Compute test MSE for the model\n",
    "        model = LinearRegression(fit_intercept=True)\n",
    "        model.fit(X_train_reduced, Y_train)\n",
    "        p = model.predict(X_test_reduced)\n",
    "        test_MSE[m] = mean_squared_error(p, Y_test)\n",
    "\n",
    "    # Plot validation MSE\n",
    "    lists = sorted(MSE.items()) # sorted by key, return a list of tuples\n",
    "    x, y = zip(*lists) # unpack a list of pairs into two tuples\n",
    "    fig = plt.figure(figsize=(15, 8))\n",
    "    ax = fig.add_subplot(121)\n",
    "    plt.plot(x, y, color='r')\n",
    "    plt.grid()\n",
    "    ax.set_xlabel('Number of Principal Components')\n",
    "    ax.set_ylabel('Validation MSE')\n",
    "    ax.set_title('Validation MSE vs Principal Components')\n",
    "\n",
    "    lists = sorted(test_MSE.items()) # sorted by key, return a list of tuples\n",
    "    x, y = zip(*lists) # unpack a list of pairs into two tuples\n",
    "    ax = fig.add_subplot(122)\n",
    "    plt.plot(x, y, color='g')\n",
    "    plt.grid()\n",
    "    ax.set_xlabel('Number of Principal Components')\n",
    "    ax.set_ylabel('Test MSE')\n",
    "    ax.set_title('Test MSE vs Principal Components')\n",
    "    plt.show()\n",
    "\n",
    "M = np.arange(1, 17, 1) # Principal components\n",
    "PCR_CV(train.drop(['Name', 'Apps'], axis=1), train['Apps'].values, test.drop(['Name', 'Apps'], axis=1),\n",
    "       test['Apps'], M)"
   ]
  },
  {
   "cell_type": "markdown",
   "metadata": {},
   "source": [
    "**(f) Fit a PLS model on the training set, with $M$ chosen by crossvalidation. Report the test error obtained, along with the value of $M$ selected by cross-validation.**"
   ]
  },
  {
   "cell_type": "code",
   "execution_count": 25,
   "metadata": {},
   "outputs": [
    {
     "data": {
      "image/png": "[encoded data removed]",
      "text/plain": [
       "<Figure size 1080x576 with 2 Axes>"
      ]
     },
     "metadata": {
      "needs_background": "light"
     },
     "output_type": "display_data"
    }
   ],
   "source": [
    "from sklearn.cross_decomposition import PLSRegression\n",
    "\n",
    "def PLS_CV(X_train, Y_train, X_test, Y_test, M):\n",
    "    X_train_scaled = preprocessing.scale(X_train)\n",
    "    X_test_scaled = preprocessing.scale(X_test)\n",
    "\n",
    "    MSE = {}\n",
    "    test_MSE = {}\n",
    "\n",
    "    for m in M: # Iterate over number of principal components\n",
    "        mse = 0\n",
    "        test_mse = 0\n",
    "        loo = LeaveOneOut() # Leave one out cross-validation\n",
    "        for train_index, test_index in loo.split(X_train_scaled):\n",
    "            X, X_CV = X_train_scaled[train_index], X_train_scaled[test_index]\n",
    "            Y, Y_CV = Y_train[train_index], Y_train[test_index]\n",
    "            model = PLSRegression(n_components=m)\n",
    "            model.fit(X, Y)\n",
    "            p = model.predict(X_CV)\n",
    "            mse += mean_squared_error(p, Y_CV)\n",
    "        MSE[m] = mse/len(X_train_scaled)\n",
    "\n",
    "        # Compute test MSE for the model\n",
    "        model = PLSRegression(n_components=m)\n",
    "        model.fit(X_train_scaled, Y_train)\n",
    "        p = model.predict(X_test_scaled)\n",
    "        test_MSE[m] = mean_squared_error(p, Y_test)\n",
    "\n",
    "    # Plot validation MSE\n",
    "    lists = sorted(MSE.items()) # sorted by key, return a list of tuples\n",
    "    x, y = zip(*lists) # unpack a list of pairs into two tuples\n",
    "    fig = plt.figure(figsize=(15, 8))\n",
    "    ax = fig.add_subplot(121)\n",
    "    plt.plot(x, y, color='r')\n",
    "    plt.grid()\n",
    "    ax.set_xlabel('M')\n",
    "    ax.set_ylabel('Validation MSE')\n",
    "    ax.set_title('Validation MSE vs M')\n",
    "\n",
    "    lists = sorted(test_MSE.items()) # sorted by key, return a list of tuples\n",
    "    x, y = zip(*lists) # unpack a list of pairs into two tuples\n",
    "    ax = fig.add_subplot(122)\n",
    "    plt.plot(x, y, color='g')\n",
    "    plt.grid()\n",
    "    ax.set_xlabel('M')\n",
    "    ax.set_ylabel('Test MSE')\n",
    "    ax.set_title('Test MSE vs M')\n",
    "    plt.show()\n",
    "\n",
    "M = np.arange(1, 17, 1) # Principal components\n",
    "PLS_CV(train.drop(['Name', 'Apps'], axis=1), train['Apps'].values, test.drop(['Name', 'Apps'], axis=1),\n",
    "       test['Apps'], M)"
   ]
  },
  {
   "cell_type": "markdown",
   "metadata": {},
   "source": [
    "**(g) Comment on the results obtained. How accurately can we predict the number of college applications received? Is there much difference among the test errors resulting from these five approaches?**"
   ]
  },
  {
   "cell_type": "markdown",
   "metadata": {},
   "source": [
    "The test errors (with order of magnitude 107) for various methods are as follows:\n",
    "Least squares linear model : 0.118\n",
    "Ridge regression model : 0.119\n",
    "Tha lasso: 0.121\n",
    "PCR: 0.67\n",
    "PLS: 0.11\n",
    "We can conlude that all the other models perform well as compared to PCR."
   ]
  },
  {
   "cell_type": "markdown",
   "metadata": {},
   "source": [
    "# 9. (35pt)"
   ]
  },
  {
   "cell_type": "markdown",
   "metadata": {},
   "source": [
    "We have seen that as the number of features used in a model increases, the training error will necessarily decrease, but the test error may not. We will now explore this in a simulated data set.\n",
    "\n",
    "**(a) Generate a data set with $p=20$ features, $n=1,000$ observations, and an associated quantitative response vector generated according to the model**\n",
    "$$\n",
    "Y=X \\beta+\\epsilon\n",
    "$$\n",
    "**where $\\beta$ has some elements that are exactly equal to zero.**"
   ]
  },
  {
   "cell_type": "markdown",
   "metadata": {},
   "source": [
    "I tried p = 15 rather than p = 20. It took so long."
   ]
  },
  {
   "cell_type": "code",
   "execution_count": 33,
   "metadata": {},
   "outputs": [],
   "source": [
    "# p = 20\n",
    "p = 15\n",
    "\n",
    "X = np.random.normal(size=(1000, p))\n",
    "beta = np.random.normal(size=15)\n",
    "beta[3] = 0\n",
    "beta[5] = 0\n",
    "beta[9] = 0\n",
    "e = np.random.normal(size=1000)\n",
    "y = np.dot(X, beta) + e"
   ]
  },
  {
   "cell_type": "markdown",
   "metadata": {},
   "source": [
    "**(b) Split your data set into a training set containing 100 observations and a test set containing 900 observations.**"
   ]
  },
  {
   "cell_type": "code",
   "execution_count": 34,
   "metadata": {},
   "outputs": [],
   "source": [
    "from sklearn.model_selection import train_test_split\n",
    "X_train, X_test, y_train, y_test = train_test_split(X, y, test_size=0.1)"
   ]
  },
  {
   "cell_type": "markdown",
   "metadata": {},
   "source": [
    "**(c) Perform best subset selection on the training set, and plot the training set MSE associated with the best model of each size (You may use the code from Lab 5).**"
   ]
  },
  {
   "cell_type": "code",
   "execution_count": 35,
   "metadata": {},
   "outputs": [
    {
     "data": {
      "text/plain": [
       "Text(0.5, 1.0, 'Training MSE vs Model Size')"
      ]
     },
     "execution_count": 35,
     "metadata": {},
     "output_type": "execute_result"
    },
    {
     "data": {
      "image/png": "[encoded data removed]",
      "text/plain": [
       "<Figure size 1080x576 with 1 Axes>"
      ]
     },
     "metadata": {
      "needs_background": "light"
     },
     "output_type": "display_data"
    }
   ],
   "source": [
    "import itertools as it\n",
    "from sklearn.linear_model import LinearRegression\n",
    "\n",
    "def select_subset_sizeK(X_, y_, k):\n",
    "    model = LinearRegression()\n",
    "    best_score = 0.0\n",
    "    M_k = []\n",
    "    for combo in it.combinations(range(X_.shape[1]), k):\n",
    "        X = X_[:, list(combo)]\n",
    "        model.fit(X, y_)\n",
    "        s = model.score(X, y_)\n",
    "        if s > best_score:\n",
    "            M_k = list(combo)\n",
    "            best_score = s\n",
    "    return M_k\n",
    "\n",
    "def subset_selection(X_, y_):\n",
    "    # Fit model with intercept only (Null model)\n",
    "    train_MSE = {}\n",
    "    model_cols = {}\n",
    "    y_pred = np.mean(y_)\n",
    "    train_MSE[0] = np.sum((y_ - y_pred)**2) / len(y_)\n",
    "    for s in range(1, X_.shape[1]):\n",
    "        cols = select_subset_sizeK(X_, y_, s)\n",
    "        X = X_[:, cols]\n",
    "        model = LinearRegression()\n",
    "        model.fit(X, y_)\n",
    "        y_pred = model.predict(X)\n",
    "        train_MSE[s] = mean_squared_error(y_pred, y_)\n",
    "        model_cols[s] = cols\n",
    "    return (model_cols, train_MSE)\n",
    "\n",
    "t = subset_selection(X_train, y_train)\n",
    "models = t[0]\n",
    "train_MSE = t[1]\n",
    "\n",
    "fig = plt.figure(figsize=(15, 8))\n",
    "\n",
    "lists = sorted(train_MSE.items()) # sorted by key, return a list of tuples\n",
    "x, y = zip(*lists) # unpack a list of pairs into two tuples\n",
    "ax = fig.add_subplot(121)\n",
    "plt.plot(x, y, color='r')\n",
    "plt.grid()\n",
    "ax.set_xlabel('Model Size')\n",
    "ax.set_ylabel('Training MSE')\n",
    "ax.set_title('Training MSE vs Model Size')"
   ]
  },
  {
   "cell_type": "markdown",
   "metadata": {},
   "source": [
    "**(d) Plot the test set MSE associated with the best model of each size.**"
   ]
  },
  {
   "cell_type": "code",
   "execution_count": 36,
   "metadata": {},
   "outputs": [
    {
     "data": {
      "text/plain": [
       "Text(0.5, 1.0, 'Test MSE vs Model Size')"
      ]
     },
     "execution_count": 36,
     "metadata": {},
     "output_type": "execute_result"
    },
    {
     "data": {
      "image/png": "[encoded data removed]",
      "text/plain": [
       "<Figure size 432x288 with 1 Axes>"
      ]
     },
     "metadata": {
      "needs_background": "light"
     },
     "output_type": "display_data"
    }
   ],
   "source": [
    "test_MSE = {}\n",
    "for size, cols in models.items():\n",
    "    if size == 0:\n",
    "        test_MSE[size] = np.sum((y_test - cols)**2) / len(y_test)\n",
    "    else:\n",
    "        model = LinearRegression()\n",
    "        model.fit(X_train[:, cols], y_train)\n",
    "        y_pred = model.predict(X_test[:, cols])\n",
    "        test_MSE[size] = mean_squared_error(y_pred, y_test)\n",
    "\n",
    "lists = sorted(test_MSE.items()) # sorted by key, return a list of tuples\n",
    "x, y = zip(*lists) # unpack a list of pairs into two tuples\n",
    "ax = fig.add_subplot(122)\n",
    "plt.plot(x, y, color='g')\n",
    "plt.grid()\n",
    "ax.set_xlabel('Model Size')\n",
    "ax.set_ylabel('Test MSE')\n",
    "ax.set_title('Test MSE vs Model Size')"
   ]
  },
  {
   "cell_type": "markdown",
   "metadata": {},
   "source": [
    "**(e) For which model size does the test set MSE take on its minimum value? Comment on your results. If it takes on its minimum value for a model containing only an intercept or a model containing all of the features, then play around with the way that you are generating the data in (a) until you come up with a scenario in which the test set MSE is minimized for an intermediate model size.**"
   ]
  },
  {
   "cell_type": "code",
   "execution_count": 37,
   "metadata": {},
   "outputs": [
    {
     "name": "stdout",
     "output_type": "stream",
     "text": [
      "Test MSE is minimum for model size: 13\n"
     ]
    }
   ],
   "source": [
    "print(\"Test MSE is minimum for model size: \" +str(min(test_MSE, key=test_MSE.get)))"
   ]
  },
  {
   "cell_type": "markdown",
   "metadata": {},
   "source": [
    "**(f) How does the model at which the test set MSE is minimized compare to the true model used to generate the data? Comment on the coefficient values.**"
   ]
  },
  {
   "cell_type": "code",
   "execution_count": 38,
   "metadata": {},
   "outputs": [
    {
     "name": "stdout",
     "output_type": "stream",
     "text": [
      "Columns used in the model: [0, 1, 2, 3, 4, 6, 7, 8, 10, 11, 12, 13, 14]\n",
      "Model Coefficients: [-1.4422 -1.0639  2.7853  0.0219  1.0328 -0.6791 -1.411   1.2882 -0.7784\n",
      " -0.9341  1.2837  0.8585 -0.2075]\n"
     ]
    }
   ],
   "source": [
    "cols = models.get(min(test_MSE, key=test_MSE.get))\n",
    "print(\"Columns used in the model: \" +str(cols))\n",
    "model = LinearRegression()\n",
    "model.fit(X_train[:, cols], y_train)\n",
    "print(\"Model Coefficients: \" +str(model.coef_))"
   ]
  },
  {
   "cell_type": "markdown",
   "metadata": {},
   "source": [
    "The model is well in accordance with the way data is generated, First of all, the columns that are not used for model generation are: 5, 9. While generating data, we set the coefficients 3,5, and 9 to 0 and hence the model captures this well. Apart from this, the coefficient of feature 3 is -0.07353929, which is quite low as well."
   ]
  },
  {
   "cell_type": "markdown",
   "metadata": {},
   "source": [
    "**(g) Create a plot displaying $\\sqrt{\\sum_{j=1}^{p}\\left(\\beta_{j}-\\hat{\\beta}_{j}^{r}\\right)^{2}}$ for a range of values of $r$, where $\\hat{\\beta}_{j}^{r}$ is the $j$ th coefficient estimate for the best model containing $r$ coefficients. Comment on what you observe. How does this compare to the test MSE plot from (d)?**"
   ]
  },
  {
   "cell_type": "code",
   "execution_count": null,
   "metadata": {},
   "outputs": [],
   "source": []
  },
  {
   "cell_type": "markdown",
   "metadata": {},
   "source": [
    "# 10. Backward stepwise selection (30pt)"
   ]
  },
  {
   "cell_type": "markdown",
   "metadata": {},
   "source": [
    "**In our Lecture 5 and Lab 5, we learned about backward stepwise selection. Implement backward stepwise selection by referring to the implementation of forward stepwise selection from Lab 5. As a result of the function, 1) print the best model (predictors) for each $k$, 2) perform cross validation, and 3) plot CV errors for each $k$ as shown in Section 1.3 of Lab 5**"
   ]
  },
  {
   "cell_type": "code",
   "execution_count": 39,
   "metadata": {},
   "outputs": [
    {
     "name": "stdout",
     "output_type": "stream",
     "text": [
      "Hitters contains 322 players\n",
      "We are missing data for 59 players\n",
      "After removal Hitters contains 263 players\n",
      "Shape=(263, 20)\n"
     ]
    }
   ],
   "source": [
    "hitters = pd.read_csv('data\\Hitters.csv')\n",
    "\n",
    "# Get the number of players  and the number of players with missing values\n",
    "print('Hitters contains {} players'.format(len(hitters)))\n",
    "num_missing = np.sum(hitters.isnull().any(axis=1))\n",
    "print('We are missing data for {} players'.format(num_missing))\n",
    "\n",
    "# now remove the missing players for dataframe\n",
    "hitters = hitters.dropna()\n",
    "print('After removal Hitters contains {} players'.format(len(hitters)))\n",
    "print('Shape={}'.format(hitters.shape))\n",
    "dummies = pd.get_dummies(hitters[['League', 'Division', 'NewLeague']])\n",
    "\n",
    "# Generate new dataframe with new dummy variables\n",
    "df = hitters.drop(['League', 'Division', 'NewLeague'], axis=1)\n",
    "# add new dummy variables\n",
    "df = pd.concat([df, dummies[['League_N', 'Division_W', 'NewLeague_N']]],axis=1)"
   ]
  },
  {
   "cell_type": "code",
   "execution_count": 40,
   "metadata": {},
   "outputs": [],
   "source": [
    "from tqdm import tqdm # a python package that provides progress bars for iterables\n",
    "from operator import itemgetter\n",
    "from itertools import combinations\n",
    "from sklearn.model_selection import KFold\n",
    "from matplotlib import pyplot as plt\n",
    "import pdb\n",
    "import statsmodels.api as sm\n",
    "import scipy\n",
    "\n",
    "predictors = list(df.columns)\n",
    "predictors.remove('Salary')\n",
    "\n",
    "def backward_step_select(df, predictors, response, max_features=len(predictors)):\n",
    "    \n",
    "    def process_linear_model(features):\n",
    "        X = sm.add_constant(df[features])\n",
    "        y = df[response]\n",
    "        model = sm.OLS(y,X).fit()\n",
    "        RSS = model.ssr\n",
    "        return (model, RSS)\n",
    "\n",
    "    def update_model(best_features):\n",
    "        results = []\n",
    "        for feature in best_features:\n",
    "            results.append(process_linear_model( list( set(best_features) - set([feature]) ) ))\n",
    "        new_model = sorted(results, key = itemgetter(1)).pop(0)[0]\n",
    "        new_features = list(new_model.params.index)[1:]\n",
    "        return new_features, new_model\n",
    "    \n",
    "    models = []\n",
    "    best_features = predictors\n",
    "    \n",
    "    while best_features and len(best_features) <= max_features:        \n",
    "        new_features, new_model = update_model(best_features)\n",
    "        best_features = new_features  \n",
    "        models.append((new_features,new_model))\n",
    "    return models"
   ]
  },
  {
   "cell_type": "code",
   "execution_count": 41,
   "metadata": {},
   "outputs": [
    {
     "name": "stdout",
     "output_type": "stream",
     "text": [
      "Model with 18 features\n",
      "['PutOuts', 'NewLeague_N', 'CAtBat', 'AtBat', 'RBI', 'Walks', 'League_N', 'Runs', 'CRuns', 'CRBI', 'Years', 'Errors', 'Assists', 'Hits', 'HmRun', 'Division_W', 'CHits', 'CWalks']\n",
      "Model with 17 features\n",
      "['PutOuts', 'CAtBat', 'AtBat', 'NewLeague_N', 'RBI', 'Walks', 'League_N', 'Runs', 'CRuns', 'CRBI', 'Errors', 'Assists', 'Hits', 'HmRun', 'Division_W', 'CHits', 'CWalks']\n",
      "Model with 16 features\n",
      "['PutOuts', 'AtBat', 'CAtBat', 'RBI', 'Walks', 'League_N', 'Runs', 'CRuns', 'CRBI', 'Errors', 'Assists', 'Hits', 'HmRun', 'Division_W', 'CHits', 'CWalks']\n",
      "Model with 15 features\n",
      "['PutOuts', 'CAtBat', 'AtBat', 'Walks', 'League_N', 'Runs', 'CRuns', 'CRBI', 'Errors', 'Assists', 'Hits', 'HmRun', 'Division_W', 'CHits', 'CWalks']\n",
      "Model with 14 features\n",
      "['PutOuts', 'CAtBat', 'AtBat', 'Walks', 'CWalks', 'Errors', 'League_N', 'Runs', 'Assists', 'Hits', 'HmRun', 'CRuns', 'CRBI', 'Division_W']\n",
      "Model with 13 features\n",
      "['PutOuts', 'CAtBat', 'AtBat', 'Walks', 'Errors', 'League_N', 'Runs', 'Assists', 'Hits', 'Division_W', 'CRuns', 'CRBI', 'CWalks']\n",
      "Model with 12 features\n",
      "['PutOuts', 'CAtBat', 'AtBat', 'Walks', 'CWalks', 'League_N', 'Runs', 'Assists', 'Hits', 'CRuns', 'CRBI', 'Division_W']\n",
      "Model with 11 features\n",
      "['PutOuts', 'CAtBat', 'AtBat', 'Walks', 'League_N', 'Assists', 'Hits', 'Division_W', 'CRuns', 'CRBI', 'CWalks']\n",
      "Model with 10 features\n",
      "['PutOuts', 'CAtBat', 'AtBat', 'Walks', 'CWalks', 'Assists', 'Hits', 'CRuns', 'CRBI', 'Division_W']\n",
      "Model with 9 features\n",
      "['PutOuts', 'CAtBat', 'AtBat', 'Walks', 'Hits', 'Division_W', 'CRuns', 'CRBI', 'CWalks']\n",
      "Model with 8 features\n",
      "['PutOuts', 'AtBat', 'Walks', 'CWalks', 'Hits', 'CRuns', 'CRBI', 'Division_W']\n",
      "Model with 7 features\n",
      "['PutOuts', 'AtBat', 'Walks', 'Division_W', 'Hits', 'CRuns', 'CWalks']\n",
      "Model with 6 features\n",
      "['PutOuts', 'AtBat', 'Walks', 'Hits', 'CRuns', 'Division_W']\n",
      "Model with 5 features\n",
      "['PutOuts', 'AtBat', 'Walks', 'Hits', 'CRuns']\n",
      "Model with 4 features\n",
      "['PutOuts', 'Hits', 'CRuns', 'AtBat']\n",
      "Model with 3 features\n",
      "['PutOuts', 'CRuns', 'Hits']\n",
      "Model with 2 features\n",
      "['CRuns', 'Hits']\n",
      "Model with 1 features\n",
      "['CRuns']\n",
      "Model with 0 features\n",
      "[]\n"
     ]
    }
   ],
   "source": [
    "models = backward_step_select(df, predictors, ['Salary'], max_features=19)\n",
    "\n",
    "for model in models:\n",
    "    print(\"Model with \"+str(len(model[0]))+\" features\")\n",
    "    print(model[0])"
   ]
  },
  {
   "cell_type": "code",
   "execution_count": 42,
   "metadata": {},
   "outputs": [],
   "source": [
    "# create an index to break the hitters dataframe into a train and test set that are roughly equal in size\n",
    "np.random.seed(0)\n",
    "index = np.random.choice([True, False], size=len(df))\n",
    "\n",
    "# split the data into train and validation sets\n",
    "df_train = df[index]\n",
    "df_test = df[~index]"
   ]
  },
  {
   "cell_type": "code",
   "execution_count": 43,
   "metadata": {},
   "outputs": [
    {
     "name": "stdout",
     "output_type": "stream",
     "text": [
      "MSEs = [114820.4977 114993.4274 114707.6852 114433.649  115188.6703 114403.5799\n",
      " 115220.6704 115798.848  116033.5823 119296.528  118659.6022 122986.5159\n",
      " 130877.3664 136975.9028 141714.8566 147823.0504 156110.3858 170183.8098\n",
      " 244553.3978]\n"
     ]
    }
   ],
   "source": [
    "mses = np.array([])\n",
    "for model in models:\n",
    "    features = list(model[1].params.index[1:])\n",
    "    X_test = sm.add_constant(df_test[features])\n",
    "    salary_pred = model[1].predict(X_test)\n",
    "    mses = np.append(mses, np.mean((salary_pred - df_test.Salary.values)**2))\n",
    "print('MSEs =', mses)"
   ]
  },
  {
   "cell_type": "code",
   "execution_count": 44,
   "metadata": {},
   "outputs": [
    {
     "name": "stdout",
     "output_type": "stream",
     "text": [
      "5 114403.5798616264\n"
     ]
    }
   ],
   "source": [
    "min_index, min_mse = min(enumerate(mses), key=itemgetter(1))\n",
    "print(min_index, min_mse)"
   ]
  },
  {
   "cell_type": "code",
   "execution_count": 45,
   "metadata": {},
   "outputs": [
    {
     "name": "stdout",
     "output_type": "stream",
     "text": [
      "14-Variable Model: ['const', 'PutOuts', 'CAtBat', 'AtBat', 'Walks', 'Errors', 'League_N', 'Runs', 'Assists', 'Hits', 'Division_W', 'CRuns', 'CRBI', 'CWalks']\n"
     ]
    }
   ],
   "source": [
    "print('14-Variable Model:', list(models[5][1].params.index))"
   ]
  },
  {
   "cell_type": "code",
   "execution_count": 46,
   "metadata": {},
   "outputs": [
    {
     "data": {
      "image/png": "[encoded data removed]",
      "text/plain": [
       "<Figure size 576x288 with 1 Axes>"
      ]
     },
     "metadata": {
      "needs_background": "light"
     },
     "output_type": "display_data"
    }
   ],
   "source": [
    "# We can also plot all the models MSEs\n",
    "# set predictors for x-axis\n",
    "num_predictors = np.linspace(1,len(models),len(models)).astype(int)\n",
    "\n",
    "fig, ax1 = plt.subplots(figsize=(8,4));\n",
    "\n",
    "# add the mse and mimimum mse to the plot\n",
    "ax1.plot(num_predictors, mses, 'r', marker='o', label='MSE')\n",
    "ax1.plot(min_index+1, min_mse, 'gx', markersize=20, markeredgewidth=2)\n",
    "\n",
    "# Labels and Legend\n",
    "ax1.set_xlabel('19 - Number of Predictors');\n",
    "ax1.set_ylabel('Validation MSE');\n",
    "ax1.legend(loc='best');"
   ]
  },
  {
   "cell_type": "code",
   "execution_count": 47,
   "metadata": {},
   "outputs": [
    {
     "name": "stderr",
     "output_type": "stream",
     "text": [
      "C:\\Users\\Mark Mintae Kim\\anaconda3\\lib\\site-packages\\sklearn\\model_selection\\_split.py:293: FutureWarning: Setting a random_state has no effect since shuffle is False. This will raise an error in 0.24. You should leave random_state to its default (None), or set shuffle=True.\n",
      "  warnings.warn(\n"
     ]
    }
   ],
   "source": [
    "# Create the 10 folds using sklearn KFolds\n",
    "kf = KFold(n_splits=10, random_state=1)\n",
    "\n",
    "mses = np.zeros([10, len(predictors)])\n",
    "\n",
    "for fold, (train, test) in enumerate(kf.split(df)):\n",
    "    # split data for this fold\n",
    "    df_train = df.iloc[train]\n",
    "    df_test = df.iloc[test]\n",
    "    \n",
    "    # compute the best model subsets using our function\n",
    "    models = backward_step_select(df_train, predictors, ['Salary'], max_features=19)\n",
    "    \n",
    "    # compute the MSE of each model\n",
    "    for idx, model in enumerate(models):\n",
    "        # get the predictors for this model, ignore constant\n",
    "        features = list(model[1].params.index[1:])\n",
    "    \n",
    "        # get the corresponding columns of df_test\n",
    "        X_test = sm.add_constant(df_test[features])\n",
    "    \n",
    "        # make prediction for this model\n",
    "        salary_pred = model[1].predict(X_test)\n",
    "    \n",
    "        # get the MSE for this model and fold\n",
    "        mses[fold, idx] = np.mean((salary_pred - df_test.Salary.values)**2)\n",
    "        \n",
    "# now we can compute the mean MSE across folds, one per model with idx features\n",
    "cvs = np.mean(mses, axis=0)"
   ]
  },
  {
   "cell_type": "code",
   "execution_count": 48,
   "metadata": {},
   "outputs": [
    {
     "data": {
      "image/png": "[encoded data removed]",
      "text/plain": [
       "<Figure size 576x288 with 1 Axes>"
      ]
     },
     "metadata": {
      "needs_background": "light"
     },
     "output_type": "display_data"
    }
   ],
   "source": [
    "# We can also plot all the models CV-Errors\n",
    "# set predictors for x-axis\n",
    "num_predictors = np.linspace(1,len(models),len(models))\n",
    "\n",
    "fig, ax1 = plt.subplots(figsize=(8,4));\n",
    "\n",
    "# get the minimum in the CV\n",
    "min_index, min_CV = min(enumerate(cvs), key = itemgetter(1))\n",
    "\n",
    "# add the mse and mimimum mse to the plot\n",
    "ax1.plot(num_predictors, cvs, 'b', marker='o', label='Test MSE')\n",
    "ax1.plot(min_index+1, min_CV, 'rx', markersize=20, markeredgewidth=2)\n",
    "\n",
    "# Labels and Legend\n",
    "ax1.set_xlabel('19 - Number of Predictors');\n",
    "ax1.set_ylabel('CV Error');\n",
    "ax1.legend(loc='best');"
   ]
  },
  {
   "cell_type": "markdown",
   "metadata": {},
   "source": [
    "# 11. Ridge regression (20pt)"
   ]
  },
  {
   "cell_type": "markdown",
   "metadata": {},
   "source": [
    "**1) Perform direct approach to optimize the ridge regression on ````Boston```` dataset, and store the estimated beta to ````beta_direct````.**"
   ]
  },
  {
   "cell_type": "code",
   "execution_count": 49,
   "metadata": {},
   "outputs": [
    {
     "name": "stdout",
     "output_type": "stream",
     "text": [
      "Directly learned parameters with lambda = 1: [34.2726 -0.9332]\n",
      "Directly learned parameters with lambda = 2: [33.9959 -0.9166]\n",
      "Directly learned parameters with lambda = 3: [33.7236 -0.9002]\n",
      "Directly learned parameters with lambda = 0.5: [34.4126 -0.9416]\n",
      "Directly learned parameters with lambda = 0.1: [34.5255 -0.9483]\n",
      "\n",
      "Directly learned parameters with lambda tends to become smaller when lambda gets larger.\n"
     ]
    }
   ],
   "source": [
    "from numpy.linalg import inv\n",
    "# load data\n",
    "boston = pd.read_csv('data/Boston.csv')\n",
    "# regression using 2 columns\n",
    "X_train = boston[\"lstat\"].values\n",
    "X_train = sm.add_constant(X_train)\n",
    "y_true = boston['medv'].values\n",
    "\n",
    "penalty_lambda_1 = 1 * np.identity(2)\n",
    "penalty_lambda_2 = 2 * np.identity(2)\n",
    "penalty_lambda_3 = 3 * np.identity(2)\n",
    "penalty_lambda_4 = 0.5 * np.identity(2)\n",
    "penalty_lambda_5 = 0.1 * np.identity(2)\n",
    "\n",
    "beta_direct_1 = inv(X_train.T.dot(X_train)+penalty_lambda_1).dot(X_train.T).dot(y_true)\n",
    "beta_direct_2 = inv(X_train.T.dot(X_train)+penalty_lambda_2).dot(X_train.T).dot(y_true)\n",
    "beta_direct_3 = inv(X_train.T.dot(X_train)+penalty_lambda_3).dot(X_train.T).dot(y_true)\n",
    "beta_direct_4 = inv(X_train.T.dot(X_train)+penalty_lambda_4).dot(X_train.T).dot(y_true)\n",
    "beta_direct_5 = inv(X_train.T.dot(X_train)+penalty_lambda_5).dot(X_train.T).dot(y_true)\n",
    "\n",
    "print(\"Directly learned parameters with lambda = 1: {}\".format(beta_direct_1))\n",
    "print(\"Directly learned parameters with lambda = 2: {}\".format(beta_direct_2))\n",
    "print(\"Directly learned parameters with lambda = 3: {}\".format(beta_direct_3))\n",
    "print(\"Directly learned parameters with lambda = 0.5: {}\".format(beta_direct_4))\n",
    "print(\"Directly learned parameters with lambda = 0.1: {}\".format(beta_direct_5))\n",
    "\n",
    "print(\"\\nDirectly learned parameters with lambda tends to become smaller when lambda gets larger.\")"
   ]
  },
  {
   "cell_type": "markdown",
   "metadata": {},
   "source": [
    "**2) Perform gradient descent (Batch gradient descent) to optimize the ridge regression on ````Boston```` dataset, and store the estimated beta to ````beta````.**"
   ]
  },
  {
   "cell_type": "code",
   "execution_count": 50,
   "metadata": {},
   "outputs": [
    {
     "name": "stdout",
     "output_type": "stream",
     "text": [
      "Learned parameters through GD: [34.2656 -0.9327]\n"
     ]
    },
    {
     "data": {
      "image/png": "[encoded data removed]",
      "text/plain": [
       "<Figure size 432x288 with 1 Axes>"
      ]
     },
     "metadata": {
      "needs_background": "light"
     },
     "output_type": "display_data"
    }
   ],
   "source": [
    "import statsmodels.api as sm\n",
    "\n",
    "# load data\n",
    "boston = pd.read_csv('data\\Boston.csv')\n",
    "# regression using all input columns\n",
    "X_train = boston[[\"lstat\"]].values\n",
    "X_train = sm.add_constant(X_train)\n",
    "y_train = boston['medv'].values\n",
    "\n",
    "beta = np.random.rand(2)\n",
    "alpha = 0.001  # The learning Rate\n",
    "epochs = 20000  # The number of iterations to perform gradient descent\n",
    "n = float(len(X_train)) # Number of elements in X\n",
    "\n",
    "penalty_lambda = 0.0001\n",
    "\n",
    "cost = []\n",
    "\n",
    "# Performing gradient descent\n",
    "for epoch in range(epochs): \n",
    "    y_pred = np.dot(X_train, beta)\n",
    "    error = y_pred - y_train    \n",
    "    dbeta = (1/n) * np.dot(X_train.T, error) + penalty_lambda * beta\n",
    "    beta = beta - alpha * dbeta\n",
    "    J = (1/n) * np.dot(error.T, error) - penalty_lambda * np.dot(beta.T, beta)\n",
    "    cost.append(J)\n",
    "\n",
    "plt.plot(np.arange(epochs), cost)\n",
    "plt.title(\"Learning curve\")\n",
    "plt.xlabel(\"Epoch\")\n",
    "plt.ylabel(r\"J($\\beta$)\");\n",
    "\n",
    "print(\"Learned parameters through GD: {}\".format(beta))"
   ]
  },
  {
   "cell_type": "code",
   "execution_count": null,
   "metadata": {},
   "outputs": [],
   "source": []
  }
 ],
 "metadata": {
  "kernelspec": {
   "display_name": "Python 3",
   "language": "python",
   "name": "python3"
  },
  "language_info": {
   "codemirror_mode": {
    "name": "ipython",
    "version": 3
   },
   "file_extension": ".py",
   "mimetype": "text/x-python",
   "name": "python",
   "nbconvert_exporter": "python",
   "pygments_lexer": "ipython3",
   "version": "3.8.5"
  }
 },
 "nbformat": 4,
 "nbformat_minor": 4
}
