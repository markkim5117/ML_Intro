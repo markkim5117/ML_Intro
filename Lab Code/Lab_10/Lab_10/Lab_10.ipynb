{
 "cells": [
  {
   "cell_type": "markdown",
   "metadata": {},
   "source": [
    "# IE343 -- Statistical Machine Learning and Its Applications\n",
    "## Lab 10: Introduction to Deep Learning\n",
    "- [1. Feed-forward Neural Network](#1.-Feed-forward-Neural-Network)\n",
    "    - [1.1. Backpropagation from scratch](#1.1.-Backpropagation-from-scratch)\n",
    "    - [1.2. Backpropagation using PyTorch](#1.2.-Backpropagation-using-PyTorch)\n",
    "- [2. Convolutional Neural Network](#2.-Convolutional-Neural-Network)\n",
    "- [3. Recurrent Neural Network](#3.-Recurrent-Neural-Network)"
   ]
  },
  {
   "cell_type": "markdown",
   "metadata": {},
   "source": [
    "- Install PyTorch\n",
    "    - https://pytorch.org/get-started/locally/\n",
    "- Before you watch this video, I suggest you try the following tutorials on basics of PyTorch.\n",
    "    - https://github.com/yunjey/pytorch-tutorial/blob/master/tutorials/01-basics/pytorch_basics/main.py\n",
    "    - https://github.com/yunjey/pytorch-tutorial/blob/master/tutorials/01-basics/linear_regression/main.py\n",
    "    - https://github.com/yunjey/pytorch-tutorial/blob/master/tutorials/01-basics/logistic_regression/main.py"
   ]
  },
  {
   "cell_type": "markdown",
   "metadata": {},
   "source": [
    "## 1. Feed-forward Neural Network"
   ]
  },
  {
   "cell_type": "markdown",
   "metadata": {},
   "source": [
    "<div>\n",
    "<img src=\"figures/ffn.png\" width=\"800\"/>\n",
    "</div>"
   ]
  },
  {
   "cell_type": "markdown",
   "metadata": {},
   "source": [
    "### 1.1. Backpropagation from scratch\n",
    "Reference: https://www.deeplearningwizard.com/deep_learning/boosting_models_pytorch/forwardpropagation_backpropagation_gradientdescent/"
   ]
  },
  {
   "cell_type": "code",
   "execution_count": 1,
   "metadata": {},
   "outputs": [],
   "source": [
    "from sklearn import datasets\n",
    "from sklearn import preprocessing\n",
    "import numpy as np\n",
    "np.random.seed(0)\n",
    "from sklearn.metrics import accuracy_score, roc_auc_score"
   ]
  },
  {
   "cell_type": "code",
   "execution_count": 2,
   "metadata": {},
   "outputs": [],
   "source": [
    "iris = datasets.load_iris()\n",
    "X = np.array(preprocessing.normalize(iris.data[:, :2]))\n",
    "y = np.array(iris.target.reshape(-1, 1))"
   ]
  },
  {
   "cell_type": "code",
   "execution_count": 3,
   "metadata": {},
   "outputs": [],
   "source": [
    "# We only take 2 classes to make a binary classification problem\n",
    "X = X[:y[y < 2].size]\n",
    "y = y[:y[y < 2].size]"
   ]
  },
  {
   "cell_type": "code",
   "execution_count": 4,
   "metadata": {},
   "outputs": [],
   "source": [
    "# Shuffle dataset\n",
    "idxs = np.random.permutation(X.shape[0])\n",
    "\n",
    "X = X[idxs]\n",
    "y = y[idxs]\n",
    "\n",
    "X_train = X[:80]\n",
    "X_test = X[80:]\n",
    "\n",
    "y_train = y[:80]\n",
    "y_test = y[80:]"
   ]
  },
  {
   "cell_type": "code",
   "execution_count": 5,
   "metadata": {},
   "outputs": [],
   "source": [
    "class FNN_scratch():\n",
    "    def __init__(self):       \n",
    "        # Dimensions for input, hidden and output\n",
    "        self.input_dim = 2\n",
    "        self.hidden_dim = 32\n",
    "        self.output_dim = 1\n",
    "        \n",
    "        # Learning rate definition\n",
    "        self.learning_rate = 0.001\n",
    "        \n",
    "        # Our parameters (weights)\n",
    "        # w1: 2 x 32\n",
    "        self.w1 = np.random.randn(self.input_dim, self.hidden_dim)\n",
    "        \n",
    "        # w2: 32 x 1\n",
    "        self.w2 = np.random.randn(self.hidden_dim, self.output_dim)\n",
    "    \n",
    "    def sigmoid(self, s):\n",
    "        return 1 / (1 + np.exp(-s))\n",
    "    \n",
    "    def sigmoid_first_order_derivative(self, s):\n",
    "        return s * (1 - s)\n",
    "    \n",
    "    # Forward propagation\n",
    "    def forward(self, X):\n",
    "        # First linear layer\n",
    "        self.y1 = np.matmul(X, self.w1) \n",
    "        \n",
    "        # First non-linearity\n",
    "        self.y2 = self.sigmoid(self.y1)\n",
    "        \n",
    "        # Second linear layer\n",
    "        self.y3 = np.matmul(self.y2, self.w2)\n",
    "        \n",
    "        # Second non-linearity (output)\n",
    "        y4 = self.sigmoid(self.y3)\n",
    "        return y4\n",
    "        \n",
    "    # Backward propagation\n",
    "    def backward(self, X, t, y4):\n",
    "        # Derivative of binary cross entropy cost w.r.t. final output y4\n",
    "        self.dL_dy4 = -t/y4 + (1-t)/(1-y4)\n",
    "        \n",
    "        '''\n",
    "        Gradients for w2: partial derivative of cost w.r.t. w2\n",
    "        dL/dw2\n",
    "        '''\n",
    "        self.dy4_dy3 = self.sigmoid_first_order_derivative(y4)\n",
    "        self.dy3_dw2 = self.y2\n",
    "        \n",
    "        # Y4 delta: dL_dy4 dy4_dy3\n",
    "        self.y4_delta = self.dL_dy4 * self.dy4_dy3\n",
    "        \n",
    "        # This is our gradients for w1: dL_dy4 dy4_dy3 dy3_dw2\n",
    "        self.dL_dw2 = np.matmul(np.transpose(self.dy3_dw2), self.y4_delta)\n",
    "        \n",
    "        '''\n",
    "        Gradients for w1: partial derivative of cost w.r.t w1\n",
    "        dL/dw1\n",
    "        '''\n",
    "        self.dy3_dy2 = self.w2\n",
    "        self.dy2_dy1 = self.sigmoid_first_order_derivative(self.y2)\n",
    "        \n",
    "        # Y2 delta: (dL_dy4 dy4_dy3) dy3_dy2 dy2_dy1\n",
    "        self.y2_delta = np.matmul(self.y4_delta, np.transpose(self.dy3_dy2)) * self.dy2_dy1\n",
    "        \n",
    "        # Gradients for w1: (dL_dy4 dy4_dy3) dy3_dy2 dy2_dy1 dy1_dw1\n",
    "        self.dL_dw1 = np.matmul(np.transpose(X), self.y2_delta)\n",
    "        \n",
    "        # Gradient descent on the weights from our 2 linear layers\n",
    "        self.w1 -= self.learning_rate * self.dL_dw1\n",
    "        self.w2 -= self.learning_rate * self.dL_dw2\n",
    "\n",
    "    def train(self, X, t):\n",
    "        # Forward propagation\n",
    "        y4 = self.forward(X)\n",
    "        \n",
    "        # Backward propagation and gradient descent\n",
    "        self.backward(X, t, y4)"
   ]
  },
  {
   "cell_type": "code",
   "execution_count": 6,
   "metadata": {},
   "outputs": [
    {
     "name": "stdout",
     "output_type": "stream",
     "text": [
      "Epoch 0 | Loss: 2.652711898568197\n",
      "Epoch 20 | Loss: 0.7640960477582258\n",
      "Epoch 40 | Loss: 0.7531119085694555\n",
      "Epoch 60 | Loss: 0.7434870879560883\n",
      "Epoch 80 | Loss: 0.7341176912315992\n",
      "Epoch 100 | Loss: 0.7249847721205718\n",
      "Epoch 120 | Loss: 0.7160708754743663\n",
      "Epoch 140 | Loss: 0.7073598952523377\n",
      "Epoch 160 | Loss: 0.6988369754034756\n",
      "Epoch 180 | Loss: 0.6904884196223567\n",
      "Epoch 200 | Loss: 0.6823016090798898\n"
     ]
    },
    {
     "data": {
      "text/plain": [
       "1.0"
      ]
     },
     "execution_count": 6,
     "metadata": {},
     "output_type": "execute_result"
    }
   ],
   "source": [
    "# Instantiate our model class and assign it to our model object\n",
    "model = FNN_scratch()\n",
    "\n",
    "# Loss list for plotting of loss behaviour\n",
    "loss_lst = []\n",
    "\n",
    "# Number of times we want our FNN to look at all 100 samples we have, 100 implies looking through 100x\n",
    "num_epochs = 201\n",
    "\n",
    "# Let's train our model with 100 epochs\n",
    "for epoch in range(num_epochs):\n",
    "    # Get our predictions\n",
    "    y_hat = model.forward(X_train)\n",
    "    \n",
    "    # Cross entropy loss, remember this can never be negative by nature of the equation\n",
    "    # But it does not mean the loss can't be negative for other loss functions\n",
    "    cross_entropy_loss = -(y_train * np.log(y_hat) + (1 - y_train) * np.log(1 - y_hat))\n",
    "    # We have to take cross entropy loss over all our samples, 100 in this 2-class iris dataset\n",
    "    mean_cross_entropy_loss = np.mean(cross_entropy_loss)\n",
    "    \n",
    "    # Print our mean cross entropy loss\n",
    "    if epoch % 20 == 0:\n",
    "        print('Epoch {} | Loss: {}'.format(epoch, mean_cross_entropy_loss))\n",
    "    loss_lst.append(mean_cross_entropy_loss)\n",
    "    \n",
    "    # (1) Forward propagation: to get our predictions to pass to our cross entropy loss function\n",
    "    # (2) Back propagation: get our partial derivatives w.r.t. parameters (gradients)\n",
    "    # (3) Gradient Descent: update our weights with our gradients\n",
    "    model.train(X_train, y_train)\n",
    "\n",
    "# test accuracy    \n",
    "y_hat = model.forward(X_test)    \n",
    "roc_auc_score(y_test, y_hat)"
   ]
  },
  {
   "cell_type": "markdown",
   "metadata": {},
   "source": [
    "### 1.2. Backpropagation using PyTorch"
   ]
  },
  {
   "cell_type": "code",
   "execution_count": 7,
   "metadata": {},
   "outputs": [],
   "source": [
    "import torch\n",
    "import torch.nn as nn\n",
    "import torch.nn.functional as F\n",
    "import torch.optim as optim\n",
    "\n",
    "# To fix the random seed\n",
    "torch.manual_seed(0)\n",
    "torch.cuda.manual_seed_all(0)\n",
    "torch.backends.cudnn.deterministic = True\n",
    "torch.backends.cudnn.benchmark = False"
   ]
  },
  {
   "cell_type": "code",
   "execution_count": 8,
   "metadata": {},
   "outputs": [],
   "source": [
    "iris = datasets.load_iris()\n",
    "X = torch.tensor(preprocessing.normalize(iris.data[:, :2]), dtype=torch.float)\n",
    "y = torch.tensor(iris.target.reshape(-1, 1), dtype=torch.float)\n",
    "\n",
    "# We only take 2 classes to make a binary classification problem\n",
    "X = X[:y[y < 2].size()[0]]\n",
    "y = y[:y[y < 2].size()[0]]"
   ]
  },
  {
   "cell_type": "code",
   "execution_count": 9,
   "metadata": {},
   "outputs": [],
   "source": [
    "# Shuffle dataset\n",
    "idxs = np.random.permutation(X.shape[0])\n",
    "\n",
    "X = X[idxs]\n",
    "y = y[idxs]\n",
    "\n",
    "X_train = X[:80]\n",
    "X_test = X[80:]\n",
    "\n",
    "y_train = y[:80]\n",
    "y_test = y[80:]"
   ]
  },
  {
   "cell_type": "code",
   "execution_count": 10,
   "metadata": {},
   "outputs": [],
   "source": [
    "class FNN_pytorch(nn.Module):\n",
    "    def __init__(self, ):\n",
    "        super().__init__()\n",
    "        \n",
    "        # Dimensions for input, hidden and output\n",
    "        self.input_dim = 2\n",
    "        self.hidden_dim = 32\n",
    "        self.output_dim = 1\n",
    "        \n",
    "        # First hidden layer\n",
    "        self.fc1 = nn.Linear(self.input_dim, self.hidden_dim)\n",
    "        \n",
    "        # Second hidden layer\n",
    "        self.fc2 = nn.Linear(self.hidden_dim, self.output_dim)\n",
    "        \n",
    "    def forward(self, X):\n",
    "        # y1 = W1 x X\n",
    "        y1 = self.fc1(X)\n",
    "        \n",
    "        # y2 = sigma(y1)\n",
    "        y2 = torch.sigmoid(y1)\n",
    "        \n",
    "        # y3 = W2 x y2\n",
    "        y3 = self.fc2(y2)\n",
    "        \n",
    "        # y4 = sigma(y3)\n",
    "        y4 = torch.sigmoid(y3)\n",
    "        \n",
    "        return y4"
   ]
  },
  {
   "cell_type": "code",
   "execution_count": 11,
   "metadata": {},
   "outputs": [
    {
     "name": "stdout",
     "output_type": "stream",
     "text": [
      "Epoch 0 | Loss: 0.7028536200523376\n",
      "Epoch 20 | Loss: 0.6915583610534668\n",
      "Epoch 40 | Loss: 0.6904309988021851\n",
      "Epoch 60 | Loss: 0.6890848875045776\n",
      "Epoch 80 | Loss: 0.6876074075698853\n",
      "Epoch 100 | Loss: 0.685966432094574\n",
      "Epoch 120 | Loss: 0.684127688407898\n",
      "Epoch 140 | Loss: 0.6820585131645203\n",
      "Epoch 160 | Loss: 0.6797219514846802\n",
      "Epoch 180 | Loss: 0.6770758628845215\n",
      "Epoch 200 | Loss: 0.6740745902061462\n"
     ]
    },
    {
     "data": {
      "text/plain": [
       "1.0"
      ]
     },
     "execution_count": 11,
     "metadata": {},
     "output_type": "execute_result"
    }
   ],
   "source": [
    "# Instantiate our model class and assign it to our model object\n",
    "model = FNN_pytorch()\n",
    "\n",
    "# Loss list for plotting of loss behaviour\n",
    "loss_lst = []\n",
    "\n",
    "# Number of times we want our FNN to look at all 100 samples we have, 100 implies looking through 100x\n",
    "num_epochs = 201\n",
    "\n",
    "# Define loss (binary cross entropy)\n",
    "criterion = nn.BCELoss()\n",
    "\n",
    "# Define optimizer and set learning rate\n",
    "optimizer = optim.Adam(model.parameters(), lr=0.001)\n",
    "\n",
    "# Let's train our model with 100 epochs\n",
    "for epoch in range(num_epochs):\n",
    "    # zeroes the gradient buffers of all parameters\n",
    "    model.zero_grad()\n",
    "    \n",
    "    # (1) Forward propagation: to get our predictions to pass to our cross entropy loss function\n",
    "    # Get our predictions\n",
    "    y_hat = model(X_train)\n",
    "    \n",
    "    # Cross entropy loss\n",
    "    loss = criterion(y_hat, y_train)\n",
    "    \n",
    "    # (2) Back propagation: get our partial derivatives w.r.t. parameters (gradients)\n",
    "    # compute gradients\n",
    "    loss.backward()\n",
    "    \n",
    "    # (3) Gradient Descent: update our weights with our gradients\n",
    "    # update parameters\n",
    "    optimizer.step()\n",
    "    \n",
    "    # Print our mean cross entropy loss\n",
    "    if epoch % 20 == 0:\n",
    "        print('Epoch {} | Loss: {}'.format(epoch, loss.item()))\n",
    "    loss_lst.append(loss.item())\n",
    "\n",
    "# test accuracy\n",
    "y_hat = model(X_test)    \n",
    "roc_auc_score(y_test, y_hat.detach().numpy())"
   ]
  },
  {
   "cell_type": "markdown",
   "metadata": {},
   "source": [
    "## 2. Convolutional Neural Network\n",
    "Reference: https://pytorch.org/tutorials/beginner/blitz/cifar10_tutorial.html"
   ]
  },
  {
   "cell_type": "markdown",
   "metadata": {},
   "source": [
    "<div>\n",
    "<img src=\"figures/cnn.png\" width=\"800\"/>\n",
    "</div>"
   ]
  },
  {
   "cell_type": "code",
   "execution_count": 12,
   "metadata": {},
   "outputs": [],
   "source": [
    "import torch.nn as nn\n",
    "import torch.nn.functional as F\n",
    "import torch\n",
    "import torchvision\n",
    "import torchvision.transforms as transforms\n",
    "import torch.optim as optim"
   ]
  },
  {
   "cell_type": "code",
   "execution_count": 13,
   "metadata": {},
   "outputs": [
    {
     "name": "stdout",
     "output_type": "stream",
     "text": [
      "Files already downloaded and verified\n",
      "Files already downloaded and verified\n"
     ]
    }
   ],
   "source": [
    "transform = transforms.Compose(\n",
    "    [transforms.ToTensor(),\n",
    "     transforms.Normalize((0.5, 0.5, 0.5), (0.5, 0.5, 0.5))])\n",
    "\n",
    "batch_size = 4\n",
    "\n",
    "trainset = torchvision.datasets.CIFAR10(root='./data', train=True,\n",
    "                                        download=True, transform=transform)\n",
    "trainloader = torch.utils.data.DataLoader(trainset, batch_size=batch_size,\n",
    "                                          shuffle=True, num_workers=2)\n",
    "\n",
    "testset = torchvision.datasets.CIFAR10(root='./data', train=False,\n",
    "                                       download=True, transform=transform)\n",
    "testloader = torch.utils.data.DataLoader(testset, batch_size=batch_size,\n",
    "                                         shuffle=False, num_workers=2)\n",
    "\n",
    "classes = ('plane', 'car', 'bird', 'cat',\n",
    "           'deer', 'dog', 'frog', 'horse', 'ship', 'truck')"
   ]
  },
  {
   "cell_type": "code",
   "execution_count": 14,
   "metadata": {},
   "outputs": [
    {
     "data": {
      "image/png": "[encoded data removed]",
      "text/plain": [
       "<Figure size 432x288 with 1 Axes>"
      ]
     },
     "metadata": {
      "needs_background": "light"
     },
     "output_type": "display_data"
    },
    {
     "name": "stdout",
     "output_type": "stream",
     "text": [
      "horse horse   cat   dog\n"
     ]
    }
   ],
   "source": [
    "import matplotlib.pyplot as plt\n",
    "import numpy as np\n",
    "\n",
    "# functions to show an image\n",
    "def imshow(img):\n",
    "    img = img / 2 + 0.5     # unnormalize\n",
    "    npimg = img.numpy()\n",
    "    plt.imshow(np.transpose(npimg, (1, 2, 0)))\n",
    "    plt.show()\n",
    "\n",
    "# get some random training images\n",
    "dataiter = iter(trainloader)\n",
    "images, labels = dataiter.next()\n",
    "\n",
    "# show images\n",
    "imshow(torchvision.utils.make_grid(images))\n",
    "# print labels\n",
    "print(' '.join('%5s' % classes[labels[j]] for j in range(batch_size)))"
   ]
  },
  {
   "cell_type": "code",
   "execution_count": 15,
   "metadata": {},
   "outputs": [],
   "source": [
    "class CNN(nn.Module):\n",
    "    def __init__(self):\n",
    "        super().__init__()\n",
    "        self.conv1 = nn.Conv2d(3, 6, 5)\n",
    "        self.pool = nn.MaxPool2d(2, 2)\n",
    "        self.conv2 = nn.Conv2d(6, 16, 5)\n",
    "        self.fc1 = nn.Linear(16 * 5 * 5, 120)\n",
    "        self.fc2 = nn.Linear(120, 84)\n",
    "        self.fc3 = nn.Linear(84, 10)\n",
    "\n",
    "    def forward(self, x):\n",
    "        x = self.pool(F.relu(self.conv1(x)))\n",
    "        x = self.pool(F.relu(self.conv2(x)))\n",
    "        x = torch.flatten(x, 1) # flatten all dimensions except batch\n",
    "        x = F.relu(self.fc1(x))\n",
    "        x = F.relu(self.fc2(x))\n",
    "        x = self.fc3(x)\n",
    "        return x"
   ]
  },
  {
   "cell_type": "code",
   "execution_count": 16,
   "metadata": {},
   "outputs": [],
   "source": [
    "cnn = CNN()\n",
    "criterion = nn.CrossEntropyLoss()\n",
    "optimizer = optim.SGD(cnn.parameters(), lr=0.001, momentum=0.9)"
   ]
  },
  {
   "cell_type": "code",
   "execution_count": 17,
   "metadata": {},
   "outputs": [
    {
     "name": "stdout",
     "output_type": "stream",
     "text": [
      "[1,  2000] loss: 2.185\n",
      "[1,  4000] loss: 1.862\n",
      "[1,  6000] loss: 1.682\n",
      "[1,  8000] loss: 1.602\n",
      "[1, 10000] loss: 1.529\n",
      "[1, 12000] loss: 1.480\n",
      "[2,  2000] loss: 1.412\n",
      "[2,  4000] loss: 1.396\n",
      "[2,  6000] loss: 1.335\n",
      "[2,  8000] loss: 1.339\n",
      "[2, 10000] loss: 1.296\n",
      "[2, 12000] loss: 1.299\n",
      "Finished Training\n"
     ]
    }
   ],
   "source": [
    "for epoch in range(2):  # loop over the dataset multiple times\n",
    "    running_loss = 0.0\n",
    "    for i, data in enumerate(trainloader, 0):\n",
    "        # get the inputs; data is a list of [inputs, labels]\n",
    "        inputs, labels = data\n",
    "\n",
    "        # zero the parameter gradients\n",
    "        optimizer.zero_grad()\n",
    "\n",
    "        # (1) Forward propagation: to get our predictions to pass to our cross entropy loss function\n",
    "        # Get our predictions\n",
    "        outputs = cnn(inputs)\n",
    "        \n",
    "        # Cross entropy loss\n",
    "        loss = criterion(outputs, labels)\n",
    "        \n",
    "        # (2) Back propagation: get our partial derivatives w.r.t. parameters (gradients)\n",
    "        # compute gradients\n",
    "        loss.backward()\n",
    "        \n",
    "        # (3) Gradient Descent: update our weights with our gradients\n",
    "        # update parameters\n",
    "        optimizer.step()\n",
    "\n",
    "        # print statistics\n",
    "        running_loss += loss.item()\n",
    "        if i % 2000 == 1999:    # print every 2000 mini-batches\n",
    "            print('[%d, %5d] loss: %.3f' %\n",
    "                  (epoch + 1, i + 1, running_loss / 2000))\n",
    "            running_loss = 0.0\n",
    "\n",
    "print('Finished Training')"
   ]
  },
  {
   "cell_type": "code",
   "execution_count": 18,
   "metadata": {},
   "outputs": [
    {
     "data": {
      "image/png": "[encoded data removed]",
      "text/plain": [
       "<Figure size 432x288 with 1 Axes>"
      ]
     },
     "metadata": {
      "needs_background": "light"
     },
     "output_type": "display_data"
    },
    {
     "name": "stdout",
     "output_type": "stream",
     "text": [
      "GroundTruth:    cat  ship  ship plane\n"
     ]
    }
   ],
   "source": [
    "dataiter = iter(testloader)\n",
    "images, labels = dataiter.next()\n",
    "\n",
    "# print images\n",
    "imshow(torchvision.utils.make_grid(images))\n",
    "print('GroundTruth: ', ' '.join('%5s' % classes[labels[j]] for j in range(4)))"
   ]
  },
  {
   "cell_type": "code",
   "execution_count": 19,
   "metadata": {},
   "outputs": [
    {
     "name": "stdout",
     "output_type": "stream",
     "text": [
      "Predicted:    cat  ship   car  ship\n"
     ]
    }
   ],
   "source": [
    "outputs = cnn(images)\n",
    "\n",
    "_, predicted = torch.max(outputs, 1)\n",
    "\n",
    "print('Predicted: ', ' '.join('%5s' % classes[predicted[j]] for j in range(4)))"
   ]
  },
  {
   "cell_type": "code",
   "execution_count": 20,
   "metadata": {},
   "outputs": [
    {
     "name": "stdout",
     "output_type": "stream",
     "text": [
      "Accuracy of the network on the 10000 test images: 56 %\n"
     ]
    }
   ],
   "source": [
    "correct = 0\n",
    "total = 0\n",
    "# since we're not training, we don't need to calculate the gradients for our outputs\n",
    "with torch.no_grad():\n",
    "    for data in testloader:\n",
    "        images, labels = data\n",
    "        # calculate outputs by running images through the network \n",
    "        outputs = cnn(images)\n",
    "        # the class with the highest energy is what we choose as prediction\n",
    "        _, predicted = torch.max(outputs.data, 1)\n",
    "        total += labels.size(0)\n",
    "        correct += (predicted == labels).sum().item()\n",
    "\n",
    "print('Accuracy of the network on the 10000 test images: %d %%' % (100 * correct / total))"
   ]
  },
  {
   "cell_type": "code",
   "execution_count": 21,
   "metadata": {},
   "outputs": [
    {
     "name": "stdout",
     "output_type": "stream",
     "text": [
      "Accuracy for class plane is: 58.9 %\n",
      "Accuracy for class car   is: 55.2 %\n",
      "Accuracy for class bird  is: 48.0 %\n",
      "Accuracy for class cat   is: 23.9 %\n",
      "Accuracy for class deer  is: 44.1 %\n",
      "Accuracy for class dog   is: 54.5 %\n",
      "Accuracy for class frog  is: 71.3 %\n",
      "Accuracy for class horse is: 65.2 %\n",
      "Accuracy for class ship  is: 66.8 %\n",
      "Accuracy for class truck is: 74.5 %\n"
     ]
    }
   ],
   "source": [
    "# prepare to count predictions for each class\n",
    "correct_pred = {classname: 0 for classname in classes}\n",
    "total_pred = {classname: 0 for classname in classes}\n",
    "\n",
    "# again no gradients needed\n",
    "with torch.no_grad():\n",
    "    for data in testloader:\n",
    "        images, labels = data    \n",
    "        outputs = cnn(images)    \n",
    "        _, predictions = torch.max(outputs, 1)\n",
    "        # collect the correct predictions for each class\n",
    "        for label, prediction in zip(labels, predictions):\n",
    "            if label == prediction:\n",
    "                correct_pred[classes[label]] += 1\n",
    "            total_pred[classes[label]] += 1\n",
    "\n",
    "# print accuracy for each class\n",
    "for classname, correct_count in correct_pred.items():\n",
    "    accuracy = 100 * float(correct_count) / total_pred[classname]\n",
    "    print(\"Accuracy for class {:5s} is: {:.1f} %\".format(classname, accuracy))"
   ]
  },
  {
   "cell_type": "markdown",
   "metadata": {},
   "source": [
    "## 3. Recurrent Neural Network\n",
    "Reference: https://github.com/yunjey/pytorch-tutorial/blob/master/tutorials/02-intermediate/recurrent_neural_network/main.py"
   ]
  },
  {
   "cell_type": "markdown",
   "metadata": {},
   "source": [
    "<div>\n",
    "<img src=\"figures/rnn.png\" width=\"800\"/>\n",
    "</div>"
   ]
  },
  {
   "cell_type": "code",
   "execution_count": 22,
   "metadata": {},
   "outputs": [],
   "source": [
    "# Hyper-parameters\n",
    "sequence_length = 28\n",
    "input_size = 28\n",
    "hidden_size = 128\n",
    "num_layers = 2\n",
    "num_classes = 10\n",
    "batch_size = 100\n",
    "num_epochs = 2\n",
    "learning_rate = 0.001"
   ]
  },
  {
   "cell_type": "code",
   "execution_count": 24,
   "metadata": {},
   "outputs": [],
   "source": [
    "from torchvision.datasets import MNIST\n",
    "\n",
    "transform = transforms.Compose([transforms.ToTensor()])\n",
    "\n",
    "# MNIST dataset\n",
    "train_dataset = MNIST(root = './data/', train=True, transform=transform)\n",
    "test_dataset = MNIST(root = './data/', train=False, transform=transform)\n",
    "\n",
    "# Data loader\n",
    "train_loader = torch.utils.data.DataLoader(dataset=train_dataset,\n",
    "                                           batch_size=batch_size, \n",
    "                                           shuffle=True)\n",
    "\n",
    "test_loader = torch.utils.data.DataLoader(dataset=test_dataset,\n",
    "                                          batch_size=batch_size, \n",
    "                                          shuffle=False)"
   ]
  },
  {
   "cell_type": "code",
   "execution_count": 25,
   "metadata": {},
   "outputs": [],
   "source": [
    "# Recurrent neural network (many-to-one)\n",
    "class RNN(nn.Module):\n",
    "    def __init__(self, input_size, hidden_size, num_layers, num_classes):\n",
    "        super(RNN, self).__init__()\n",
    "        self.hidden_size = hidden_size\n",
    "        self.num_layers = num_layers\n",
    "        self.rnn = nn.RNN(input_size, hidden_size, num_layers, batch_first=True)\n",
    "        self.fc = nn.Linear(hidden_size, num_classes)\n",
    "    \n",
    "    def forward(self, x):\n",
    "        # Set initial hidden states \n",
    "        h0 = torch.zeros(self.num_layers, x.size(0), self.hidden_size)\n",
    "\n",
    "        # Forward propagate RNN\n",
    "        out, hn = self.rnn(x, h0)  # out: tensor of shape (batch_size, seq_length, hidden_size), hn: tensor of shape (num_layers * num_directions, batch_size, hidden_size)\n",
    "        \n",
    "        # Decode the hidden state of the last time step\n",
    "        out = self.fc(out[:, -1, :])  # out = self.fc(hn[-1,:,:]). <-- This gives us the equivalent output.\n",
    "        return out"
   ]
  },
  {
   "cell_type": "code",
   "execution_count": null,
   "metadata": {},
   "outputs": [
    {
     "name": "stdout",
     "output_type": "stream",
     "text": [
      "Epoch [1/2], Step [100/600], Loss: 0.9483\n",
      "Epoch [1/2], Step [200/600], Loss: 0.5975\n",
      "Epoch [1/2], Step [300/600], Loss: 0.7230\n",
      "Epoch [1/2], Step [400/600], Loss: 0.6153\n",
      "Epoch [1/2], Step [500/600], Loss: 0.4330\n",
      "Epoch [1/2], Step [600/600], Loss: 0.3194\n",
      "Epoch [2/2], Step [100/600], Loss: 0.4147\n",
      "Epoch [2/2], Step [200/600], Loss: 0.2786\n",
      "Epoch [2/2], Step [300/600], Loss: 0.0803\n"
     ]
    }
   ],
   "source": [
    "rnn = RNN(input_size, hidden_size, num_layers, num_classes)\n",
    "\n",
    "# Loss and optimizer\n",
    "criterion = nn.CrossEntropyLoss()\n",
    "optimizer = torch.optim.Adam(rnn.parameters(), lr=learning_rate)\n",
    "\n",
    "# Train the model\n",
    "total_step = len(train_loader)\n",
    "for epoch in range(num_epochs):\n",
    "    for i, (images, labels) in enumerate(train_loader):\n",
    "        images = images.reshape(-1, sequence_length, input_size)\n",
    "        labels = labels\n",
    "        \n",
    "        # Forward pass\n",
    "        outputs = rnn(images)\n",
    "        loss = criterion(outputs, labels)\n",
    "        \n",
    "        # Backward and optimize\n",
    "        optimizer.zero_grad()\n",
    "        loss.backward()\n",
    "        optimizer.step()\n",
    "        \n",
    "        if (i+1) % 100 == 0:\n",
    "            print ('Epoch [{}/{}], Step [{}/{}], Loss: {:.4f}' \n",
    "                   .format(epoch+1, num_epochs, i+1, total_step, loss.item()))\n",
    "\n",
    "# Test the model\n",
    "rnn.eval()\n",
    "with torch.no_grad():\n",
    "    correct = 0\n",
    "    total = 0\n",
    "    for images, labels in test_loader:\n",
    "        images = images.reshape(-1, sequence_length, input_size)\n",
    "        labels = labels\n",
    "        outputs = rnn(images)\n",
    "        _, predicted = torch.max(outputs.data, 1)\n",
    "        total += labels.size(0)\n",
    "        correct += (predicted == labels).sum().item()\n",
    "\n",
    "    print('Test Accuracy of the model on the 10000 test images: {} %'.format(100 * correct / total)) \n",
    "\n",
    "# Save the model checkpoint\n",
    "torch.save(rnn.state_dict(), 'rnn.ckpt')"
   ]
  },
  {
   "cell_type": "code",
   "execution_count": null,
   "metadata": {
    "collapsed": true,
    "jupyter": {
     "outputs_hidden": true
    }
   },
   "outputs": [],
   "source": []
  },
  {
   "cell_type": "code",
   "execution_count": null,
   "metadata": {
    "collapsed": true,
    "jupyter": {
     "outputs_hidden": true
    }
   },
   "outputs": [],
   "source": []
  },
  {
   "cell_type": "code",
   "execution_count": null,
   "metadata": {
    "collapsed": true,
    "jupyter": {
     "outputs_hidden": true
    }
   },
   "outputs": [],
   "source": []
  }
 ],
 "metadata": {
  "kernelspec": {
   "display_name": "Python 3",
   "language": "python",
   "name": "python3"
  },
  "language_info": {
   "codemirror_mode": {
    "name": "ipython",
    "version": 3
   },
   "file_extension": ".py",
   "mimetype": "text/x-python",
   "name": "python",
   "nbconvert_exporter": "python",
   "pygments_lexer": "ipython3",
   "version": "3.8.5"
  }
 },
 "nbformat": 4,
 "nbformat_minor": 4
}
