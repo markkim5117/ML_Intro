{
 "cells": [
  {
   "cell_type": "markdown",
   "metadata": {},
   "source": [
    "# IE343 -- Statistical Machine Learning and Its Applications\n",
    "## Lab 5: Linear Model Selection and Regularization\n",
    "### [Lab 5-1: Subset Selection Methods](#5-1:-Subset-Selection-Methods)\n",
    "- [1.1. Best Subset Selection](#1.1.-Best-Subset-Selection)\n",
    "- [1.2. Forward and Backward Stepwise Selection](#1.2.-Forward-and-Backward-Stepwise-Selection)\n",
    "- [1.3. Choosing Among Models Using the Validation Set Approach and Cross-Validation](#1.3.-Choosing-Among-Models-Using-the-Validation-Set-Approach-and-Cross-Validation)\n",
    "\n",
    "### [Lab 5-2: Ridge Regression and the Lasso](#5-2:-Ridge-Regression-and-the-Lasso)\n",
    "- [2.1. Ridge Regression](#2.1.-Ridge-Regression)\n",
    "- [2.2. The Lasso](#2.2.-The-Lasso)\n",
    "\n",
    "### [Lab 5-3: PCR and PLS Regression](#5-3:-PCR-and-PLS-Regression)\n",
    "- [3.1. Principal Components Regression](#3.1.-Principal-Components-Regression)\n",
    "- [3.2. Partial Least Squares](#3.2.-Partial-Least-Squares)"
   ]
  },
  {
   "cell_type": "markdown",
   "metadata": {},
   "source": [
    "**Note that the code in this notebook is mostly adapted from [this github repository.](https://github.com/mscaudill/IntroStatLearn/tree/master/notebooks/Ch6_Linear_Model_Selection_Regularization)"
   ]
  },
  {
   "cell_type": "code",
   "execution_count": 1,
   "metadata": {},
   "outputs": [],
   "source": [
    "# perform standard imports\n",
    "import numpy as np\n",
    "import pandas as pd\n",
    "import statsmodels.api as sm\n",
    "import scipy\n",
    "\n",
    "from tqdm import tqdm # a python package that provides progress bars for iterables\n",
    "from operator import itemgetter\n",
    "from itertools import combinations\n",
    "from sklearn.model_selection import KFold\n",
    "from matplotlib import pyplot as plt\n",
    "\n",
    "%matplotlib inline\n",
    "plt.style.use('ggplot') # emulate R's pretty plotting\n",
    "\n",
    "# print numpy arrays with precision 4\n",
    "np.set_printoptions(precision=4)"
   ]
  },
  {
   "cell_type": "markdown",
   "metadata": {},
   "source": [
    "## Load Dataset"
   ]
  },
  {
   "cell_type": "markdown",
   "metadata": {},
   "source": [
    "The 'Hitters' dataset contains statistics for baseball players and their salaries. Some of the rows have missing data. We need to locate these rows and drop them from the dataframe."
   ]
  },
  {
   "cell_type": "code",
   "execution_count": 2,
   "metadata": {},
   "outputs": [
    {
     "name": "stdout",
     "output_type": "stream",
     "text": [
      "Hitters contains 322 players\n",
      "We are missing data for 59 players\n",
      "After removal Hitters contains 263 players\n",
      "Shape=(263, 20)\n"
     ]
    },
    {
     "data": {
      "text/html": [
       "<div>\n",
       "<style scoped>\n",
       "    .dataframe tbody tr th:only-of-type {\n",
       "        vertical-align: middle;\n",
       "    }\n",
       "\n",
       "    .dataframe tbody tr th {\n",
       "        vertical-align: top;\n",
       "    }\n",
       "\n",
       "    .dataframe thead th {\n",
       "        text-align: right;\n",
       "    }\n",
       "</style>\n",
       "<table border=\"1\" class=\"dataframe\">\n",
       "  <thead>\n",
       "    <tr style=\"text-align: right;\">\n",
       "      <th></th>\n",
       "      <th>AtBat</th>\n",
       "      <th>Hits</th>\n",
       "      <th>HmRun</th>\n",
       "      <th>Runs</th>\n",
       "      <th>RBI</th>\n",
       "      <th>Walks</th>\n",
       "      <th>Years</th>\n",
       "      <th>CAtBat</th>\n",
       "      <th>CHits</th>\n",
       "      <th>CHmRun</th>\n",
       "      <th>CRuns</th>\n",
       "      <th>CRBI</th>\n",
       "      <th>CWalks</th>\n",
       "      <th>League</th>\n",
       "      <th>Division</th>\n",
       "      <th>PutOuts</th>\n",
       "      <th>Assists</th>\n",
       "      <th>Errors</th>\n",
       "      <th>Salary</th>\n",
       "      <th>NewLeague</th>\n",
       "    </tr>\n",
       "  </thead>\n",
       "  <tbody>\n",
       "    <tr>\n",
       "      <th>1</th>\n",
       "      <td>315</td>\n",
       "      <td>81</td>\n",
       "      <td>7</td>\n",
       "      <td>24</td>\n",
       "      <td>38</td>\n",
       "      <td>39</td>\n",
       "      <td>14</td>\n",
       "      <td>3449</td>\n",
       "      <td>835</td>\n",
       "      <td>69</td>\n",
       "      <td>321</td>\n",
       "      <td>414</td>\n",
       "      <td>375</td>\n",
       "      <td>N</td>\n",
       "      <td>W</td>\n",
       "      <td>632</td>\n",
       "      <td>43</td>\n",
       "      <td>10</td>\n",
       "      <td>475.0</td>\n",
       "      <td>N</td>\n",
       "    </tr>\n",
       "    <tr>\n",
       "      <th>2</th>\n",
       "      <td>479</td>\n",
       "      <td>130</td>\n",
       "      <td>18</td>\n",
       "      <td>66</td>\n",
       "      <td>72</td>\n",
       "      <td>76</td>\n",
       "      <td>3</td>\n",
       "      <td>1624</td>\n",
       "      <td>457</td>\n",
       "      <td>63</td>\n",
       "      <td>224</td>\n",
       "      <td>266</td>\n",
       "      <td>263</td>\n",
       "      <td>A</td>\n",
       "      <td>W</td>\n",
       "      <td>880</td>\n",
       "      <td>82</td>\n",
       "      <td>14</td>\n",
       "      <td>480.0</td>\n",
       "      <td>A</td>\n",
       "    </tr>\n",
       "    <tr>\n",
       "      <th>3</th>\n",
       "      <td>496</td>\n",
       "      <td>141</td>\n",
       "      <td>20</td>\n",
       "      <td>65</td>\n",
       "      <td>78</td>\n",
       "      <td>37</td>\n",
       "      <td>11</td>\n",
       "      <td>5628</td>\n",
       "      <td>1575</td>\n",
       "      <td>225</td>\n",
       "      <td>828</td>\n",
       "      <td>838</td>\n",
       "      <td>354</td>\n",
       "      <td>N</td>\n",
       "      <td>E</td>\n",
       "      <td>200</td>\n",
       "      <td>11</td>\n",
       "      <td>3</td>\n",
       "      <td>500.0</td>\n",
       "      <td>N</td>\n",
       "    </tr>\n",
       "    <tr>\n",
       "      <th>4</th>\n",
       "      <td>321</td>\n",
       "      <td>87</td>\n",
       "      <td>10</td>\n",
       "      <td>39</td>\n",
       "      <td>42</td>\n",
       "      <td>30</td>\n",
       "      <td>2</td>\n",
       "      <td>396</td>\n",
       "      <td>101</td>\n",
       "      <td>12</td>\n",
       "      <td>48</td>\n",
       "      <td>46</td>\n",
       "      <td>33</td>\n",
       "      <td>N</td>\n",
       "      <td>E</td>\n",
       "      <td>805</td>\n",
       "      <td>40</td>\n",
       "      <td>4</td>\n",
       "      <td>91.5</td>\n",
       "      <td>N</td>\n",
       "    </tr>\n",
       "    <tr>\n",
       "      <th>5</th>\n",
       "      <td>594</td>\n",
       "      <td>169</td>\n",
       "      <td>4</td>\n",
       "      <td>74</td>\n",
       "      <td>51</td>\n",
       "      <td>35</td>\n",
       "      <td>11</td>\n",
       "      <td>4408</td>\n",
       "      <td>1133</td>\n",
       "      <td>19</td>\n",
       "      <td>501</td>\n",
       "      <td>336</td>\n",
       "      <td>194</td>\n",
       "      <td>A</td>\n",
       "      <td>W</td>\n",
       "      <td>282</td>\n",
       "      <td>421</td>\n",
       "      <td>25</td>\n",
       "      <td>750.0</td>\n",
       "      <td>A</td>\n",
       "    </tr>\n",
       "  </tbody>\n",
       "</table>\n",
       "</div>"
      ],
      "text/plain": [
       "   AtBat  Hits  HmRun  Runs  RBI  Walks  Years  CAtBat  CHits  CHmRun  CRuns  \\\n",
       "1    315    81      7    24   38     39     14    3449    835      69    321   \n",
       "2    479   130     18    66   72     76      3    1624    457      63    224   \n",
       "3    496   141     20    65   78     37     11    5628   1575     225    828   \n",
       "4    321    87     10    39   42     30      2     396    101      12     48   \n",
       "5    594   169      4    74   51     35     11    4408   1133      19    501   \n",
       "\n",
       "   CRBI  CWalks League Division  PutOuts  Assists  Errors  Salary NewLeague  \n",
       "1   414     375      N        W      632       43      10   475.0         N  \n",
       "2   266     263      A        W      880       82      14   480.0         A  \n",
       "3   838     354      N        E      200       11       3   500.0         N  \n",
       "4    46      33      N        E      805       40       4    91.5         N  \n",
       "5   336     194      A        W      282      421      25   750.0         A  "
      ]
     },
     "execution_count": 2,
     "metadata": {},
     "output_type": "execute_result"
    }
   ],
   "source": [
    "hitters = pd.read_csv('Hitters.csv')\n",
    "\n",
    "# Get the number of players  and the number of players with missing values\n",
    "print('Hitters contains {} players'.format(len(hitters)))\n",
    "num_missing = np.sum(hitters.isnull().any(axis=1))\n",
    "print('We are missing data for {} players'.format(num_missing))\n",
    "\n",
    "# now remove the missing players for dataframe\n",
    "hitters = hitters.dropna()\n",
    "print('After removal Hitters contains {} players'.format(len(hitters)))\n",
    "print('Shape={}'.format(hitters.shape))\n",
    "hitters.head()"
   ]
  },
  {
   "cell_type": "markdown",
   "metadata": {},
   "source": [
    "Notice that columns League, Division and NewLeague are categorical. We will need to make dummy variables for these."
   ]
  },
  {
   "cell_type": "code",
   "execution_count": 3,
   "metadata": {},
   "outputs": [
    {
     "data": {
      "text/html": [
       "<div>\n",
       "<style scoped>\n",
       "    .dataframe tbody tr th:only-of-type {\n",
       "        vertical-align: middle;\n",
       "    }\n",
       "\n",
       "    .dataframe tbody tr th {\n",
       "        vertical-align: top;\n",
       "    }\n",
       "\n",
       "    .dataframe thead th {\n",
       "        text-align: right;\n",
       "    }\n",
       "</style>\n",
       "<table border=\"1\" class=\"dataframe\">\n",
       "  <thead>\n",
       "    <tr style=\"text-align: right;\">\n",
       "      <th></th>\n",
       "      <th>League_A</th>\n",
       "      <th>League_N</th>\n",
       "      <th>Division_E</th>\n",
       "      <th>Division_W</th>\n",
       "      <th>NewLeague_A</th>\n",
       "      <th>NewLeague_N</th>\n",
       "    </tr>\n",
       "  </thead>\n",
       "  <tbody>\n",
       "    <tr>\n",
       "      <th>1</th>\n",
       "      <td>0</td>\n",
       "      <td>1</td>\n",
       "      <td>0</td>\n",
       "      <td>1</td>\n",
       "      <td>0</td>\n",
       "      <td>1</td>\n",
       "    </tr>\n",
       "    <tr>\n",
       "      <th>2</th>\n",
       "      <td>1</td>\n",
       "      <td>0</td>\n",
       "      <td>0</td>\n",
       "      <td>1</td>\n",
       "      <td>1</td>\n",
       "      <td>0</td>\n",
       "    </tr>\n",
       "  </tbody>\n",
       "</table>\n",
       "</div>"
      ],
      "text/plain": [
       "   League_A  League_N  Division_E  Division_W  NewLeague_A  NewLeague_N\n",
       "1         0         1           0           1            0            1\n",
       "2         1         0           0           1            1            0"
      ]
     },
     "execution_count": 3,
     "metadata": {},
     "output_type": "execute_result"
    }
   ],
   "source": [
    "# Create a set of dummy variables for the categoricals\n",
    "dummies = pd.get_dummies(hitters[['League', 'Division', 'NewLeague']])\n",
    "dummies.head(2)"
   ]
  },
  {
   "cell_type": "code",
   "execution_count": 4,
   "metadata": {},
   "outputs": [
    {
     "data": {
      "text/html": [
       "<div>\n",
       "<style scoped>\n",
       "    .dataframe tbody tr th:only-of-type {\n",
       "        vertical-align: middle;\n",
       "    }\n",
       "\n",
       "    .dataframe tbody tr th {\n",
       "        vertical-align: top;\n",
       "    }\n",
       "\n",
       "    .dataframe thead th {\n",
       "        text-align: right;\n",
       "    }\n",
       "</style>\n",
       "<table border=\"1\" class=\"dataframe\">\n",
       "  <thead>\n",
       "    <tr style=\"text-align: right;\">\n",
       "      <th></th>\n",
       "      <th>AtBat</th>\n",
       "      <th>Hits</th>\n",
       "      <th>HmRun</th>\n",
       "      <th>Runs</th>\n",
       "      <th>RBI</th>\n",
       "      <th>Walks</th>\n",
       "      <th>Years</th>\n",
       "      <th>CAtBat</th>\n",
       "      <th>CHits</th>\n",
       "      <th>CHmRun</th>\n",
       "      <th>CRuns</th>\n",
       "      <th>CRBI</th>\n",
       "      <th>CWalks</th>\n",
       "      <th>PutOuts</th>\n",
       "      <th>Assists</th>\n",
       "      <th>Errors</th>\n",
       "      <th>Salary</th>\n",
       "      <th>League_N</th>\n",
       "      <th>Division_W</th>\n",
       "      <th>NewLeague_N</th>\n",
       "    </tr>\n",
       "  </thead>\n",
       "  <tbody>\n",
       "    <tr>\n",
       "      <th>1</th>\n",
       "      <td>315</td>\n",
       "      <td>81</td>\n",
       "      <td>7</td>\n",
       "      <td>24</td>\n",
       "      <td>38</td>\n",
       "      <td>39</td>\n",
       "      <td>14</td>\n",
       "      <td>3449</td>\n",
       "      <td>835</td>\n",
       "      <td>69</td>\n",
       "      <td>321</td>\n",
       "      <td>414</td>\n",
       "      <td>375</td>\n",
       "      <td>632</td>\n",
       "      <td>43</td>\n",
       "      <td>10</td>\n",
       "      <td>475.0</td>\n",
       "      <td>1</td>\n",
       "      <td>1</td>\n",
       "      <td>1</td>\n",
       "    </tr>\n",
       "    <tr>\n",
       "      <th>2</th>\n",
       "      <td>479</td>\n",
       "      <td>130</td>\n",
       "      <td>18</td>\n",
       "      <td>66</td>\n",
       "      <td>72</td>\n",
       "      <td>76</td>\n",
       "      <td>3</td>\n",
       "      <td>1624</td>\n",
       "      <td>457</td>\n",
       "      <td>63</td>\n",
       "      <td>224</td>\n",
       "      <td>266</td>\n",
       "      <td>263</td>\n",
       "      <td>880</td>\n",
       "      <td>82</td>\n",
       "      <td>14</td>\n",
       "      <td>480.0</td>\n",
       "      <td>0</td>\n",
       "      <td>1</td>\n",
       "      <td>0</td>\n",
       "    </tr>\n",
       "  </tbody>\n",
       "</table>\n",
       "</div>"
      ],
      "text/plain": [
       "   AtBat  Hits  HmRun  Runs  RBI  Walks  Years  CAtBat  CHits  CHmRun  CRuns  \\\n",
       "1    315    81      7    24   38     39     14    3449    835      69    321   \n",
       "2    479   130     18    66   72     76      3    1624    457      63    224   \n",
       "\n",
       "   CRBI  CWalks  PutOuts  Assists  Errors  Salary  League_N  Division_W  \\\n",
       "1   414     375      632       43      10   475.0         1           1   \n",
       "2   266     263      880       82      14   480.0         0           1   \n",
       "\n",
       "   NewLeague_N  \n",
       "1            1  \n",
       "2            0  "
      ]
     },
     "execution_count": 4,
     "metadata": {},
     "output_type": "execute_result"
    }
   ],
   "source": [
    "# Generate new dataframe with new dummy variables\n",
    "df = hitters.drop(['League', 'Division', 'NewLeague'], axis=1)\n",
    "# add new dummy variables\n",
    "df = pd.concat([df, dummies[['League_N', 'Division_W', 'NewLeague_N']]],axis=1)\n",
    "df.head(2)"
   ]
  },
  {
   "cell_type": "markdown",
   "metadata": {},
   "source": [
    "## 5-1: Subset Selection Methods\n",
    "\n",
    "**Subset selection:** We identify a subset of the $p$ predictors that we believe to be related to the response. We then fit a model using least squares on the reduced set of variables. \n",
    "\n",
    "Which variables to keep and which to drop?\n",
    "\n",
    "- [1.1. Best Subset Selection](#1.1.-Best-Subset-Selection)\n",
    "- [1.2. Forward and Backward Stepwise Selection](#1.2.-Forward-and-Backward-Stepwise-Selection)\n",
    "- [1.3. Choosing Among Models Using the Validation Set Approach and Cross-Validation](#1.3.-Choosing-Among-Models-Using-the-Validation-Set-Approach-and-Cross-Validation)\n",
    "\n",
    "### 1.1. Best Subset Selection\n",
    "- Idea\n",
    "    - Exhaust all possible combinations of inputs\n",
    "    - With $p$ variables, there are $2^p$ many distinct combinations.\n",
    "    - Identify the best model among these models.\n",
    "\n",
    "<div>\n",
    "<img src=\"figures/best_subset.png\" width=\"500\"/>\n",
    "</div>"
   ]
  },
  {
   "cell_type": "markdown",
   "metadata": {},
   "source": [
    "- Advantage: Simple, easy to implement and conceptually clear.\n",
    "- Disadvantage\n",
    "    - 1. Computationally expensive\n",
    "        - With $p$ variables, there are $2^p$ many distinct combinations\n",
    "    - 2. Statistical problems when 𝑝 is large (Overfitting)\n",
    "        - Larger the search space, the higher the chance of finding models that look good on the training data, even though they might not have any predictive power on future data."
   ]
  },
  {
   "cell_type": "code",
   "execution_count": 5,
   "metadata": {},
   "outputs": [],
   "source": [
    "def best_subsets(dataframe, predictors, response, max_features=8):\n",
    "    \"\"\"\n",
    "    Regresses response onto subsets of the predictors in dataframe. Compares models with equal feature \n",
    "    numbers choosing the one with the lowest RSS as the 'best' model for that number of features.\n",
    "    \n",
    "    PARAMETERS\n",
    "    ----------\n",
    "    dataframe : pandas dataframe obj containing responses and predictors\n",
    "    predictors : list of column names of dataframe used as features\n",
    "    response : list of column name of dataframe used as target\n",
    "    \n",
    "    RETURNS\n",
    "    -------\n",
    "    a list of best models, one per feature number\n",
    "    \n",
    "    ex.\n",
    "    [best 1 feat model, best two feat model] = best_subsets(df, predictors, response, max_features = 2)\n",
    "    \"\"\"\n",
    "    \n",
    "    def process_linear_model(features):\n",
    "        \"\"\"\n",
    "        Constructs Linear Regression Model of response onto features.\n",
    "        \"\"\"\n",
    "        # Create design Matrix\n",
    "        X = sm.add_constant(dataframe[features])\n",
    "        y = dataframe[response]\n",
    "\n",
    "        model = sm.OLS(y,X).fit()\n",
    "        RSS = model.ssr\n",
    "        return (model, RSS)\n",
    "\n",
    "    def get_best_kth_model(k):\n",
    "        \"\"\"\n",
    "        Returns the model from all models with k-predictors with the lowest RSS.\n",
    "        \"\"\"\n",
    "        results = []\n",
    "\n",
    "        for combo in combinations(predictors, k):\n",
    "            # process linear model with this combo of features\n",
    "            results.append(process_linear_model(list(combo)))\n",
    "\n",
    "        # sort the models and return the one with the smallest RSS\n",
    "        return sorted(results, key=itemgetter(1)).pop(0)[0]\n",
    "    \n",
    "    models =[]\n",
    "    for k in tqdm(range(1,max_features+1)):\n",
    "        models.append(get_best_kth_model(k))\n",
    "    \n",
    "    return models"
   ]
  },
  {
   "cell_type": "code",
   "execution_count": 6,
   "metadata": {},
   "outputs": [
    {
     "name": "stderr",
     "output_type": "stream",
     "text": [
      "100%|██████████| 3/3 [00:06<00:00,  2.08s/it]\n"
     ]
    }
   ],
   "source": [
    "# call our best_subsets function\n",
    "predictors = list(df.columns)\n",
    "predictors.remove('Salary')\n",
    "models = best_subsets(df, predictors, ['Salary'], max_features=3)"
   ]
  },
  {
   "cell_type": "code",
   "execution_count": 7,
   "metadata": {
    "scrolled": true
   },
   "outputs": [
    {
     "data": {
      "text/plain": [
       "const   -47.955902\n",
       "Hits      3.300845\n",
       "CRBI      0.689899\n",
       "dtype: float64"
      ]
     },
     "execution_count": 7,
     "metadata": {},
     "output_type": "execute_result"
    }
   ],
   "source": [
    "# The best two variable model has CRBI and Hits as predictors\n",
    "models[1].params"
   ]
  },
  {
   "cell_type": "markdown",
   "metadata": {},
   "source": [
    "### Plot Best Models for Each Predictor Number"
   ]
  },
  {
   "cell_type": "code",
   "execution_count": 8,
   "metadata": {},
   "outputs": [
    {
     "data": {
      "image/png": "[encoded data removed]",
      "text/plain": [
       "<Figure size 1152x288 with 2 Axes>"
      ]
     },
     "metadata": {},
     "output_type": "display_data"
    }
   ],
   "source": [
    "# Now that we have the best models for a given number of varaibles we can compare models with different\n",
    "# predictors using aic, bic and r_adj. Note AIC and Mallow's Cp are proportional to each other. We will \n",
    "# create plots of these statistics to find the best model for baseball player salary.\n",
    "aics = [models[x].aic for x in range(len(models))]\n",
    "bics = [models[x].bic for x in range(len(models))]\n",
    "r_adj = [models[x].rsquared_adj for x in range(len(models))]\n",
    "\n",
    "# find the mins/maxes\n",
    "min_aic_index, min_aic = min(enumerate(aics), key=itemgetter(1))\n",
    "min_bic_index, min_bic = min(enumerate(bics), key=itemgetter(1))\n",
    "max_radj_index, max_radj = max(enumerate(r_adj), key=itemgetter(1))\n",
    "\n",
    "num_predictors = np.linspace(1,len(models),len(models))\n",
    "# Create a plot\n",
    "fig,(ax1, ax2) = plt.subplots(1,2,figsize=(16,4))\n",
    "# Add test MSE estimates\n",
    "ax1.plot(num_predictors, aics, 'r', marker='o', label='AIC');\n",
    "ax1.plot(num_predictors, bics, 'b', marker='o', label='BIC')\n",
    "\n",
    "# add the minimums to the axis\n",
    "ax1.plot(min_aic_index+1, min_aic, 'gx', markersize=20, markeredgewidth=1)\n",
    "ax1.plot(min_bic_index+1, min_bic, 'gx', markersize=20, markeredgewidth=1)\n",
    "\n",
    "# Labels and Legend\n",
    "ax1.set_xlabel('Number of Predictors');\n",
    "ax1.set_ylabel('Test MSE');\n",
    "ax1.legend(loc='best');\n",
    "\n",
    "# Add Adj R**2\n",
    "ax2.plot(num_predictors, r_adj,'k', marker='o')\n",
    "ax2.plot(max_radj_index+1, max_radj, 'gx', markersize=20, markeredgewidth=1)\n",
    "ax2.set_xlabel('Number of Predictors');\n",
    "ax2.set_ylabel('Adjusted R**2');"
   ]
  },
  {
   "cell_type": "markdown",
   "metadata": {},
   "source": [
    "Recall from lecture 5,\n",
    "- $C_{p}=\\frac{1}{n}\\left(R S S+2 d \\hat{\\sigma}^{2}\\right)$\n",
    "- $A I C=\\frac{1}{n \\hat{\\sigma}^{2}}\\left(R S S+2 d \\hat{\\sigma}^{2}\\right)$\n",
    "- $B I C=\\frac{1}{n}\\left(R S S+\\log (n) d \\hat{\\sigma}^{2}\\right)$ --> <font color='red'>**Severe penalty for large models!**</font>"
   ]
  },
  {
   "cell_type": "code",
   "execution_count": 9,
   "metadata": {},
   "outputs": [
    {
     "data": {
      "text/plain": [
       "const     -71.459220\n",
       "Hits        2.803816\n",
       "CRBI        0.682528\n",
       "PutOuts     0.273581\n",
       "dtype: float64"
      ]
     },
     "execution_count": 9,
     "metadata": {},
     "output_type": "execute_result"
    }
   ],
   "source": [
    "# The Lowest BIC model has the following coeffecients\n",
    "models[2].params"
   ]
  },
  {
   "cell_type": "markdown",
   "metadata": {},
   "source": [
    "### 1.2. Forward and Backward Stepwise Selection\n",
    "#### 1.2.1. Forward Stepwise Selection\n",
    "- Idea\n",
    "    - Begin with a model containing no predictors, and then add predictors to the model, one-at-a-time, until all of the predictors are in the model.\n",
    "    - At each step the variable that gives the greatest additional improvement to the fit is added to the model.\n",
    "    \n",
    "<div>\n",
    "<img src=\"figures/forward_stepwise.png\" width=\"700\"/>\n",
    "</div>"
   ]
  },
  {
   "cell_type": "markdown",
   "metadata": {},
   "source": [
    "- Advantage: \n",
    "    - 1. Computationally efficient\n",
    "        - Only need to consider $1+\\sum_{k=0}^{p-1}(p-k)=1+\\frac{p(p+1)}{2}$\n",
    "        - When 𝑝=20\n",
    "            - Best subset selection: $2^{20}=1,048,576$ models\n",
    "            - Forward Stepwise selection: $1+\\frac{20(20+1)}{2}=211$ models\n",
    "    - 2. Can work for even in the high-dimensional setting i.e., $n<p$\n",
    "        - But, it is possible to construct submodels $𝑀_0,…,𝑀_{𝑛−1}$ only, since each submodel is fit using least squares, which will not yield a unique solution if $n<p$\n",
    "        \n",
    "- Disadvantage\n",
    "    - Not guaranteed to find the best subset (Once an input is in, it does not get out)\n",
    "    \n",
    "<div>\n",
    "<img src=\"figures/forward_stepwise_drawback.png\" width=\"500\"/>\n",
    "</div>"
   ]
  },
  {
   "cell_type": "code",
   "execution_count": 10,
   "metadata": {},
   "outputs": [],
   "source": [
    "import pdb\n",
    "def forward_step_select(df, predictors, response, max_features=len(predictors)):\n",
    "    \"\"\"\n",
    "    Regresses response onto predictors using a forward step algorithm. Features are added based on minimum RSS.\n",
    "    \n",
    "    PARAMETERS\n",
    "    -----------\n",
    "    df : dataframe containing predictors and responses\n",
    "    predictors : list of all possible model predictors\n",
    "    response : list[variable] to regress onto predictors in df\n",
    "    max_features : maximum number of features to use from predictors list\n",
    "    \n",
    "    RETURNS\n",
    "    --------\n",
    "    list of models with increasing number of features upto max_features\n",
    "    \n",
    "    \"\"\"\n",
    "    \n",
    "    def process_linear_model(features):\n",
    "        \"\"\"\n",
    "        Constructs Linear Model Regression of response onto features.\n",
    "        \"\"\"\n",
    "        # Create design Matrix\n",
    "        X = sm.add_constant(df[features])\n",
    "        y = df[response]\n",
    "\n",
    "        model = sm.OLS(y,X).fit()\n",
    "        RSS = model.ssr\n",
    "        return (model, RSS)\n",
    "\n",
    "    def update_model(best_features, remaining_features):\n",
    "        \"\"\"\n",
    "        Computes the RSS of possible new models and returns the model with the lowest RSS.\n",
    "        \"\"\"\n",
    "        results = []\n",
    "        \n",
    "        for feature in remaining_features:\n",
    "            results.append(process_linear_model(best_features + [feature]))\n",
    "        \n",
    "        # select model with the lowest RSS\n",
    "        new_model = sorted(results, key= itemgetter(1)).pop(0)[0]\n",
    "        new_features = list(new_model.params.index)[1:]\n",
    "        \n",
    "        return new_features, new_model\n",
    "    \n",
    "    # Create list to hold models, model features and the remaining features to test\n",
    "    models = []\n",
    "    best_features = []\n",
    "    remaining_features = predictors\n",
    "    \n",
    "    while remaining_features and len(best_features) < max_features:        \n",
    "        # get the best new feature set from update_model\n",
    "        new_features, new_model = update_model(best_features, remaining_features)\n",
    "        # update the best features to include the one we just found\n",
    "        best_features = new_features  \n",
    "        # reduce the available features for the next round\n",
    "        remaining_features =  [feature for feature in predictors if feature not in best_features]\n",
    "        \n",
    "        # append the new_features and model so we can compare models with different features later\n",
    "        models.append((new_features,new_model))\n",
    "        \n",
    "    return models"
   ]
  },
  {
   "cell_type": "code",
   "execution_count": 11,
   "metadata": {},
   "outputs": [],
   "source": [
    "# Call our forward step function\n",
    "# set up inputs\n",
    "predictors = list(df.columns)\n",
    "predictors.remove('Salary')\n",
    "# call forward_step_select\n",
    "mods = forward_step_select(df,predictors,['Salary'],max_features=19)"
   ]
  },
  {
   "cell_type": "code",
   "execution_count": 12,
   "metadata": {},
   "outputs": [
    {
     "data": {
      "text/plain": [
       "const         109.787306\n",
       "CRBI            0.853762\n",
       "Hits            7.449877\n",
       "PutOuts         0.253340\n",
       "Division_W   -127.122393\n",
       "AtBat          -1.958885\n",
       "Walks           4.913140\n",
       "CWalks         -0.305307\n",
       "dtype: float64"
      ]
     },
     "execution_count": 12,
     "metadata": {},
     "output_type": "execute_result"
    }
   ],
   "source": [
    "mods[6][1].params # The seventh models features agree with regsubsets fwd result from lab."
   ]
  },
  {
   "cell_type": "markdown",
   "metadata": {},
   "source": [
    "#### 1.2.2. Backward Stepwise Selection\n",
    "- Like forward stepwise selection, backward stepwise selection provides an efficient alternative to best subset selection.\n",
    "- However, unlike forward stepwise selection, it begins with the full least squares model containing all $p$ predictors, and then iteratively removes the least useful predictor, one-at-a-time.\n",
    "\n",
    "<div>\n",
    "<img src=\"figures/backward_stepwise.png\" width=\"700\"/>\n",
    "</div>"
   ]
  },
  {
   "cell_type": "markdown",
   "metadata": {},
   "source": [
    "- Advantage: Computational efficiency\n",
    "    - Same as forward stepwise selection\n",
    "- Disadvantage\n",
    "    - 1) Not guaranteed to find the best subset (like forward stepwise selection)\n",
    "        - Once an input is out, it does not get in.\n",
    "    - 2) Cannot work for $n<p$ \n",
    "        - We start with the model with all $p$ predictors"
   ]
  },
  {
   "cell_type": "markdown",
   "metadata": {},
   "source": [
    "<font color='red'>**Try to implement yourself**</font>\n",
    "\n",
    "Hint: Backwards subset selection works very similarly to forward except we remove features in the update_model function based on the feature which reduces the RSS the most."
   ]
  },
  {
   "cell_type": "markdown",
   "metadata": {},
   "source": [
    "### 1.3. Choosing Among Models Using the Validation Set Approach and Cross-Validation"
   ]
  },
  {
   "cell_type": "markdown",
   "metadata": {},
   "source": [
    "### Validation: Train/Test Split"
   ]
  },
  {
   "cell_type": "markdown",
   "metadata": {},
   "source": [
    "We start by splitting the data into a train set and a test set to perform validation."
   ]
  },
  {
   "cell_type": "code",
   "execution_count": 13,
   "metadata": {},
   "outputs": [],
   "source": [
    "# create an index to break the hitters dataframe into a train and test set that are roughly equal in size\n",
    "np.random.seed(0)\n",
    "index = np.random.choice([True, False], size=len(df))\n",
    "\n",
    "# split the data into train and validation sets\n",
    "df_train = df[index]\n",
    "df_test = df[~index]"
   ]
  },
  {
   "cell_type": "markdown",
   "metadata": {},
   "source": [
    "### Construct models from the Train Set"
   ]
  },
  {
   "cell_type": "code",
   "execution_count": 14,
   "metadata": {},
   "outputs": [],
   "source": [
    "# Now we construct models from the training set selecting the best models using our best_subsets function\n",
    "predictors = list(df_train.columns)\n",
    "predictors.remove('Salary')\n",
    "models = forward_step_select(df_train, predictors, ['Salary'], max_features=19)"
   ]
  },
  {
   "cell_type": "markdown",
   "metadata": {},
   "source": [
    "### Evaluate MSE of Models on Validation Set"
   ]
  },
  {
   "cell_type": "code",
   "execution_count": 15,
   "metadata": {},
   "outputs": [
    {
     "name": "stdout",
     "output_type": "stream",
     "text": [
      "MSEs = [197453.6869 174455.6938 171032.0227 157148.6279 160632.673  153558.7767\n",
      " 152983.229  153873.0514 150133.6039 150855.2866 153924.5203 158212.0204\n",
      " 159706.1481 160150.8428 155067.9795 155263.8078 157272.7422 156868.3555\n",
      " 156763.4384]\n"
     ]
    }
   ],
   "source": [
    "# now for each of the models we will perform prediction and get MSE on the test data\n",
    "mses = np.array([])\n",
    "for model in models:\n",
    "    # get the predictors for this model, ignore constant\n",
    "    features = list(model[1].params.index[1:])\n",
    "    \n",
    "    # get the corresponding columns of df_test\n",
    "    X_test = sm.add_constant(df_test[features])\n",
    "    \n",
    "    # make prediction for this model\n",
    "    salary_pred = model[1].predict(X_test)\n",
    "    \n",
    "    # get the MSE for this model\n",
    "    mses = np.append(mses, np.mean((salary_pred - df_test.Salary.values)**2))\n",
    "print('MSEs =', mses)"
   ]
  },
  {
   "cell_type": "markdown",
   "metadata": {},
   "source": [
    "### Determine the Best Model (lowest Test MSE)"
   ]
  },
  {
   "cell_type": "code",
   "execution_count": 16,
   "metadata": {},
   "outputs": [
    {
     "name": "stdout",
     "output_type": "stream",
     "text": [
      "8 150133.60393975192\n"
     ]
    }
   ],
   "source": [
    "min_index, min_mse = min(enumerate(mses), key=itemgetter(1))\n",
    "print(min_index, min_mse)"
   ]
  },
  {
   "cell_type": "code",
   "execution_count": 17,
   "metadata": {},
   "outputs": [
    {
     "name": "stdout",
     "output_type": "stream",
     "text": [
      "9-Variable Model: ['const', 'CHmRun', 'Hits', 'PutOuts', 'CRuns', 'CAtBat', 'AtBat', 'League_N', 'NewLeague_N']\n"
     ]
    }
   ],
   "source": [
    "print('9-Variable Model:', list(models[7][1].params.index))"
   ]
  },
  {
   "cell_type": "markdown",
   "metadata": {},
   "source": [
    "### Plot MSEs "
   ]
  },
  {
   "cell_type": "code",
   "execution_count": 18,
   "metadata": {},
   "outputs": [
    {
     "data": {
      "image/png": "[encoded data removed]",
      "text/plain": [
       "<Figure size 576x288 with 1 Axes>"
      ]
     },
     "metadata": {},
     "output_type": "display_data"
    }
   ],
   "source": [
    "# We can also plot all the models MSEs\n",
    "# set predictors for x-axis\n",
    "num_predictors = np.linspace(1,len(models),len(models)).astype(int)\n",
    "\n",
    "fig, ax1 = plt.subplots(figsize=(8,4));\n",
    "\n",
    "# add the mse and mimimum mse to the plot\n",
    "ax1.plot(num_predictors, mses, 'r', marker='o', label='MSE')\n",
    "ax1.plot(min_index+1, min_mse, 'gx', markersize=20, markeredgewidth=2)\n",
    "\n",
    "# Labels and Legend\n",
    "ax1.set_xlabel('Number of Predictors');\n",
    "ax1.set_ylabel('Validation MSE');\n",
    "ax1.legend(loc='best');"
   ]
  },
  {
   "cell_type": "markdown",
   "metadata": {},
   "source": [
    "## Cross-Validation Model Selection"
   ]
  },
  {
   "cell_type": "markdown",
   "metadata": {},
   "source": [
    "For Cross-Validation we will split the data into 10-folds. For each fold, we will compute the best models, one per model dimension where the dimension is from one feature to all features. So in total we will have the MSE for 19 models in each of the 10 folds. We will average the MSEs across folds to get the Cross-Validation Test MSE."
   ]
  },
  {
   "cell_type": "code",
   "execution_count": 19,
   "metadata": {},
   "outputs": [
    {
     "name": "stderr",
     "output_type": "stream",
     "text": [
      "C:\\Users\\Mark Mintae Kim\\anaconda3\\lib\\site-packages\\sklearn\\model_selection\\_split.py:293: FutureWarning: Setting a random_state has no effect since shuffle is False. This will raise an error in 0.24. You should leave random_state to its default (None), or set shuffle=True.\n",
      "  warnings.warn(\n"
     ]
    }
   ],
   "source": [
    "# Create the 10 folds using sklearn KFolds\n",
    "kf = KFold(n_splits=10, random_state=1)\n",
    "\n",
    "mses = np.zeros([10, len(predictors)])\n",
    "\n",
    "for fold, (train, test) in enumerate(kf.split(df)):\n",
    "    # split data for this fold\n",
    "    df_train = df.iloc[train]\n",
    "    df_test = df.iloc[test]\n",
    "    \n",
    "    # compute the best model subsets using our function\n",
    "    models = forward_step_select(df_train, predictors, ['Salary'], max_features=19)\n",
    "    \n",
    "    # compute the MSE of each model\n",
    "    for idx, model in enumerate(models):\n",
    "        # get the predictors for this model, ignore constant\n",
    "        features = list(model[1].params.index[1:])\n",
    "    \n",
    "        # get the corresponding columns of df_test\n",
    "        X_test = sm.add_constant(df_test[features])\n",
    "    \n",
    "        # make prediction for this model\n",
    "        salary_pred = model[1].predict(X_test)\n",
    "    \n",
    "        # get the MSE for this model and fold\n",
    "        mses[fold, idx] = np.mean((salary_pred - df_test.Salary.values)**2)\n",
    "        \n",
    "# now we can compute the mean MSE across folds, one per model with idx features\n",
    "cvs = np.mean(mses, axis=0) "
   ]
  },
  {
   "cell_type": "markdown",
   "metadata": {},
   "source": [
    "### Plot Cross-Validation Errors"
   ]
  },
  {
   "cell_type": "code",
   "execution_count": 20,
   "metadata": {},
   "outputs": [
    {
     "data": {
      "image/png": "[encoded data removed]",
      "text/plain": [
       "<Figure size 576x288 with 1 Axes>"
      ]
     },
     "metadata": {},
     "output_type": "display_data"
    }
   ],
   "source": [
    "# We can also plot all the models CV-Errors\n",
    "# set predictors for x-axis\n",
    "num_predictors = np.linspace(1,len(models),len(models))\n",
    "\n",
    "fig, ax1 = plt.subplots(figsize=(8,4));\n",
    "\n",
    "# get the minimum in the CV\n",
    "min_index, min_CV = min(enumerate(cvs), key=itemgetter(1))\n",
    "\n",
    "# add the mse and mimimum mse to the plot\n",
    "ax1.plot(num_predictors, cvs, 'b', marker='o', label='Test MSE')\n",
    "ax1.plot(min_index+1, min_CV, 'rx', markersize=20, markeredgewidth=2)\n",
    "\n",
    "# Labels and Legend\n",
    "ax1.set_xlabel('Number of Predictors');\n",
    "ax1.set_ylabel('CV Error');\n",
    "ax1.legend(loc='best');"
   ]
  },
  {
   "cell_type": "markdown",
   "metadata": {},
   "source": [
    "## 5-2: Ridge Regression and the Lasso\n",
    "- Shrinkage methods\n",
    "    - The subset selection methods use least squares to fit a linear model that contains a subset of the predictors\n",
    "    - Shrinkage methods use all $p$ predictors, but constrain or regularizes the coefficient estimates, or equivalently shrink the coefficient estimates to zero\n",
    "    - It turns out that shrinking estimated coefficients towards zero can significantly reduce their variance\n",
    "    - Two best-known techniques are ridge regression and lasso\n",
    "\n",
    "<div>\n",
    "<img src=\"figures/regressions.png\" width=\"700\"/>\n",
    "</div>\n",
    "\n",
    "<div>\n",
    "<img src=\"figures/ridge_lasso.png\" width=\"700\"/>\n",
    "</div>"
   ]
  },
  {
   "cell_type": "code",
   "execution_count": 21,
   "metadata": {},
   "outputs": [],
   "source": [
    "hitters = pd.read_csv('Hitters.csv').dropna()\n",
    "hitters = hitters.reset_index(drop=True)\n",
    "hitters.index.name = 'Player'\n",
    "\n",
    "hitters = hitters.iloc[:, [0,1,2,3,4,5,6,7,8,9,10,11,12,13,14,15,16,17,19,18]] # push salary at the end"
   ]
  },
  {
   "cell_type": "code",
   "execution_count": 22,
   "metadata": {},
   "outputs": [
    {
     "data": {
      "text/html": [
       "<div>\n",
       "<style scoped>\n",
       "    .dataframe tbody tr th:only-of-type {\n",
       "        vertical-align: middle;\n",
       "    }\n",
       "\n",
       "    .dataframe tbody tr th {\n",
       "        vertical-align: top;\n",
       "    }\n",
       "\n",
       "    .dataframe thead th {\n",
       "        text-align: right;\n",
       "    }\n",
       "</style>\n",
       "<table border=\"1\" class=\"dataframe\">\n",
       "  <thead>\n",
       "    <tr style=\"text-align: right;\">\n",
       "      <th></th>\n",
       "      <th>AtBat</th>\n",
       "      <th>Hits</th>\n",
       "      <th>HmRun</th>\n",
       "      <th>Runs</th>\n",
       "      <th>RBI</th>\n",
       "      <th>Walks</th>\n",
       "      <th>Years</th>\n",
       "      <th>CAtBat</th>\n",
       "      <th>CHits</th>\n",
       "      <th>CHmRun</th>\n",
       "      <th>CRuns</th>\n",
       "      <th>CRBI</th>\n",
       "      <th>CWalks</th>\n",
       "      <th>League</th>\n",
       "      <th>Division</th>\n",
       "      <th>PutOuts</th>\n",
       "      <th>Assists</th>\n",
       "      <th>Errors</th>\n",
       "      <th>NewLeague</th>\n",
       "      <th>Salary</th>\n",
       "    </tr>\n",
       "    <tr>\n",
       "      <th>Player</th>\n",
       "      <th></th>\n",
       "      <th></th>\n",
       "      <th></th>\n",
       "      <th></th>\n",
       "      <th></th>\n",
       "      <th></th>\n",
       "      <th></th>\n",
       "      <th></th>\n",
       "      <th></th>\n",
       "      <th></th>\n",
       "      <th></th>\n",
       "      <th></th>\n",
       "      <th></th>\n",
       "      <th></th>\n",
       "      <th></th>\n",
       "      <th></th>\n",
       "      <th></th>\n",
       "      <th></th>\n",
       "      <th></th>\n",
       "      <th></th>\n",
       "    </tr>\n",
       "  </thead>\n",
       "  <tbody>\n",
       "    <tr>\n",
       "      <th>0</th>\n",
       "      <td>315</td>\n",
       "      <td>81</td>\n",
       "      <td>7</td>\n",
       "      <td>24</td>\n",
       "      <td>38</td>\n",
       "      <td>39</td>\n",
       "      <td>14</td>\n",
       "      <td>3449</td>\n",
       "      <td>835</td>\n",
       "      <td>69</td>\n",
       "      <td>321</td>\n",
       "      <td>414</td>\n",
       "      <td>375</td>\n",
       "      <td>N</td>\n",
       "      <td>W</td>\n",
       "      <td>632</td>\n",
       "      <td>43</td>\n",
       "      <td>10</td>\n",
       "      <td>N</td>\n",
       "      <td>475.0</td>\n",
       "    </tr>\n",
       "    <tr>\n",
       "      <th>1</th>\n",
       "      <td>479</td>\n",
       "      <td>130</td>\n",
       "      <td>18</td>\n",
       "      <td>66</td>\n",
       "      <td>72</td>\n",
       "      <td>76</td>\n",
       "      <td>3</td>\n",
       "      <td>1624</td>\n",
       "      <td>457</td>\n",
       "      <td>63</td>\n",
       "      <td>224</td>\n",
       "      <td>266</td>\n",
       "      <td>263</td>\n",
       "      <td>A</td>\n",
       "      <td>W</td>\n",
       "      <td>880</td>\n",
       "      <td>82</td>\n",
       "      <td>14</td>\n",
       "      <td>A</td>\n",
       "      <td>480.0</td>\n",
       "    </tr>\n",
       "    <tr>\n",
       "      <th>2</th>\n",
       "      <td>496</td>\n",
       "      <td>141</td>\n",
       "      <td>20</td>\n",
       "      <td>65</td>\n",
       "      <td>78</td>\n",
       "      <td>37</td>\n",
       "      <td>11</td>\n",
       "      <td>5628</td>\n",
       "      <td>1575</td>\n",
       "      <td>225</td>\n",
       "      <td>828</td>\n",
       "      <td>838</td>\n",
       "      <td>354</td>\n",
       "      <td>N</td>\n",
       "      <td>E</td>\n",
       "      <td>200</td>\n",
       "      <td>11</td>\n",
       "      <td>3</td>\n",
       "      <td>N</td>\n",
       "      <td>500.0</td>\n",
       "    </tr>\n",
       "    <tr>\n",
       "      <th>3</th>\n",
       "      <td>321</td>\n",
       "      <td>87</td>\n",
       "      <td>10</td>\n",
       "      <td>39</td>\n",
       "      <td>42</td>\n",
       "      <td>30</td>\n",
       "      <td>2</td>\n",
       "      <td>396</td>\n",
       "      <td>101</td>\n",
       "      <td>12</td>\n",
       "      <td>48</td>\n",
       "      <td>46</td>\n",
       "      <td>33</td>\n",
       "      <td>N</td>\n",
       "      <td>E</td>\n",
       "      <td>805</td>\n",
       "      <td>40</td>\n",
       "      <td>4</td>\n",
       "      <td>N</td>\n",
       "      <td>91.5</td>\n",
       "    </tr>\n",
       "    <tr>\n",
       "      <th>4</th>\n",
       "      <td>594</td>\n",
       "      <td>169</td>\n",
       "      <td>4</td>\n",
       "      <td>74</td>\n",
       "      <td>51</td>\n",
       "      <td>35</td>\n",
       "      <td>11</td>\n",
       "      <td>4408</td>\n",
       "      <td>1133</td>\n",
       "      <td>19</td>\n",
       "      <td>501</td>\n",
       "      <td>336</td>\n",
       "      <td>194</td>\n",
       "      <td>A</td>\n",
       "      <td>W</td>\n",
       "      <td>282</td>\n",
       "      <td>421</td>\n",
       "      <td>25</td>\n",
       "      <td>A</td>\n",
       "      <td>750.0</td>\n",
       "    </tr>\n",
       "  </tbody>\n",
       "</table>\n",
       "</div>"
      ],
      "text/plain": [
       "        AtBat  Hits  HmRun  Runs  RBI  Walks  Years  CAtBat  CHits  CHmRun  \\\n",
       "Player                                                                       \n",
       "0         315    81      7    24   38     39     14    3449    835      69   \n",
       "1         479   130     18    66   72     76      3    1624    457      63   \n",
       "2         496   141     20    65   78     37     11    5628   1575     225   \n",
       "3         321    87     10    39   42     30      2     396    101      12   \n",
       "4         594   169      4    74   51     35     11    4408   1133      19   \n",
       "\n",
       "        CRuns  CRBI  CWalks League Division  PutOuts  Assists  Errors  \\\n",
       "Player                                                                  \n",
       "0         321   414     375      N        W      632       43      10   \n",
       "1         224   266     263      A        W      880       82      14   \n",
       "2         828   838     354      N        E      200       11       3   \n",
       "3          48    46      33      N        E      805       40       4   \n",
       "4         501   336     194      A        W      282      421      25   \n",
       "\n",
       "       NewLeague  Salary  \n",
       "Player                    \n",
       "0              N   475.0  \n",
       "1              A   480.0  \n",
       "2              N   500.0  \n",
       "3              N    91.5  \n",
       "4              A   750.0  "
      ]
     },
     "execution_count": 22,
     "metadata": {},
     "output_type": "execute_result"
    }
   ],
   "source": [
    "hitters.head(5)"
   ]
  },
  {
   "cell_type": "code",
   "execution_count": 23,
   "metadata": {},
   "outputs": [
    {
     "data": {
      "text/html": [
       "<div>\n",
       "<style scoped>\n",
       "    .dataframe tbody tr th:only-of-type {\n",
       "        vertical-align: middle;\n",
       "    }\n",
       "\n",
       "    .dataframe tbody tr th {\n",
       "        vertical-align: top;\n",
       "    }\n",
       "\n",
       "    .dataframe thead th {\n",
       "        text-align: right;\n",
       "    }\n",
       "</style>\n",
       "<table border=\"1\" class=\"dataframe\">\n",
       "  <thead>\n",
       "    <tr style=\"text-align: right;\">\n",
       "      <th></th>\n",
       "      <th>AtBat</th>\n",
       "      <th>Hits</th>\n",
       "      <th>HmRun</th>\n",
       "      <th>Runs</th>\n",
       "      <th>RBI</th>\n",
       "      <th>Walks</th>\n",
       "      <th>Years</th>\n",
       "      <th>CAtBat</th>\n",
       "      <th>CHits</th>\n",
       "      <th>CHmRun</th>\n",
       "      <th>CRuns</th>\n",
       "      <th>CRBI</th>\n",
       "      <th>CWalks</th>\n",
       "      <th>League</th>\n",
       "      <th>Division</th>\n",
       "      <th>PutOuts</th>\n",
       "      <th>Assists</th>\n",
       "      <th>Errors</th>\n",
       "      <th>NewLeague</th>\n",
       "      <th>Salary</th>\n",
       "    </tr>\n",
       "    <tr>\n",
       "      <th>Player</th>\n",
       "      <th></th>\n",
       "      <th></th>\n",
       "      <th></th>\n",
       "      <th></th>\n",
       "      <th></th>\n",
       "      <th></th>\n",
       "      <th></th>\n",
       "      <th></th>\n",
       "      <th></th>\n",
       "      <th></th>\n",
       "      <th></th>\n",
       "      <th></th>\n",
       "      <th></th>\n",
       "      <th></th>\n",
       "      <th></th>\n",
       "      <th></th>\n",
       "      <th></th>\n",
       "      <th></th>\n",
       "      <th></th>\n",
       "      <th></th>\n",
       "    </tr>\n",
       "  </thead>\n",
       "  <tbody>\n",
       "    <tr>\n",
       "      <th>0</th>\n",
       "      <td>315</td>\n",
       "      <td>81</td>\n",
       "      <td>7</td>\n",
       "      <td>24</td>\n",
       "      <td>38</td>\n",
       "      <td>39</td>\n",
       "      <td>14</td>\n",
       "      <td>3449</td>\n",
       "      <td>835</td>\n",
       "      <td>69</td>\n",
       "      <td>321</td>\n",
       "      <td>414</td>\n",
       "      <td>375</td>\n",
       "      <td>1</td>\n",
       "      <td>1</td>\n",
       "      <td>632</td>\n",
       "      <td>43</td>\n",
       "      <td>10</td>\n",
       "      <td>1</td>\n",
       "      <td>475.0</td>\n",
       "    </tr>\n",
       "    <tr>\n",
       "      <th>1</th>\n",
       "      <td>479</td>\n",
       "      <td>130</td>\n",
       "      <td>18</td>\n",
       "      <td>66</td>\n",
       "      <td>72</td>\n",
       "      <td>76</td>\n",
       "      <td>3</td>\n",
       "      <td>1624</td>\n",
       "      <td>457</td>\n",
       "      <td>63</td>\n",
       "      <td>224</td>\n",
       "      <td>266</td>\n",
       "      <td>263</td>\n",
       "      <td>0</td>\n",
       "      <td>1</td>\n",
       "      <td>880</td>\n",
       "      <td>82</td>\n",
       "      <td>14</td>\n",
       "      <td>0</td>\n",
       "      <td>480.0</td>\n",
       "    </tr>\n",
       "    <tr>\n",
       "      <th>2</th>\n",
       "      <td>496</td>\n",
       "      <td>141</td>\n",
       "      <td>20</td>\n",
       "      <td>65</td>\n",
       "      <td>78</td>\n",
       "      <td>37</td>\n",
       "      <td>11</td>\n",
       "      <td>5628</td>\n",
       "      <td>1575</td>\n",
       "      <td>225</td>\n",
       "      <td>828</td>\n",
       "      <td>838</td>\n",
       "      <td>354</td>\n",
       "      <td>1</td>\n",
       "      <td>0</td>\n",
       "      <td>200</td>\n",
       "      <td>11</td>\n",
       "      <td>3</td>\n",
       "      <td>1</td>\n",
       "      <td>500.0</td>\n",
       "    </tr>\n",
       "    <tr>\n",
       "      <th>3</th>\n",
       "      <td>321</td>\n",
       "      <td>87</td>\n",
       "      <td>10</td>\n",
       "      <td>39</td>\n",
       "      <td>42</td>\n",
       "      <td>30</td>\n",
       "      <td>2</td>\n",
       "      <td>396</td>\n",
       "      <td>101</td>\n",
       "      <td>12</td>\n",
       "      <td>48</td>\n",
       "      <td>46</td>\n",
       "      <td>33</td>\n",
       "      <td>1</td>\n",
       "      <td>0</td>\n",
       "      <td>805</td>\n",
       "      <td>40</td>\n",
       "      <td>4</td>\n",
       "      <td>1</td>\n",
       "      <td>91.5</td>\n",
       "    </tr>\n",
       "    <tr>\n",
       "      <th>4</th>\n",
       "      <td>594</td>\n",
       "      <td>169</td>\n",
       "      <td>4</td>\n",
       "      <td>74</td>\n",
       "      <td>51</td>\n",
       "      <td>35</td>\n",
       "      <td>11</td>\n",
       "      <td>4408</td>\n",
       "      <td>1133</td>\n",
       "      <td>19</td>\n",
       "      <td>501</td>\n",
       "      <td>336</td>\n",
       "      <td>194</td>\n",
       "      <td>0</td>\n",
       "      <td>1</td>\n",
       "      <td>282</td>\n",
       "      <td>421</td>\n",
       "      <td>25</td>\n",
       "      <td>0</td>\n",
       "      <td>750.0</td>\n",
       "    </tr>\n",
       "  </tbody>\n",
       "</table>\n",
       "</div>"
      ],
      "text/plain": [
       "        AtBat  Hits  HmRun  Runs  RBI  Walks  Years  CAtBat  CHits  CHmRun  \\\n",
       "Player                                                                       \n",
       "0         315    81      7    24   38     39     14    3449    835      69   \n",
       "1         479   130     18    66   72     76      3    1624    457      63   \n",
       "2         496   141     20    65   78     37     11    5628   1575     225   \n",
       "3         321    87     10    39   42     30      2     396    101      12   \n",
       "4         594   169      4    74   51     35     11    4408   1133      19   \n",
       "\n",
       "        CRuns  CRBI  CWalks  League  Division  PutOuts  Assists  Errors  \\\n",
       "Player                                                                    \n",
       "0         321   414     375       1         1      632       43      10   \n",
       "1         224   266     263       0         1      880       82      14   \n",
       "2         828   838     354       1         0      200       11       3   \n",
       "3          48    46      33       1         0      805       40       4   \n",
       "4         501   336     194       0         1      282      421      25   \n",
       "\n",
       "        NewLeague  Salary  \n",
       "Player                     \n",
       "0               1   475.0  \n",
       "1               0   480.0  \n",
       "2               1   500.0  \n",
       "3               1    91.5  \n",
       "4               0   750.0  "
      ]
     },
     "execution_count": 23,
     "metadata": {},
     "output_type": "execute_result"
    }
   ],
   "source": [
    "hitters['League'] = pd.get_dummies(hitters['League']).iloc[:, 1]\n",
    "hitters['Division'] = pd.get_dummies(hitters['Division']).iloc[:, 1]\n",
    "hitters['NewLeague'] = pd.get_dummies(hitters['NewLeague']).iloc[:, 1]\n",
    "hitters.head()"
   ]
  },
  {
   "cell_type": "code",
   "execution_count": 24,
   "metadata": {},
   "outputs": [],
   "source": [
    "X = hitters.iloc[:, 0:19]\n",
    "y = hitters.iloc[:, 19]"
   ]
  },
  {
   "cell_type": "markdown",
   "metadata": {},
   "source": [
    "### 2.1. Ridge Regression"
   ]
  },
  {
   "cell_type": "code",
   "execution_count": 25,
   "metadata": {},
   "outputs": [],
   "source": [
    "# standardization\n",
    "#from sklearn.preprocessing import scale\n",
    "\n",
    "#X_scaled = scale(X)"
   ]
  },
  {
   "cell_type": "code",
   "execution_count": 26,
   "metadata": {},
   "outputs": [],
   "source": [
    "from sklearn.linear_model import Ridge, RidgeCV, Lasso, LassoCV\n",
    "from numpy import linalg\n",
    "from sklearn.metrics import mean_squared_error\n",
    "lambdas = 10 ** np.linspace(-4,10,100)\n",
    "\n",
    "ridge_model = Ridge(normalize=True)\n",
    "coefs = []\n",
    "MSE = []\n",
    "\n",
    "for a in lambdas:\n",
    "    ridge_model.set_params(alpha=a)\n",
    "    ridge_model.fit(X, y)\n",
    "    coefs.append(ridge_model.coef_)\n",
    "    MSE.append(mean_squared_error(y, ridge_model.predict(X)))"
   ]
  },
  {
   "cell_type": "code",
   "execution_count": 27,
   "metadata": {},
   "outputs": [
    {
     "data": {
      "text/plain": [
       "array([1.0000e-04, 1.3849e-04, 1.9179e-04, 2.6561e-04, 3.6784e-04,\n",
       "       5.0941e-04, 7.0548e-04, 9.7701e-04, 1.3530e-03, 1.8738e-03,\n",
       "       2.5950e-03, 3.5938e-03, 4.9770e-03, 6.8926e-03, 9.5455e-03,\n",
       "       1.3219e-02, 1.8307e-02, 2.5354e-02, 3.5112e-02, 4.8626e-02,\n",
       "       6.7342e-02, 9.3260e-02, 1.2915e-01, 1.7886e-01, 2.4771e-01,\n",
       "       3.4305e-01, 4.7508e-01, 6.5793e-01, 9.1116e-01, 1.2619e+00,\n",
       "       1.7475e+00, 2.4201e+00, 3.3516e+00, 4.6416e+00, 6.4281e+00,\n",
       "       8.9022e+00, 1.2328e+01, 1.7074e+01, 2.3645e+01, 3.2745e+01,\n",
       "       4.5349e+01, 6.2803e+01, 8.6975e+01, 1.2045e+02, 1.6681e+02,\n",
       "       2.3101e+02, 3.1993e+02, 4.4306e+02, 6.1359e+02, 8.4975e+02,\n",
       "       1.1768e+03, 1.6298e+03, 2.2570e+03, 3.1257e+03, 4.3288e+03,\n",
       "       5.9948e+03, 8.3022e+03, 1.1498e+04, 1.5923e+04, 2.2051e+04,\n",
       "       3.0539e+04, 4.2292e+04, 5.8570e+04, 8.1113e+04, 1.1233e+05,\n",
       "       1.5557e+05, 2.1544e+05, 2.9836e+05, 4.1320e+05, 5.7224e+05,\n",
       "       7.9248e+05, 1.0975e+06, 1.5199e+06, 2.1049e+06, 2.9151e+06,\n",
       "       4.0370e+06, 5.5908e+06, 7.7426e+06, 1.0723e+07, 1.4850e+07,\n",
       "       2.0565e+07, 2.8480e+07, 3.9442e+07, 5.4623e+07, 7.5646e+07,\n",
       "       1.0476e+08, 1.4508e+08, 2.0092e+08, 2.7826e+08, 3.8535e+08,\n",
       "       5.3367e+08, 7.3907e+08, 1.0235e+09, 1.4175e+09, 1.9630e+09,\n",
       "       2.7186e+09, 3.7649e+09, 5.2140e+09, 7.2208e+09, 1.0000e+10])"
      ]
     },
     "execution_count": 27,
     "metadata": {},
     "output_type": "execute_result"
    }
   ],
   "source": [
    "lambdas"
   ]
  },
  {
   "cell_type": "code",
   "execution_count": 28,
   "metadata": {},
   "outputs": [
    {
     "data": {
      "text/plain": [
       "AtBat         -1.976767\n",
       "Hits           7.466361\n",
       "HmRun          4.224929\n",
       "Runs          -2.320085\n",
       "RBI           -1.011988\n",
       "Walks          6.213859\n",
       "Years         -3.684739\n",
       "CAtBat        -0.168723\n",
       "CHits          0.141298\n",
       "CHmRun        -0.132810\n",
       "CRuns          1.429807\n",
       "CRBI           0.789405\n",
       "CWalks        -0.806568\n",
       "League        62.626843\n",
       "Division    -117.003890\n",
       "PutOuts        0.281895\n",
       "Assists        0.369688\n",
       "Errors        -3.373104\n",
       "NewLeague    -24.946913\n",
       "dtype: float64"
      ]
     },
     "execution_count": 28,
     "metadata": {},
     "output_type": "execute_result"
    }
   ],
   "source": [
    "pd.Series(coefs[0], index=X.columns)"
   ]
  },
  {
   "cell_type": "code",
   "execution_count": 29,
   "metadata": {},
   "outputs": [
    {
     "data": {
      "image/png": "[encoded data removed]",
      "text/plain": [
       "<Figure size 1800x720 with 3 Axes>"
      ]
     },
     "metadata": {},
     "output_type": "display_data"
    }
   ],
   "source": [
    "fig, (ax1, ax2, ax3) = plt.subplots(1,3, figsize=(25,10))\n",
    "\n",
    "idx = np.argpartition(np.abs(coefs[-1]), -5)[-5:] # To get 5 predictors with highest coefficients when lambda is the highest\n",
    "# standardised coefficients vs lambdas\n",
    "ax1.plot(lambdas, coefs)\n",
    "ax1.set_xscale('log')\n",
    "# plt.axis('tight')\n",
    "ax1.set_xlabel(r'$\\lambda$')\n",
    "ax1.set_ylabel('Coefficients');\n",
    "ax1.set_title('Ridge regression coefficients vs. regularization parameter.');\n",
    "ax1.legend(np.array(ax1.get_lines())[idx], X.columns[idx])\n",
    "\n",
    "\n",
    "# standardised coefficients vs l2 norms\n",
    "l2norm = linalg.norm(coefs[-1])\n",
    "l2coefs = linalg.norm(coefs/l2norm, axis=1)\n",
    "ax2.plot(l2coefs, coefs)\n",
    "ax2.set_xlabel('l2 norm of ridge coefficients / l2 norm of least squares coefficients')\n",
    "ax2.set_ylabel('standardized coefficients')\n",
    "ax2.set_title('standardised coefficients vs l2 norms')\n",
    "ax2.legend(np.array(ax2.get_lines())[idx], X.columns[idx]);\n",
    "\n",
    "# 'Mean Square Error(MSE) vs lambdas\n",
    "ax3.plot(lambdas, MSE)\n",
    "ax3.set_xscale('log')\n",
    "ax3.set_xlabel('lambda')\n",
    "ax3.set_ylabel('Mean Square Error(MSE)')\n",
    "ax3.set_title('Mean Square Error(MSE) vs lambdas');\n"
   ]
  },
  {
   "cell_type": "code",
   "execution_count": 30,
   "metadata": {},
   "outputs": [],
   "source": [
    "from sklearn.model_selection import train_test_split\n",
    "from sklearn.metrics import mean_squared_error\n",
    "\n",
    "X_train, X_test, y_train, y_test = train_test_split(X, y, test_size=0.5, random_state=1)"
   ]
  },
  {
   "cell_type": "code",
   "execution_count": 31,
   "metadata": {},
   "outputs": [
    {
     "name": "stdout",
     "output_type": "stream",
     "text": [
      "AtBat         0.098658\n",
      "Hits          0.446094\n",
      "HmRun         1.412107\n",
      "Runs          0.660773\n",
      "RBI           0.843403\n",
      "Walks         1.008473\n",
      "Years         2.779882\n",
      "CAtBat        0.008244\n",
      "CHits         0.034149\n",
      "CHmRun        0.268634\n",
      "CRuns         0.070407\n",
      "CRBI          0.070060\n",
      "CWalks        0.082795\n",
      "League        4.241051\n",
      "Division    -30.768885\n",
      "PutOuts       0.104747\n",
      "Assists      -0.003739\n",
      "Errors        0.268363\n",
      "NewLeague     4.123474\n",
      "dtype: float64\n",
      "MSE: 106216.52238005561\n"
     ]
    }
   ],
   "source": [
    "# \"good\" ridge model\n",
    "ridge2 = Ridge(alpha=4, normalize=True)\n",
    "ridge2.fit(X_train, y_train)\n",
    "y_pred2 = ridge2.predict(X_test)\n",
    "\n",
    "print(pd.Series(ridge2.coef_, index=X.columns))\n",
    "print('MSE: {}'.format(mean_squared_error(y_test, y_pred2)))"
   ]
  },
  {
   "cell_type": "code",
   "execution_count": 32,
   "metadata": {},
   "outputs": [
    {
     "name": "stdout",
     "output_type": "stream",
     "text": [
      "AtBat        1.317464e-10\n",
      "Hits         4.647486e-10\n",
      "HmRun        2.079865e-09\n",
      "Runs         7.726175e-10\n",
      "RBI          9.390640e-10\n",
      "Walks        9.769219e-10\n",
      "Years        3.961442e-09\n",
      "CAtBat       1.060533e-11\n",
      "CHits        3.993605e-11\n",
      "CHmRun       2.959428e-10\n",
      "CRuns        8.245247e-11\n",
      "CRBI         7.795451e-11\n",
      "CWalks       9.894387e-11\n",
      "League      -2.501281e-09\n",
      "Division    -1.549951e-08\n",
      "PutOuts      7.268991e-11\n",
      "Assists     -2.615885e-12\n",
      "Errors       2.084514e-10\n",
      "NewLeague   -2.023196e-09\n",
      "dtype: float64\n",
      "MSE: 172862.23580379886\n"
     ]
    }
   ],
   "source": [
    "# very high lambda\n",
    "ridge3 = Ridge(alpha=1e10, normalize=True)\n",
    "ridge3.fit(X_train, y_train)\n",
    "y_pred3 = ridge3.predict(X_test)\n",
    "\n",
    "print(pd.Series(ridge3.coef_, index=X.columns))\n",
    "print('MSE:', mean_squared_error(y_test, y_pred3))"
   ]
  },
  {
   "cell_type": "code",
   "execution_count": 33,
   "metadata": {},
   "outputs": [
    {
     "name": "stdout",
     "output_type": "stream",
     "text": [
      "AtBat         -1.821115\n",
      "Hits           4.259156\n",
      "HmRun         -4.773401\n",
      "Runs          -0.038760\n",
      "RBI            3.984578\n",
      "Walks          3.470126\n",
      "Years          9.498236\n",
      "CAtBat        -0.605129\n",
      "CHits          2.174979\n",
      "CHmRun         2.979306\n",
      "CRuns          0.266356\n",
      "CRBI          -0.598456\n",
      "CWalks         0.171383\n",
      "League       133.743163\n",
      "Division    -113.743875\n",
      "PutOuts        0.421063\n",
      "Assists        0.464379\n",
      "Errors        -6.024576\n",
      "NewLeague    -81.927763\n",
      "dtype: float64\n",
      "MSE: 116690.46856660435\n"
     ]
    }
   ],
   "source": [
    "# lambda=0 -> OLS\n",
    "ridge4 = Ridge(alpha=0, normalize=True)\n",
    "ridge4.fit(X_train, y_train)\n",
    "y_pred4 = ridge4.predict(X_test)\n",
    "\n",
    "print(pd.Series(ridge4.coef_, index=X.columns))\n",
    "print('MSE:', mean_squared_error(y_test, y_pred4))"
   ]
  },
  {
   "cell_type": "code",
   "execution_count": 34,
   "metadata": {},
   "outputs": [
    {
     "name": "stderr",
     "output_type": "stream",
     "text": [
      "C:\\Users\\Mark Mintae Kim\\anaconda3\\lib\\site-packages\\sklearn\\model_selection\\_split.py:293: FutureWarning: Setting a random_state has no effect since shuffle is False. This will raise an error in 0.24. You should leave random_state to its default (None), or set shuffle=True.\n",
      "  warnings.warn(\n"
     ]
    },
    {
     "name": "stdout",
     "output_type": "stream",
     "text": [
      "Best lambda= 0.6579\n"
     ]
    }
   ],
   "source": [
    "# cross validated ridge (10-fold)\n",
    "kf = KFold(n_splits=10, random_state=1)\n",
    "ridge_cv = RidgeCV(alphas=lambdas, normalize=True, scoring='neg_mean_squared_error', cv=kf)\n",
    "ridge_cv.fit(X_train, y_train)\n",
    "print('Best lambda= {:.4f}'.format(ridge_cv.alpha_))"
   ]
  },
  {
   "cell_type": "code",
   "execution_count": 35,
   "metadata": {},
   "outputs": [
    {
     "name": "stderr",
     "output_type": "stream",
     "text": [
      "C:\\Users\\Mark Mintae Kim\\anaconda3\\lib\\site-packages\\sklearn\\model_selection\\_split.py:293: FutureWarning: Setting a random_state has no effect since shuffle is False. This will raise an error in 0.24. You should leave random_state to its default (None), or set shuffle=True.\n",
      "  warnings.warn(\n"
     ]
    },
    {
     "data": {
      "image/png": "[encoded data removed]",
      "text/plain": [
       "<Figure size 576x432 with 1 Axes>"
      ]
     },
     "metadata": {},
     "output_type": "display_data"
    }
   ],
   "source": [
    "# Create the 10 folds using sklearn KFolds\n",
    "kf = KFold(n_splits=10, random_state=1)\n",
    "\n",
    "# Manually showing the process of K-fold cross validation\n",
    "cvs = []\n",
    "import pdb\n",
    "\n",
    "for alpha in lambdas:\n",
    "    # For each shrinkage factor compute the models MSE for the 10-folds\n",
    "    error = []\n",
    "    \n",
    "    for train, test in kf.split(X_train):\n",
    "        # get test/train splits\n",
    "        X_train_ = X_train.iloc[train]\n",
    "        y_train_ = y_train.values[train]\n",
    "        X_test_ = X_train.iloc[test]\n",
    "        y_test_ = y_train.values[test]\n",
    "        \n",
    "        # build model for each split\n",
    "        model = Ridge(alpha=alpha, normalize=True).fit(X_train_,y_train_)\n",
    "        # compute error for this each response at this alpha for this fold\n",
    "        error = np.append(error,(model.predict(X_test_)-y_test_))\n",
    "        \n",
    "    # compute mean squared error for this alpha\n",
    "    cvs = np.append(cvs,np.mean(error**2))\n",
    "\n",
    "# get the minimum alpha\n",
    "min_index, min_cvs = min(enumerate(cvs), key=itemgetter(1)) \n",
    "\n",
    "# Plot the CV Errors as a funtion of alpha and plot minimum\n",
    "fig,ax = plt.subplots(figsize=(8,6))\n",
    "\n",
    "ax.plot(lambdas, cvs, color='b')\n",
    "ax.plot(lambdas[min_index], min_cvs, marker='x', color='r', markersize=15)\n",
    "\n",
    "ax.set_xscale('log')\n",
    "ax.set_ylabel('10-Fold CV Error', fontsize=14);\n",
    "ax.set_xlabel('alpha (log-scale)', fontsize=14);\n",
    "ax.set_title('Best lambda= {:.4f} | Min MSE = {:.4f}'.format(lambdas[min_index], min_cvs));"
   ]
  },
  {
   "cell_type": "code",
   "execution_count": 36,
   "metadata": {},
   "outputs": [
    {
     "name": "stdout",
     "output_type": "stream",
     "text": [
      "AtBat         0.007004\n",
      "Hits          0.820565\n",
      "HmRun        -0.038859\n",
      "Runs          0.738681\n",
      "RBI           1.281625\n",
      "Walks         2.006648\n",
      "Years         1.490860\n",
      "CAtBat        0.007236\n",
      "CHits         0.050842\n",
      "CHmRun        0.491202\n",
      "CRuns         0.104461\n",
      "CRBI          0.123140\n",
      "CWalks        0.101208\n",
      "League       17.712645\n",
      "Division    -88.016788\n",
      "PutOuts       0.267455\n",
      "Assists      -0.017627\n",
      "Errors       -0.220421\n",
      "NewLeague    10.260829\n",
      "dtype: float64\n",
      "[Ridge] Test set MSE =  99691.75835893235\n"
     ]
    }
   ],
   "source": [
    "# Using the best lambda\n",
    "ridge5 = Ridge(alpha=ridge_cv.alpha_, normalize=True)\n",
    "ridge5.fit(X_train, y_train)\n",
    "y_pred5 = ridge5.predict(X_test)\n",
    "\n",
    "print(pd.Series(ridge5.coef_, index=X.columns))\n",
    "print(\"[Ridge] Test set MSE = \", mean_squared_error(y_test, y_pred5))"
   ]
  },
  {
   "cell_type": "markdown",
   "metadata": {},
   "source": [
    "### 2.2. The Lasso"
   ]
  },
  {
   "cell_type": "code",
   "execution_count": 37,
   "metadata": {},
   "outputs": [],
   "source": [
    "from sklearn.linear_model import Lasso, LassoCV\n",
    "\n",
    "lambdas = 10 ** np.linspace(-4,10,100)\n",
    "\n",
    "lasso_model = Lasso(normalize=True, max_iter=10000) # max_iter=10000 for removing ConvergenceWarning\n",
    "coefs = []\n",
    "MSE = []\n",
    "\n",
    "for a in lambdas:\n",
    "    lasso_model.set_params(alpha=a)\n",
    "    lasso_model.fit(X, y)\n",
    "    coefs.append(lasso_model.coef_)\n",
    "    MSE.append(mean_squared_error(y, lasso_model.predict(X)))"
   ]
  },
  {
   "cell_type": "code",
   "execution_count": 38,
   "metadata": {},
   "outputs": [
    {
     "data": {
      "image/png": "[encoded data removed]",
      "text/plain": [
       "<Figure size 1800x720 with 3 Axes>"
      ]
     },
     "metadata": {},
     "output_type": "display_data"
    }
   ],
   "source": [
    "fig, (ax1, ax2, ax3) = plt.subplots(1,3, figsize=(25,10))\n",
    "\n",
    "idx = np.argpartition(np.abs(coefs[-1]), -5)[-5:]\n",
    "# standardised coefficients vs lambdas\n",
    "ax1.plot(lambdas, coefs)\n",
    "ax1.set_xscale('log')\n",
    "# plt.axis('tight')\n",
    "ax1.set_xlabel(r'$\\lambda$')\n",
    "ax1.set_ylabel('Coefficients');\n",
    "ax1.set_title('Ridge regression coefficients vs. regularization parameter.');\n",
    "ax1.legend(np.array(ax1.get_lines())[idx], X.columns[idx])\n",
    "# ax1.legend(X.columns.tolist(),loc='upper center', bbox_to_anchor=(0.5, 1.4), ncol=6);\n",
    "\n",
    "\n",
    "# standardised coefficients vs l2 norms\n",
    "l2norm = linalg.norm(coefs[0])\n",
    "l2coefs = linalg.norm(coefs/l2norm, axis=1)\n",
    "ax2.plot(l2coefs, coefs)\n",
    "ax2.set_xlabel('l2 norm of ridge coefficients / l2 norm of least squares coefficients')\n",
    "ax2.set_ylabel('standardized coefficients')\n",
    "ax2.set_title('standardised coefficients vs l2 norms')\n",
    "ax2.legend(np.array(ax2.get_lines())[idx], X.columns[idx]);\n",
    "\n",
    "# 'Mean Square Error(MSE) vs lambdas\n",
    "ax3.plot(lambdas, MSE)\n",
    "ax3.set_xscale('log')\n",
    "ax3.set_xlabel('lambda')\n",
    "ax3.set_ylabel('Mean Square Error(MSE)')\n",
    "ax3.set_title('Mean Square Error(MSE) vs lambdas');"
   ]
  },
  {
   "cell_type": "code",
   "execution_count": 39,
   "metadata": {},
   "outputs": [
    {
     "name": "stdout",
     "output_type": "stream",
     "text": [
      "Best lambda= 2.4201\n"
     ]
    }
   ],
   "source": [
    "# cross validated lasso (10-fold)\n",
    "lasso_cv = LassoCV(alphas=lambdas, normalize=True, cv=kf, max_iter=100000)\n",
    "lasso_cv.fit(X_train, y_train)\n",
    "print('Best lambda= {:.4f}'.format(lasso_cv.alpha_))"
   ]
  },
  {
   "cell_type": "code",
   "execution_count": 40,
   "metadata": {},
   "outputs": [
    {
     "name": "stdout",
     "output_type": "stream",
     "text": [
      "AtBat         0.000000\n",
      "Hits          1.080923\n",
      "HmRun         0.000000\n",
      "Runs          0.000000\n",
      "RBI           0.000000\n",
      "Walks         2.903215\n",
      "Years         0.000000\n",
      "CAtBat        0.000000\n",
      "CHits         0.000000\n",
      "CHmRun        0.218493\n",
      "CRuns         0.000000\n",
      "CRBI          0.513754\n",
      "CWalks        0.000000\n",
      "League        0.000000\n",
      "Division    -88.685399\n",
      "PutOuts       0.368081\n",
      "Assists      -0.000000\n",
      "Errors       -0.000000\n",
      "NewLeague     0.000000\n",
      "dtype: float64\n",
      "[Lasso] Test set MSE =  104972.96754895902\n"
     ]
    }
   ],
   "source": [
    "# Using the best lambda\n",
    "lasso = Lasso(alpha=lasso_cv.alpha_, normalize=True)\n",
    "lasso.fit(X_train, y_train)\n",
    "y_pred = lasso.predict(X_test)\n",
    "\n",
    "print(pd.Series(lasso.coef_, index=X.columns))\n",
    "print(\"[Lasso] Test set MSE = \", mean_squared_error(y_test, y_pred))"
   ]
  },
  {
   "cell_type": "markdown",
   "metadata": {},
   "source": [
    "### Ridge vs Lasso"
   ]
  },
  {
   "cell_type": "code",
   "execution_count": 41,
   "metadata": {},
   "outputs": [],
   "source": [
    "from sklearn.linear_model import Ridge, RidgeCV, Lasso, LassoCV\n",
    "from numpy import linalg\n",
    "from sklearn.metrics import mean_squared_error\n",
    "lambdas = 10 ** np.linspace(-4,10,100)\n",
    "\n",
    "ridge_model = Ridge(normalize=True)\n",
    "lasso_model = Lasso(normalize=True, max_iter=10000) # max_iter=10000 for removing ConvergenceWarning\n",
    "\n",
    "ridge_coefs = []\n",
    "ridge_MSE = []\n",
    "lasso_coefs = []\n",
    "lasso_MSE = []\n",
    "\n",
    "for a in lambdas:\n",
    "    ridge_model.set_params(alpha=a)\n",
    "    ridge_model.fit(X, y)\n",
    "    ridge_coefs.append(ridge_model.coef_)\n",
    "    ridge_MSE.append(mean_squared_error(y, ridge_model.predict(X)))\n",
    "    \n",
    "    lasso_model.set_params(alpha=a)\n",
    "    lasso_model.fit(X, y)\n",
    "    lasso_coefs.append(lasso_model.coef_)\n",
    "    lasso_MSE.append(mean_squared_error(y, lasso_model.predict(X)))"
   ]
  },
  {
   "cell_type": "code",
   "execution_count": 42,
   "metadata": {},
   "outputs": [
    {
     "data": {
      "image/png": "[encoded data removed]",
      "text/plain": [
       "<Figure size 1800x720 with 2 Axes>"
      ]
     },
     "metadata": {},
     "output_type": "display_data"
    }
   ],
   "source": [
    "fig, (ax1, ax2) = plt.subplots(1,2, figsize=(25,10))\n",
    "\n",
    "ax1.plot(lambdas, ridge_coefs)\n",
    "ax1.set_xscale('log')\n",
    "ax1.set_xlabel(r'$\\lambda$', fontsize=20)\n",
    "ax1.set_ylabel('Coefficients', fontsize=20);\n",
    "ax1.set_title('Ridge regression coefficients vs. regularization parameter.', fontsize=20)\n",
    "\n",
    "ax2.plot(lambdas, lasso_coefs)\n",
    "ax2.set_xscale('log')\n",
    "ax2.set_xlabel(r'$\\lambda$', fontsize=20)\n",
    "ax2.set_ylabel('Coefficients', fontsize=20);\n",
    "ax2.set_title('Lasso coefficients vs. regularization parameter.', fontsize=20);\n",
    "\n",
    "fig.suptitle(\"Ridge vs. Lasso\", fontsize=40);"
   ]
  },
  {
   "cell_type": "markdown",
   "metadata": {},
   "source": [
    "## 5-3: PCR and PLS Regression"
   ]
  },
  {
   "cell_type": "markdown",
   "metadata": {},
   "source": [
    "The methods that we have discussed so far have controlled variance in two different ways\n",
    "- 1. **Subset selection** \n",
    "    - i.e., Best subset selection, Forward-, and Backward- stepwise selection\n",
    "    - Selecting subset of variables\n",
    "- 2. **Shrinkage method** \n",
    "    - i.e., Ridge and Lasso\n",
    "    - Shrinking the estimated coefficients toward zero\n",
    "    \n",
    "All of these methods are defined using the original predictors $X_1, ..., X_p$.\n",
    "\n",
    "<font color='red'><b>What if not all p dimensions are equally useful?</b></font> --> We perform <font color='green'>dimension reduction.</font>"
   ]
  },
  {
   "cell_type": "markdown",
   "metadata": {},
   "source": [
    "<div>\n",
    "<img src=\"figures/dim_reduction.png\" width=\"500\"/>\n",
    "</div>\n",
    "\n",
    "We use <font color='red'>Principal Components Analysis (PCA)</font> to get $\\boldsymbol{\\phi} \\in \\mathbb{R}^{p \\times M}$"
   ]
  },
  {
   "cell_type": "code",
   "execution_count": 43,
   "metadata": {},
   "outputs": [],
   "source": [
    "from sklearn.preprocessing import scale \n",
    "from sklearn.model_selection import cross_val_score\n",
    "from sklearn.decomposition import PCA\n",
    "from sklearn.linear_model import LinearRegression\n",
    "from sklearn.metrics import mean_squared_error\n",
    "\n",
    "hitters = pd.read_csv('Hitters.csv').dropna()\n",
    "hitters.index.name = 'Player'\n",
    "\n",
    "hitters = hitters.iloc[:, [0,1,2,3,4,5,6,7,8,9,10,11,12,13,14,15,16,17,19,18]] # push salary at the end\n",
    "\n",
    "hitters['League'] = pd.get_dummies(hitters['League']).iloc[:, 1]\n",
    "hitters['Division'] = pd.get_dummies(hitters['Division']).iloc[:, 1]\n",
    "hitters['NewLeague'] = pd.get_dummies(hitters['NewLeague']).iloc[:, 1]\n",
    "\n",
    "X = hitters.iloc[:, 0:19]\n",
    "y = hitters.iloc[:, 19]"
   ]
  },
  {
   "cell_type": "markdown",
   "metadata": {},
   "source": [
    "### 3.1. Principal Components Regression"
   ]
  },
  {
   "cell_type": "code",
   "execution_count": 44,
   "metadata": {},
   "outputs": [
    {
     "data": {
      "text/html": [
       "<div>\n",
       "<style scoped>\n",
       "    .dataframe tbody tr th:only-of-type {\n",
       "        vertical-align: middle;\n",
       "    }\n",
       "\n",
       "    .dataframe tbody tr th {\n",
       "        vertical-align: top;\n",
       "    }\n",
       "\n",
       "    .dataframe thead th {\n",
       "        text-align: right;\n",
       "    }\n",
       "</style>\n",
       "<table border=\"1\" class=\"dataframe\">\n",
       "  <thead>\n",
       "    <tr style=\"text-align: right;\">\n",
       "      <th></th>\n",
       "      <th>0</th>\n",
       "      <th>1</th>\n",
       "      <th>2</th>\n",
       "      <th>3</th>\n",
       "      <th>4</th>\n",
       "      <th>5</th>\n",
       "      <th>6</th>\n",
       "      <th>7</th>\n",
       "      <th>8</th>\n",
       "      <th>9</th>\n",
       "      <th>10</th>\n",
       "      <th>11</th>\n",
       "      <th>12</th>\n",
       "      <th>13</th>\n",
       "      <th>14</th>\n",
       "      <th>15</th>\n",
       "      <th>16</th>\n",
       "      <th>17</th>\n",
       "      <th>18</th>\n",
       "    </tr>\n",
       "  </thead>\n",
       "  <tbody>\n",
       "    <tr>\n",
       "      <th>0</th>\n",
       "      <td>-0.009649</td>\n",
       "      <td>1.870522</td>\n",
       "      <td>1.265145</td>\n",
       "      <td>-0.935481</td>\n",
       "      <td>1.109636</td>\n",
       "      <td>1.211972</td>\n",
       "      <td>-0.065146</td>\n",
       "      <td>-0.098249</td>\n",
       "      <td>-0.252423</td>\n",
       "      <td>-0.637101</td>\n",
       "      <td>0.459341</td>\n",
       "      <td>0.615860</td>\n",
       "      <td>-0.478088</td>\n",
       "      <td>0.388407</td>\n",
       "      <td>0.063596</td>\n",
       "      <td>0.144790</td>\n",
       "      <td>0.080216</td>\n",
       "      <td>0.038140</td>\n",
       "      <td>-0.019250</td>\n",
       "    </tr>\n",
       "    <tr>\n",
       "      <th>1</th>\n",
       "      <td>0.411434</td>\n",
       "      <td>-2.429422</td>\n",
       "      <td>-0.909193</td>\n",
       "      <td>-0.264212</td>\n",
       "      <td>1.232031</td>\n",
       "      <td>1.826617</td>\n",
       "      <td>0.359893</td>\n",
       "      <td>-1.199383</td>\n",
       "      <td>-0.371820</td>\n",
       "      <td>0.015215</td>\n",
       "      <td>0.176235</td>\n",
       "      <td>0.080529</td>\n",
       "      <td>0.403483</td>\n",
       "      <td>-0.019386</td>\n",
       "      <td>0.065149</td>\n",
       "      <td>0.161064</td>\n",
       "      <td>0.044343</td>\n",
       "      <td>0.014834</td>\n",
       "      <td>-0.003395</td>\n",
       "    </tr>\n",
       "    <tr>\n",
       "      <th>2</th>\n",
       "      <td>3.466822</td>\n",
       "      <td>0.825947</td>\n",
       "      <td>0.555469</td>\n",
       "      <td>-1.616726</td>\n",
       "      <td>-0.857488</td>\n",
       "      <td>-1.028712</td>\n",
       "      <td>-0.999385</td>\n",
       "      <td>0.844247</td>\n",
       "      <td>0.197379</td>\n",
       "      <td>0.770490</td>\n",
       "      <td>0.055645</td>\n",
       "      <td>0.104938</td>\n",
       "      <td>0.021605</td>\n",
       "      <td>-0.376197</td>\n",
       "      <td>0.234291</td>\n",
       "      <td>0.011526</td>\n",
       "      <td>-0.218283</td>\n",
       "      <td>0.037825</td>\n",
       "      <td>-0.066501</td>\n",
       "    </tr>\n",
       "    <tr>\n",
       "      <th>3</th>\n",
       "      <td>-2.558317</td>\n",
       "      <td>-0.230984</td>\n",
       "      <td>0.519642</td>\n",
       "      <td>-2.176251</td>\n",
       "      <td>-0.820301</td>\n",
       "      <td>1.491696</td>\n",
       "      <td>-0.276141</td>\n",
       "      <td>0.207094</td>\n",
       "      <td>0.414956</td>\n",
       "      <td>0.136842</td>\n",
       "      <td>-0.085375</td>\n",
       "      <td>-0.146217</td>\n",
       "      <td>0.142172</td>\n",
       "      <td>0.028975</td>\n",
       "      <td>0.042459</td>\n",
       "      <td>0.053043</td>\n",
       "      <td>-0.044443</td>\n",
       "      <td>0.010360</td>\n",
       "      <td>-0.013582</td>\n",
       "    </tr>\n",
       "    <tr>\n",
       "      <th>4</th>\n",
       "      <td>1.027702</td>\n",
       "      <td>-1.573537</td>\n",
       "      <td>1.331382</td>\n",
       "      <td>3.494004</td>\n",
       "      <td>0.983427</td>\n",
       "      <td>0.513675</td>\n",
       "      <td>0.140456</td>\n",
       "      <td>0.989707</td>\n",
       "      <td>-0.661933</td>\n",
       "      <td>-0.217565</td>\n",
       "      <td>0.111259</td>\n",
       "      <td>0.191244</td>\n",
       "      <td>-0.302426</td>\n",
       "      <td>-0.090770</td>\n",
       "      <td>0.043811</td>\n",
       "      <td>0.012300</td>\n",
       "      <td>-0.050593</td>\n",
       "      <td>0.126036</td>\n",
       "      <td>-0.071035</td>\n",
       "    </tr>\n",
       "    <tr>\n",
       "      <th>...</th>\n",
       "      <td>...</td>\n",
       "      <td>...</td>\n",
       "      <td>...</td>\n",
       "      <td>...</td>\n",
       "      <td>...</td>\n",
       "      <td>...</td>\n",
       "      <td>...</td>\n",
       "      <td>...</td>\n",
       "      <td>...</td>\n",
       "      <td>...</td>\n",
       "      <td>...</td>\n",
       "      <td>...</td>\n",
       "      <td>...</td>\n",
       "      <td>...</td>\n",
       "      <td>...</td>\n",
       "      <td>...</td>\n",
       "      <td>...</td>\n",
       "      <td>...</td>\n",
       "      <td>...</td>\n",
       "    </tr>\n",
       "    <tr>\n",
       "      <th>258</th>\n",
       "      <td>-0.331167</td>\n",
       "      <td>-0.165663</td>\n",
       "      <td>0.775890</td>\n",
       "      <td>-1.536702</td>\n",
       "      <td>-1.035016</td>\n",
       "      <td>-0.306299</td>\n",
       "      <td>0.552371</td>\n",
       "      <td>1.184243</td>\n",
       "      <td>-0.246646</td>\n",
       "      <td>0.379402</td>\n",
       "      <td>-0.094963</td>\n",
       "      <td>-0.033645</td>\n",
       "      <td>0.216773</td>\n",
       "      <td>-0.161802</td>\n",
       "      <td>0.227441</td>\n",
       "      <td>-0.224885</td>\n",
       "      <td>0.126489</td>\n",
       "      <td>-0.055403</td>\n",
       "      <td>-0.009739</td>\n",
       "    </tr>\n",
       "    <tr>\n",
       "      <th>259</th>\n",
       "      <td>3.246183</td>\n",
       "      <td>-0.543315</td>\n",
       "      <td>1.209150</td>\n",
       "      <td>2.754023</td>\n",
       "      <td>-1.197520</td>\n",
       "      <td>0.834749</td>\n",
       "      <td>1.969884</td>\n",
       "      <td>-1.371907</td>\n",
       "      <td>-0.543945</td>\n",
       "      <td>-0.897725</td>\n",
       "      <td>-0.166160</td>\n",
       "      <td>-0.298189</td>\n",
       "      <td>0.510572</td>\n",
       "      <td>0.318121</td>\n",
       "      <td>-0.144807</td>\n",
       "      <td>0.008947</td>\n",
       "      <td>-0.152826</td>\n",
       "      <td>-0.053871</td>\n",
       "      <td>-0.062282</td>\n",
       "    </tr>\n",
       "    <tr>\n",
       "      <th>260</th>\n",
       "      <td>-1.094609</td>\n",
       "      <td>-0.751386</td>\n",
       "      <td>-0.935937</td>\n",
       "      <td>1.072347</td>\n",
       "      <td>0.705912</td>\n",
       "      <td>-0.644482</td>\n",
       "      <td>1.496147</td>\n",
       "      <td>0.287111</td>\n",
       "      <td>-0.304373</td>\n",
       "      <td>0.017862</td>\n",
       "      <td>0.221392</td>\n",
       "      <td>0.378174</td>\n",
       "      <td>0.016308</td>\n",
       "      <td>0.092282</td>\n",
       "      <td>0.056039</td>\n",
       "      <td>-0.103487</td>\n",
       "      <td>-0.078738</td>\n",
       "      <td>0.067201</td>\n",
       "      <td>0.013194</td>\n",
       "    </tr>\n",
       "    <tr>\n",
       "      <th>261</th>\n",
       "      <td>1.977682</td>\n",
       "      <td>-2.184517</td>\n",
       "      <td>-0.282012</td>\n",
       "      <td>-0.216874</td>\n",
       "      <td>-0.694872</td>\n",
       "      <td>3.514692</td>\n",
       "      <td>1.142097</td>\n",
       "      <td>-0.230697</td>\n",
       "      <td>-0.240990</td>\n",
       "      <td>0.324960</td>\n",
       "      <td>0.118597</td>\n",
       "      <td>0.162044</td>\n",
       "      <td>-0.347028</td>\n",
       "      <td>-0.232762</td>\n",
       "      <td>0.021050</td>\n",
       "      <td>-0.262275</td>\n",
       "      <td>-0.014407</td>\n",
       "      <td>0.022921</td>\n",
       "      <td>-0.010530</td>\n",
       "    </tr>\n",
       "    <tr>\n",
       "      <th>262</th>\n",
       "      <td>1.833002</td>\n",
       "      <td>-0.301097</td>\n",
       "      <td>-1.055323</td>\n",
       "      <td>0.492980</td>\n",
       "      <td>0.916396</td>\n",
       "      <td>0.275273</td>\n",
       "      <td>1.224192</td>\n",
       "      <td>2.427177</td>\n",
       "      <td>-0.717128</td>\n",
       "      <td>-0.192461</td>\n",
       "      <td>-0.303374</td>\n",
       "      <td>-0.165953</td>\n",
       "      <td>-0.023341</td>\n",
       "      <td>0.023766</td>\n",
       "      <td>0.660839</td>\n",
       "      <td>-0.186210</td>\n",
       "      <td>-0.302569</td>\n",
       "      <td>-0.075529</td>\n",
       "      <td>-0.040599</td>\n",
       "    </tr>\n",
       "  </tbody>\n",
       "</table>\n",
       "<p>263 rows × 19 columns</p>\n",
       "</div>"
      ],
      "text/plain": [
       "           0         1         2         3         4         5         6   \\\n",
       "0   -0.009649  1.870522  1.265145 -0.935481  1.109636  1.211972 -0.065146   \n",
       "1    0.411434 -2.429422 -0.909193 -0.264212  1.232031  1.826617  0.359893   \n",
       "2    3.466822  0.825947  0.555469 -1.616726 -0.857488 -1.028712 -0.999385   \n",
       "3   -2.558317 -0.230984  0.519642 -2.176251 -0.820301  1.491696 -0.276141   \n",
       "4    1.027702 -1.573537  1.331382  3.494004  0.983427  0.513675  0.140456   \n",
       "..        ...       ...       ...       ...       ...       ...       ...   \n",
       "258 -0.331167 -0.165663  0.775890 -1.536702 -1.035016 -0.306299  0.552371   \n",
       "259  3.246183 -0.543315  1.209150  2.754023 -1.197520  0.834749  1.969884   \n",
       "260 -1.094609 -0.751386 -0.935937  1.072347  0.705912 -0.644482  1.496147   \n",
       "261  1.977682 -2.184517 -0.282012 -0.216874 -0.694872  3.514692  1.142097   \n",
       "262  1.833002 -0.301097 -1.055323  0.492980  0.916396  0.275273  1.224192   \n",
       "\n",
       "           7         8         9         10        11        12        13  \\\n",
       "0   -0.098249 -0.252423 -0.637101  0.459341  0.615860 -0.478088  0.388407   \n",
       "1   -1.199383 -0.371820  0.015215  0.176235  0.080529  0.403483 -0.019386   \n",
       "2    0.844247  0.197379  0.770490  0.055645  0.104938  0.021605 -0.376197   \n",
       "3    0.207094  0.414956  0.136842 -0.085375 -0.146217  0.142172  0.028975   \n",
       "4    0.989707 -0.661933 -0.217565  0.111259  0.191244 -0.302426 -0.090770   \n",
       "..        ...       ...       ...       ...       ...       ...       ...   \n",
       "258  1.184243 -0.246646  0.379402 -0.094963 -0.033645  0.216773 -0.161802   \n",
       "259 -1.371907 -0.543945 -0.897725 -0.166160 -0.298189  0.510572  0.318121   \n",
       "260  0.287111 -0.304373  0.017862  0.221392  0.378174  0.016308  0.092282   \n",
       "261 -0.230697 -0.240990  0.324960  0.118597  0.162044 -0.347028 -0.232762   \n",
       "262  2.427177 -0.717128 -0.192461 -0.303374 -0.165953 -0.023341  0.023766   \n",
       "\n",
       "           14        15        16        17        18  \n",
       "0    0.063596  0.144790  0.080216  0.038140 -0.019250  \n",
       "1    0.065149  0.161064  0.044343  0.014834 -0.003395  \n",
       "2    0.234291  0.011526 -0.218283  0.037825 -0.066501  \n",
       "3    0.042459  0.053043 -0.044443  0.010360 -0.013582  \n",
       "4    0.043811  0.012300 -0.050593  0.126036 -0.071035  \n",
       "..        ...       ...       ...       ...       ...  \n",
       "258  0.227441 -0.224885  0.126489 -0.055403 -0.009739  \n",
       "259 -0.144807  0.008947 -0.152826 -0.053871 -0.062282  \n",
       "260  0.056039 -0.103487 -0.078738  0.067201  0.013194  \n",
       "261  0.021050 -0.262275 -0.014407  0.022921 -0.010530  \n",
       "262  0.660839 -0.186210 -0.302569 -0.075529 -0.040599  \n",
       "\n",
       "[263 rows x 19 columns]"
      ]
     },
     "execution_count": 44,
     "metadata": {},
     "output_type": "execute_result"
    }
   ],
   "source": [
    "pca = PCA()\n",
    "X_pca = pca.fit_transform(scale(X))\n",
    "pd.DataFrame(X_pca)"
   ]
  },
  {
   "cell_type": "markdown",
   "metadata": {},
   "source": [
    "Percentage of variance explained\n",
    "- The amount of information about the predictors or the response that is captured using $M$ principal components"
   ]
  },
  {
   "cell_type": "code",
   "execution_count": 45,
   "metadata": {},
   "outputs": [
    {
     "data": {
      "text/html": [
       "<div>\n",
       "<style scoped>\n",
       "    .dataframe tbody tr th:only-of-type {\n",
       "        vertical-align: middle;\n",
       "    }\n",
       "\n",
       "    .dataframe tbody tr th {\n",
       "        vertical-align: top;\n",
       "    }\n",
       "\n",
       "    .dataframe thead th {\n",
       "        text-align: right;\n",
       "    }\n",
       "</style>\n",
       "<table border=\"1\" class=\"dataframe\">\n",
       "  <thead>\n",
       "    <tr style=\"text-align: right;\">\n",
       "      <th></th>\n",
       "      <th>explained variance ratio</th>\n",
       "    </tr>\n",
       "  </thead>\n",
       "  <tbody>\n",
       "    <tr>\n",
       "      <th>1</th>\n",
       "      <td>38.31</td>\n",
       "    </tr>\n",
       "    <tr>\n",
       "      <th>2</th>\n",
       "      <td>60.15</td>\n",
       "    </tr>\n",
       "    <tr>\n",
       "      <th>3</th>\n",
       "      <td>70.84</td>\n",
       "    </tr>\n",
       "    <tr>\n",
       "      <th>4</th>\n",
       "      <td>79.03</td>\n",
       "    </tr>\n",
       "    <tr>\n",
       "      <th>5</th>\n",
       "      <td>84.29</td>\n",
       "    </tr>\n",
       "    <tr>\n",
       "      <th>6</th>\n",
       "      <td>88.63</td>\n",
       "    </tr>\n",
       "    <tr>\n",
       "      <th>7</th>\n",
       "      <td>92.26</td>\n",
       "    </tr>\n",
       "    <tr>\n",
       "      <th>8</th>\n",
       "      <td>94.96</td>\n",
       "    </tr>\n",
       "    <tr>\n",
       "      <th>9</th>\n",
       "      <td>96.28</td>\n",
       "    </tr>\n",
       "    <tr>\n",
       "      <th>10</th>\n",
       "      <td>97.25</td>\n",
       "    </tr>\n",
       "    <tr>\n",
       "      <th>11</th>\n",
       "      <td>97.97</td>\n",
       "    </tr>\n",
       "    <tr>\n",
       "      <th>12</th>\n",
       "      <td>98.64</td>\n",
       "    </tr>\n",
       "    <tr>\n",
       "      <th>13</th>\n",
       "      <td>99.14</td>\n",
       "    </tr>\n",
       "    <tr>\n",
       "      <th>14</th>\n",
       "      <td>99.46</td>\n",
       "    </tr>\n",
       "    <tr>\n",
       "      <th>15</th>\n",
       "      <td>99.73</td>\n",
       "    </tr>\n",
       "    <tr>\n",
       "      <th>16</th>\n",
       "      <td>99.88</td>\n",
       "    </tr>\n",
       "    <tr>\n",
       "      <th>17</th>\n",
       "      <td>99.95</td>\n",
       "    </tr>\n",
       "    <tr>\n",
       "      <th>18</th>\n",
       "      <td>99.98</td>\n",
       "    </tr>\n",
       "    <tr>\n",
       "      <th>19</th>\n",
       "      <td>99.99</td>\n",
       "    </tr>\n",
       "  </tbody>\n",
       "</table>\n",
       "</div>"
      ],
      "text/plain": [
       "    explained variance ratio\n",
       "1                      38.31\n",
       "2                      60.15\n",
       "3                      70.84\n",
       "4                      79.03\n",
       "5                      84.29\n",
       "6                      88.63\n",
       "7                      92.26\n",
       "8                      94.96\n",
       "9                      96.28\n",
       "10                     97.25\n",
       "11                     97.97\n",
       "12                     98.64\n",
       "13                     99.14\n",
       "14                     99.46\n",
       "15                     99.73\n",
       "16                     99.88\n",
       "17                     99.95\n",
       "18                     99.98\n",
       "19                     99.99"
      ]
     },
     "execution_count": 45,
     "metadata": {},
     "output_type": "execute_result"
    }
   ],
   "source": [
    "explained_variance_ratio = np.var(X_pca, axis=0) / np.sum(np.var(X_pca, axis=0))\n",
    "EVR = pd.DataFrame(np.cumsum(np.round(explained_variance_ratio, decimals=4)*100), columns=['explained variance ratio'])\n",
    "EVR.index = EVR.index + 1\n",
    "EVR"
   ]
  },
  {
   "cell_type": "markdown",
   "metadata": {},
   "source": [
    "- Setting M = 1 only captures 38.31% of all the variance, or information, in the predictors. \n",
    "- Setting M = 6 increases the value to 88.63%. \n",
    "- Of course, if we were to use all M = p = 19 components, this would increase to 100%."
   ]
  },
  {
   "cell_type": "markdown",
   "metadata": {},
   "source": [
    "### Comparison with the case without performing PCA"
   ]
  },
  {
   "cell_type": "code",
   "execution_count": 46,
   "metadata": {},
   "outputs": [
    {
     "data": {
      "text/html": [
       "<div>\n",
       "<style scoped>\n",
       "    .dataframe tbody tr th:only-of-type {\n",
       "        vertical-align: middle;\n",
       "    }\n",
       "\n",
       "    .dataframe tbody tr th {\n",
       "        vertical-align: top;\n",
       "    }\n",
       "\n",
       "    .dataframe thead th {\n",
       "        text-align: right;\n",
       "    }\n",
       "</style>\n",
       "<table border=\"1\" class=\"dataframe\">\n",
       "  <thead>\n",
       "    <tr style=\"text-align: right;\">\n",
       "      <th></th>\n",
       "      <th>Explained Variance Ratio</th>\n",
       "    </tr>\n",
       "  </thead>\n",
       "  <tbody>\n",
       "    <tr>\n",
       "      <th>1</th>\n",
       "      <td>5.26</td>\n",
       "    </tr>\n",
       "    <tr>\n",
       "      <th>2</th>\n",
       "      <td>10.52</td>\n",
       "    </tr>\n",
       "    <tr>\n",
       "      <th>3</th>\n",
       "      <td>15.78</td>\n",
       "    </tr>\n",
       "    <tr>\n",
       "      <th>4</th>\n",
       "      <td>21.04</td>\n",
       "    </tr>\n",
       "    <tr>\n",
       "      <th>5</th>\n",
       "      <td>26.30</td>\n",
       "    </tr>\n",
       "    <tr>\n",
       "      <th>6</th>\n",
       "      <td>31.56</td>\n",
       "    </tr>\n",
       "    <tr>\n",
       "      <th>7</th>\n",
       "      <td>36.82</td>\n",
       "    </tr>\n",
       "    <tr>\n",
       "      <th>8</th>\n",
       "      <td>42.08</td>\n",
       "    </tr>\n",
       "    <tr>\n",
       "      <th>9</th>\n",
       "      <td>47.34</td>\n",
       "    </tr>\n",
       "    <tr>\n",
       "      <th>10</th>\n",
       "      <td>52.60</td>\n",
       "    </tr>\n",
       "    <tr>\n",
       "      <th>11</th>\n",
       "      <td>57.86</td>\n",
       "    </tr>\n",
       "    <tr>\n",
       "      <th>12</th>\n",
       "      <td>63.12</td>\n",
       "    </tr>\n",
       "    <tr>\n",
       "      <th>13</th>\n",
       "      <td>68.38</td>\n",
       "    </tr>\n",
       "    <tr>\n",
       "      <th>14</th>\n",
       "      <td>73.64</td>\n",
       "    </tr>\n",
       "    <tr>\n",
       "      <th>15</th>\n",
       "      <td>78.90</td>\n",
       "    </tr>\n",
       "    <tr>\n",
       "      <th>16</th>\n",
       "      <td>84.16</td>\n",
       "    </tr>\n",
       "    <tr>\n",
       "      <th>17</th>\n",
       "      <td>89.42</td>\n",
       "    </tr>\n",
       "    <tr>\n",
       "      <th>18</th>\n",
       "      <td>94.68</td>\n",
       "    </tr>\n",
       "    <tr>\n",
       "      <th>19</th>\n",
       "      <td>99.94</td>\n",
       "    </tr>\n",
       "  </tbody>\n",
       "</table>\n",
       "</div>"
      ],
      "text/plain": [
       "    Explained Variance Ratio\n",
       "1                       5.26\n",
       "2                      10.52\n",
       "3                      15.78\n",
       "4                      21.04\n",
       "5                      26.30\n",
       "6                      31.56\n",
       "7                      36.82\n",
       "8                      42.08\n",
       "9                      47.34\n",
       "10                     52.60\n",
       "11                     57.86\n",
       "12                     63.12\n",
       "13                     68.38\n",
       "14                     73.64\n",
       "15                     78.90\n",
       "16                     84.16\n",
       "17                     89.42\n",
       "18                     94.68\n",
       "19                     99.94"
      ]
     },
     "execution_count": 46,
     "metadata": {},
     "output_type": "execute_result"
    }
   ],
   "source": [
    "explained_variance_ratio_test = np.var(scale(X), axis=0) / np.sum(np.var(scale(X_test), axis=0))\n",
    "EVR2 = pd.DataFrame(np.cumsum(np.round(explained_variance_ratio_test, decimals=4)*100), columns=['Explained Variance Ratio'])\n",
    "EVR2.index = EVR2.index + 1\n",
    "EVR2"
   ]
  },
  {
   "cell_type": "markdown",
   "metadata": {},
   "source": [
    "This shows the benefit of PCA."
   ]
  },
  {
   "cell_type": "code",
   "execution_count": 47,
   "metadata": {},
   "outputs": [
    {
     "data": {
      "image/png": "[encoded data removed]",
      "text/plain": [
       "<Figure size 432x288 with 1 Axes>"
      ]
     },
     "metadata": {},
     "output_type": "display_data"
    }
   ],
   "source": [
    "# 10-fold CV\n",
    "n = len(X_pca)\n",
    "lin_reg = LinearRegression()\n",
    "mse = []\n",
    "\n",
    "# MSE with only the intercept\n",
    "score = -1 * cross_val_score(LinearRegression(fit_intercept=False), np.ones((n,1)), y, cv=kf, scoring='neg_mean_squared_error').mean()\n",
    "mse.append(np.sqrt(score))\n",
    "\n",
    "# MSE for the 19 principle components\n",
    "for i in np.arange(1, 20):\n",
    "    score = -1 * cross_val_score(lin_reg, X_pca[:,:i], y, cv=kf, scoring='neg_mean_squared_error').mean()\n",
    "    mse.append(np.sqrt(score))\n",
    "    \n",
    "min_mse = np.array(mse).argmin()\n",
    "    \n",
    "plt.plot(mse, '-D')\n",
    "plt.xlabel('# of PC')\n",
    "plt.ylabel('MSE');\n",
    "plt.xticks(range(20), range(20))\n",
    "min_mse_marker, = plt.plot(min_mse, min(mse), 'b*', markersize=15)\n",
    "plt.legend([min_mse_marker], ['Best number of principal components']);"
   ]
  },
  {
   "cell_type": "markdown",
   "metadata": {},
   "source": [
    "### PCR on training data and evaluate its test set performance."
   ]
  },
  {
   "cell_type": "code",
   "execution_count": 48,
   "metadata": {},
   "outputs": [
    {
     "data": {
      "image/png": "[encoded data removed]",
      "text/plain": [
       "<Figure size 432x288 with 1 Axes>"
      ]
     },
     "metadata": {},
     "output_type": "display_data"
    }
   ],
   "source": [
    "# validation set\n",
    "X_train, X_test, y_train, y_test = train_test_split(X, y, test_size=0.5, random_state=1)\n",
    "\n",
    "pca2 = PCA()\n",
    "X_train_pca2 = pca2.fit_transform(scale(X_train))\n",
    "\n",
    "# 10-fold CV, with shuffle\n",
    "n = len(X_train_pca2)\n",
    "\n",
    "lin_reg2 = LinearRegression()\n",
    "mse2 = []\n",
    "\n",
    "# MSE with only the intercept\n",
    "score = -1 * cross_val_score(lin_reg2, np.ones((n,1)), y_train, cv=kf, scoring='neg_mean_squared_error').mean()\n",
    "mse2.append(np.sqrt(score))\n",
    "\n",
    "# MSE for the 19 principle components\n",
    "for i in np.arange(1, 20):\n",
    "    score = -1 * cross_val_score(lin_reg2, X_train_pca2[:,:i], y_train, cv=kf, scoring='neg_mean_squared_error').mean()\n",
    "    mse2.append(np.sqrt(score))\n",
    "\n",
    "min_mse = np.array(mse2).argmin()\n",
    "    \n",
    "plt.plot(mse2, '-D')\n",
    "plt.xlabel('# of PC')\n",
    "plt.ylabel('MSE')\n",
    "plt.xticks(range(20), range(20))\n",
    "min_mse_marker, = plt.plot(min_mse, min(mse2), 'b*', markersize=15)\n",
    "plt.legend([min_mse_marker], ['Best number of principal components']);"
   ]
  },
  {
   "cell_type": "markdown",
   "metadata": {},
   "source": [
    "The lowest cross-validation error occurs when 6 components are used. Next perform PCR on the test data and compute the test MSE."
   ]
  },
  {
   "cell_type": "code",
   "execution_count": 49,
   "metadata": {},
   "outputs": [
    {
     "name": "stdout",
     "output_type": "stream",
     "text": [
      "[PCR] Test set MSE =  114098.05632066297\n"
     ]
    }
   ],
   "source": [
    "X_train_pca3 = pca2.fit_transform(scale(X_train))[:, :7]\n",
    "X_test_pca3 = pca2.fit_transform(scale(X_test))[:, :7]\n",
    "\n",
    "lin_reg3 = LinearRegression()\n",
    "lin_reg3.fit(X_train_pca3, y_train)\n",
    "pred_pca3 = lin_reg3.predict(X_test_pca3)\n",
    "\n",
    "print(\"[PCR] Test set MSE = \", mean_squared_error(y_test, pred_pca3))"
   ]
  },
  {
   "cell_type": "markdown",
   "metadata": {},
   "source": [
    "### 3.2. Partial Least Squares"
   ]
  },
  {
   "cell_type": "code",
   "execution_count": 50,
   "metadata": {},
   "outputs": [
    {
     "data": {
      "image/png": "[encoded data removed]",
      "text/plain": [
       "<Figure size 432x288 with 1 Axes>"
      ]
     },
     "metadata": {},
     "output_type": "display_data"
    }
   ],
   "source": [
    "from sklearn.cross_decomposition import PLSRegression\n",
    "\n",
    "# 10-fold CV\n",
    "n = len(X_train)\n",
    "\n",
    "mse = []\n",
    "\n",
    "for i in np.arange(1, 20):\n",
    "    pls = PLSRegression(n_components=i)\n",
    "    score = -1 * cross_val_score(pls, scale(X_train), y_train, cv=kf, scoring='neg_mean_squared_error').mean()\n",
    "    mse.append(np.sqrt(score))    \n",
    "\n",
    "min_mse = np.array(mse).argmin()+1\n",
    "    \n",
    "plt.plot(range(1,20), mse, '-D')\n",
    "plt.xlabel('# of PC')\n",
    "plt.ylabel('MSE')\n",
    "plt.xticks(range(1,20), range(1,20))\n",
    "min_mse_marker, = plt.plot(min_mse, min(mse), 'b*', markersize=15)\n",
    "plt.legend([min_mse_marker], ['Best number of principal components']);"
   ]
  },
  {
   "cell_type": "code",
   "execution_count": 51,
   "metadata": {},
   "outputs": [
    {
     "name": "stdout",
     "output_type": "stream",
     "text": [
      "[PLS] Test set MSE =  104838.51042760804\n"
     ]
    }
   ],
   "source": [
    "pls = PLSRegression(n_components=2)\n",
    "pls.fit(scale(X_train), y_train)\n",
    "y_pred = pls.predict(scale(X_test))\n",
    "\n",
    "print(\"[PLS] Test set MSE = \", mean_squared_error(y_test, y_pred))"
   ]
  },
  {
   "cell_type": "markdown",
   "metadata": {},
   "source": [
    "#### Summary\n",
    "- [Ridge] Test set MSE =  99691.75835893235\n",
    "- [Lasso] Test set MSE =  104972.96754895902\n",
    "- [PCR] Test set MSE =  114098.05632066308\n",
    "- [PLS] Test set MSE =  104838.51042760804"
   ]
  },
  {
   "cell_type": "code",
   "execution_count": null,
   "metadata": {
    "collapsed": true,
    "jupyter": {
     "outputs_hidden": true
    }
   },
   "outputs": [],
   "source": []
  }
 ],
 "metadata": {
  "kernelspec": {
   "display_name": "Python 3",
   "language": "python",
   "name": "python3"
  },
  "language_info": {
   "codemirror_mode": {
    "name": "ipython",
    "version": 3
   },
   "file_extension": ".py",
   "mimetype": "text/x-python",
   "name": "python",
   "nbconvert_exporter": "python",
   "pygments_lexer": "ipython3",
   "version": "3.8.5"
  }
 },
 "nbformat": 4,
 "nbformat_minor": 4
}
