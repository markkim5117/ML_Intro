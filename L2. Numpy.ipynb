{
 "cells": [
  {
   "cell_type": "markdown",
   "metadata": {
    "id": "s39SnnxrZxsx"
   },
   "source": [
    "# Lecture 2. Numpy"
   ]
  },
  {
   "cell_type": "markdown",
   "metadata": {},
   "source": [
    "## 2-1. Numpy basic\n",
    "- __Numpy__ : efficient implementation of n-dim array\n",
    "- built in C : fast\n",
    "- 1-d array, 2-d array, ..., n-d array"
   ]
  },
  {
   "cell_type": "code",
   "execution_count": 414,
   "metadata": {},
   "outputs": [],
   "source": [
    "import numpy as np"
   ]
  },
  {
   "cell_type": "code",
   "execution_count": 415,
   "metadata": {},
   "outputs": [
    {
     "name": "stdout",
     "output_type": "stream",
     "text": [
      "a : List = [1, 2, 3, 4, 5, 6, 7, 8]\n",
      "b : np array = [1 2 3 4 5 6 7 8]\n"
     ]
    }
   ],
   "source": [
    "a = [1,2,3,4,5,6,7,8]\n",
    "print(\"a : List =\", a)\n",
    "b = np.array(a)\n",
    "print(\"b : np array =\", b)"
   ]
  },
  {
   "cell_type": "markdown",
   "metadata": {},
   "source": [
    "![Array Memory Layout](figures/array_vs_list.png)"
   ]
  },
  {
   "cell_type": "markdown",
   "metadata": {},
   "source": [
    "#### NumPy standard data types\n",
    "\n",
    "- NumPy arrays contain values of a single type\n",
    "- data type can be specified when constructing an array\n",
    "```python\n",
    "np.zeros(10, dtype=int)\n",
    "np.zeros(10, dtype=float)\n",
    "np.zeros(10, dtype='int16')\n",
    "np.zeros(10, dtype=np.float32)\n",
    "```"
   ]
  },
  {
   "cell_type": "markdown",
   "metadata": {},
   "source": [
    "| Data type\t    | Description |\n",
    "|---------------|-------------|\n",
    "| ``bool_``     | Boolean (True or False) stored as a byte |\n",
    "| ``int_``      | Default integer type (same as C ``long``; normally either ``int64`` or ``int32``)| \n",
    "| ``intc``      | Identical to C ``int`` (normally ``int32`` or ``int64``)| \n",
    "| ``intp``      | Integer used for indexing (same as C ``ssize_t``; normally either ``int32`` or ``int64``)| \n",
    "| ``int8``      | Byte (-128 to 127)| \n",
    "| ``int16``     | Integer (-32768 to 32767)|\n",
    "| ``int32``     | Integer (-2147483648 to 2147483647)|\n",
    "| ``int64``     | Integer (-9223372036854775808 to 9223372036854775807)| \n",
    "| ``uint8``     | Unsigned integer (0 to 255)| \n",
    "| ``uint16``    | Unsigned integer (0 to 65535)| \n",
    "| ``uint32``    | Unsigned integer (0 to 4294967295)| \n",
    "| ``uint64``    | Unsigned integer (0 to 18446744073709551615)| \n",
    "| ``float_``    | Shorthand for ``float64``.| \n",
    "| ``float16``   | Half precision float: sign bit, 5 bits exponent, 10 bits mantissa| \n",
    "| ``float32``   | Single precision float: sign bit, 8 bits exponent, 23 bits mantissa| \n",
    "| ``float64``   | Double precision float: sign bit, 11 bits exponent, 52 bits mantissa| \n",
    "| ``complex_``  | Shorthand for ``complex128``.| \n",
    "| ``complex64`` | Complex number, represented by two 32-bit floats| \n",
    "| ``complex128``| Complex number, represented by two 64-bit floats| "
   ]
  },
  {
   "cell_type": "code",
   "execution_count": 416,
   "metadata": {},
   "outputs": [
    {
     "data": {
      "text/plain": [
       "array([1., 2., 3., 4.], dtype=float32)"
      ]
     },
     "execution_count": 416,
     "metadata": {},
     "output_type": "execute_result"
    }
   ],
   "source": [
    "np.array([1, 2, 3, 4], dtype='float32')"
   ]
  },
  {
   "cell_type": "markdown",
   "metadata": {},
   "source": [
    "#### Creating arrays from scratch\n",
    "- __shape__ : \n",
    "    * (d1) : 1-d array of size d1\n",
    "    * (d1,d2) : 2-d array of size d1xd2\n",
    "    * (d1,d2,d3) : 3-d array of size d1xd2xd3\n",
    "    * ..."
   ]
  },
  {
   "cell_type": "code",
   "execution_count": 417,
   "metadata": {},
   "outputs": [
    {
     "name": "stdout",
     "output_type": "stream",
     "text": [
      "(10,)\n",
      "[0 0 0 0 0 0 0 0 0 0]\n",
      "(2, 5)\n",
      "[[1. 1. 1. 1. 1.]\n",
      " [1. 1. 1. 1. 1.]]\n",
      "[[3.14 3.14 3.14 3.14 3.14]\n",
      " [3.14 3.14 3.14 3.14 3.14]]\n"
     ]
    }
   ],
   "source": [
    "# Create a length-10 integer array filled with zeros\n",
    "a0 = np.zeros(10, dtype=int)\n",
    "print(a0.shape)\n",
    "print(a0)\n",
    "\n",
    "# Create a 3x5 floating-point array filled with ones\n",
    "a1 = np.ones((2, 5), dtype=float)\n",
    "print(a1.shape)\n",
    "print(a1)\n",
    "\n",
    "# Create a 3x5 array filled with 3.14\n",
    "af = np.full((2, 5), 3.14)\n",
    "print(af)"
   ]
  },
  {
   "cell_type": "code",
   "execution_count": 418,
   "metadata": {},
   "outputs": [
    {
     "data": {
      "text/plain": [
       "array([[1., 0., 0.],\n",
       "       [0., 1., 0.],\n",
       "       [0., 0., 1.]])"
      ]
     },
     "execution_count": 418,
     "metadata": {},
     "output_type": "execute_result"
    }
   ],
   "source": [
    "# Create a 3x3 identity matrix\n",
    "np.eye(3)"
   ]
  },
  {
   "cell_type": "code",
   "execution_count": 419,
   "metadata": {},
   "outputs": [
    {
     "data": {
      "text/plain": [
       "array([ 0,  2,  4,  6,  8, 10, 12, 14, 16, 18])"
      ]
     },
     "execution_count": 419,
     "metadata": {},
     "output_type": "execute_result"
    }
   ],
   "source": [
    "# Create an array filled with a linear sequence\n",
    "# Starting at 0, ending at 20, stepping by 2\n",
    "# (this is similar to the built-in range() function)\n",
    "np.arange(0, 20, 2)"
   ]
  },
  {
   "cell_type": "markdown",
   "metadata": {},
   "source": [
    "#### Creating array with random numbers"
   ]
  },
  {
   "cell_type": "code",
   "execution_count": 9,
   "metadata": {},
   "outputs": [],
   "source": [
    "# setting seed for random number generator\n",
    "# for reproducibility\n",
    "import random\n",
    "import numpy as np\n",
    "random.seed(0)\n",
    "np.random.seed(0)"
   ]
  },
  {
   "cell_type": "code",
   "execution_count": 10,
   "metadata": {},
   "outputs": [
    {
     "data": {
      "text/plain": [
       "array([[0.5488135 , 0.71518937, 0.60276338],\n",
       "       [0.54488318, 0.4236548 , 0.64589411],\n",
       "       [0.43758721, 0.891773  , 0.96366276]])"
      ]
     },
     "execution_count": 10,
     "metadata": {},
     "output_type": "execute_result"
    }
   ],
   "source": [
    "# Create a 3x3 array of uniform[0,1] random numbers\n",
    "np.random.random(size=(3, 3))"
   ]
  },
  {
   "cell_type": "code",
   "execution_count": 421,
   "metadata": {},
   "outputs": [
    {
     "data": {
      "text/plain": [
       "array([[7, 1, 6],\n",
       "       [9, 9, 8],\n",
       "       [6, 3, 4]])"
      ]
     },
     "execution_count": 421,
     "metadata": {},
     "output_type": "execute_result"
    }
   ],
   "source": [
    "# Create a 3x3 array of random integers in the interval [0, 10)\n",
    "np.random.randint(0, 10, size=(3, 3))"
   ]
  },
  {
   "cell_type": "code",
   "execution_count": 422,
   "metadata": {},
   "outputs": [
    {
     "data": {
      "text/plain": [
       "array([[ 0.33786932,  1.39970946,  1.1298669 ],\n",
       "       [-0.07111281, -0.80368313, -1.11158007],\n",
       "       [ 1.01861985,  0.36387617, -0.30621626]])"
      ]
     },
     "execution_count": 422,
     "metadata": {},
     "output_type": "execute_result"
    }
   ],
   "source": [
    "# Create a 3x3 array of N(0,1)\n",
    "np.random.randn(3,3)"
   ]
  },
  {
   "cell_type": "code",
   "execution_count": 423,
   "metadata": {},
   "outputs": [
    {
     "data": {
      "text/plain": [
       "array([[52.7827885 , 50.90993972, 35.35756522],\n",
       "       [66.58160611, 53.7680413 , 36.89402385],\n",
       "       [53.89007158, 60.90909425, 61.22526522]])"
      ]
     },
     "execution_count": 423,
     "metadata": {},
     "output_type": "execute_result"
    }
   ],
   "source": [
    "# Create a 3x3 array of N(50,1)\n",
    "np.random.normal(50, 10, size=(3, 3))"
   ]
  },
  {
   "cell_type": "markdown",
   "metadata": {},
   "source": [
    "#### NumPy array attributes\n",
    "- ``dtype`` : the data type of the array\n",
    "- ``ndim`` : the number of axes\n",
    "- ``shape`` : the size of each axis\n",
    "- ``size`` : the total number of element in the array\n",
    "- ``itemsize`` :  the size of each array element (in bytes) \n",
    "- ``nbytes`` : the total size of the array (in bytes) "
   ]
  },
  {
   "cell_type": "code",
   "execution_count": 424,
   "metadata": {
    "collapsed": false,
    "jupyter": {
     "outputs_hidden": false
    }
   },
   "outputs": [
    {
     "name": "stdout",
     "output_type": "stream",
     "text": [
      "dtype: int32\n",
      "ndim:  3\n",
      "shape: (3, 4, 5)\n",
      "size:  60\n",
      "itemsize: 4 bytes\n",
      "nbytes: 240 bytes\n"
     ]
    }
   ],
   "source": [
    "np.random.seed(0)  # seed for reproducibility\n",
    "x3 = np.random.randint(0, 10, size=(3, 4, 5))  # Three-dimensional array\n",
    "\n",
    "print(\"dtype:\", x3.dtype)\n",
    "print(\"ndim: \", x3.ndim)\n",
    "print(\"shape:\", x3.shape)\n",
    "print(\"size: \", x3.size)\n",
    "print(\"itemsize:\", x3.itemsize, \"bytes\")\n",
    "print(\"nbytes:\", x3.nbytes, \"bytes\")"
   ]
  },
  {
   "cell_type": "markdown",
   "metadata": {},
   "source": [
    "#### Array indexing, slicing: similar to python list"
   ]
  },
  {
   "cell_type": "code",
   "execution_count": 425,
   "metadata": {
    "collapsed": false,
    "jupyter": {
     "outputs_hidden": false
    }
   },
   "outputs": [
    {
     "name": "stdout",
     "output_type": "stream",
     "text": [
      "[0 1 2 3 4 5 6 7 8 9]\n"
     ]
    }
   ],
   "source": [
    "x1 = np.arange(10) \n",
    "print (x1)"
   ]
  },
  {
   "cell_type": "code",
   "execution_count": 426,
   "metadata": {
    "collapsed": false,
    "jupyter": {
     "outputs_hidden": false
    }
   },
   "outputs": [
    {
     "name": "stdout",
     "output_type": "stream",
     "text": [
      "0 1 9 8\n",
      "[0 1 2 3]\n",
      "[4 5 6]\n",
      "[7 8 9]\n",
      "[7 8]\n",
      "[1 3 5 7]\n"
     ]
    }
   ],
   "source": [
    "x1[1] = 1.8  # truncated to integer\n",
    "print (x1[0], x1[1], x1[-1], x1[-2])\n",
    "print (x1[:4])\n",
    "print (x1[4:7])\n",
    "print (x1[7:])\n",
    "print (x1[7:-1])\n",
    "print (x1[1:8:2])"
   ]
  },
  {
   "cell_type": "markdown",
   "metadata": {},
   "source": [
    "#### Slicing\n",
    "    - a view (not a copy) of the base array\n",
    "    - to make a copy, use copy()"
   ]
  },
  {
   "cell_type": "code",
   "execution_count": null,
   "metadata": {},
   "outputs": [],
   "source": [
    "x1 = np.arange(10) \n",
    "y = x1[4:7]\n",
    "print(x1, y)\n",
    "y[0] = 0\n",
    "print(x1, y)       # TAQ\n",
    "\n",
    "z = x1[7:].copy()\n",
    "z[0] = 0\n",
    "print(x1,z)        # TAQ"
   ]
  },
  {
   "cell_type": "code",
   "execution_count": 428,
   "metadata": {
    "collapsed": false,
    "jupyter": {
     "outputs_hidden": false
    }
   },
   "outputs": [
    {
     "name": "stdout",
     "output_type": "stream",
     "text": [
      "[[42 58 31  1]\n",
      " [65 41 57 35]\n",
      " [11 46 82 91]]\n",
      "[42 58 31  1]\n",
      "[58 31]\n",
      "[58 41 46]\n"
     ]
    }
   ],
   "source": [
    "x2 = np.random.randint(0, 100, size=(3,4)) \n",
    "print (x2)\n",
    "print (x2[0])  # first row\n",
    "print (x2[0,1:3])\n",
    "print (x2[:,1])  # second col"
   ]
  },
  {
   "cell_type": "markdown",
   "metadata": {},
   "source": [
    "#### Array reshaping\n",
    "- y = x.reshape(new_shape) : changes shapes of x\n",
    "- no-copy view : reference the original array\n",
    "- x.reshape(-1) : flattens to 1-d array\n",
    "    * numpy n-d array : 1-d array storage + n-d view"
   ]
  },
  {
   "cell_type": "code",
   "execution_count": null,
   "metadata": {},
   "outputs": [],
   "source": [
    "x1 = np.arange(9)\n",
    "print(x1, '\\n')\n",
    "x2 = x1.reshape((3, 3))\n",
    "print(x2, '\\n')\n",
    "x2[1] = 0   # x2[1] = x2[1,:]\n",
    "print(x1)   # TAQ"
   ]
  },
  {
   "cell_type": "code",
   "execution_count": 16,
   "metadata": {},
   "outputs": [
    {
     "name": "stdout",
     "output_type": "stream",
     "text": [
      "[[ 0  1  2  3]\n",
      " [ 4  5  6  7]\n",
      " [ 8  9 10 11]] \n",
      "\n",
      "[0 1 2 3] \n",
      "\n",
      "[[4 5 6 7]] \n",
      "\n",
      "[[ 8]\n",
      " [ 9]\n",
      " [10]\n",
      " [11]] \n",
      "\n"
     ]
    }
   ],
   "source": [
    "x2 = np.arange(12).reshape((3, 4))\n",
    "print (x2, '\\n')\n",
    "print (x2[0], '\\n')\n",
    "print (x2[1].reshape((1,4)), '\\n')\n",
    "print (x2[2].reshape((4,1)), '\\n')"
   ]
  },
  {
   "cell_type": "code",
   "execution_count": 17,
   "metadata": {},
   "outputs": [
    {
     "name": "stdout",
     "output_type": "stream",
     "text": [
      "[ 0  1  2  3  4  5  6  7  8  9 10 11] \n",
      "\n",
      "[[ 0  1  2]\n",
      " [ 3  4  5]\n",
      " [ 6  7  8]\n",
      " [ 9 10 11]] \n",
      "\n",
      "[[ 0  1  2  3  4  5]\n",
      " [ 6  7  8  9 10 11]] \n",
      "\n",
      "[[[ 0  1  2]\n",
      "  [ 3  4  5]]\n",
      "\n",
      " [[ 6  7  8]\n",
      "  [ 9 10 11]]]\n"
     ]
    }
   ],
   "source": [
    "print (x2.reshape(-1), '\\n')\n",
    "print (x2.reshape((4,-1)), '\\n')\n",
    "print (x2.reshape((-1,6)), '\\n')\n",
    "print (x2.reshape((2,2,-1)))"
   ]
  },
  {
   "cell_type": "markdown",
   "metadata": {},
   "source": [
    "#### 1-d index of n-d array\n",
    "- x.shape = $(d_0, d_1, d_2)$\n",
    "- y.reshape(-1) : flattened(1-d) view of x\n",
    "- x[$a,b,c$] $\\equiv$ y[$k$], where $k = a(d_1d_2) + bd_2 + c = (ad_1 + b)d_2 + c$"
   ]
  },
  {
   "cell_type": "code",
   "execution_count": 6,
   "metadata": {},
   "outputs": [
    {
     "name": "stdout",
     "output_type": "stream",
     "text": [
      "18\n",
      "18\n",
      "0\n"
     ]
    }
   ],
   "source": [
    "import numpy as np\n",
    "x3 = np.arange(2*3*4)\n",
    "x4 = x3.reshape((2,3,4))\n",
    "\n",
    "a,b,c = 1,1,2\n",
    "print(x4[a,b,c])\n",
    "k = (a*3 + b)*4 + c\n",
    "print(x3[k])\n",
    "\n",
    "x3[k] = 0\n",
    "print (x4[a,b,c])   # TAQ"
   ]
  },
  {
   "cell_type": "markdown",
   "metadata": {},
   "source": [
    "#### Concatenating arrays"
   ]
  },
  {
   "cell_type": "code",
   "execution_count": 18,
   "metadata": {},
   "outputs": [
    {
     "name": "stdout",
     "output_type": "stream",
     "text": [
      "[1 2 3 3 2 1]\n",
      "[ 1  2  3  3  2  1 99 99 99]\n"
     ]
    }
   ],
   "source": [
    "x = np.array([1, 2, 3])\n",
    "y = np.array([3, 2, 1])\n",
    "print (np.concatenate([x, y]), '\\n')\n",
    "z = [99, 99, 99]\n",
    "print(np.concatenate([x, y, z]))"
   ]
  },
  {
   "cell_type": "code",
   "execution_count": 20,
   "metadata": {},
   "outputs": [
    {
     "name": "stdout",
     "output_type": "stream",
     "text": [
      "[[0 1 2 3]\n",
      " [4 5 6 7]] \n",
      "\n",
      "[[ 8  9 10 11]\n",
      " [12 13 14 15]] \n",
      "\n",
      "[[ 0  1  2  3]\n",
      " [ 4  5  6  7]\n",
      " [ 8  9 10 11]\n",
      " [12 13 14 15]] \n",
      "\n",
      "[[ 0  1  2  3]\n",
      " [ 4  5  6  7]\n",
      " [ 8  9 10 11]\n",
      " [12 13 14 15]] \n",
      "\n",
      "[[ 0  1  2  3  8  9 10 11]\n",
      " [ 4  5  6  7 12 13 14 15]] \n",
      "\n",
      "[[ 0  1  2  3  8  9 10 11]\n",
      " [ 4  5  6  7 12 13 14 15]]\n"
     ]
    }
   ],
   "source": [
    "x = np.arange(0,8).reshape((2, 4))\n",
    "y = np.arange(8,16).reshape((2, 4))\n",
    "print (x, '\\n')\n",
    "print (y, '\\n')\n",
    "print (np.concatenate([x,y], axis=0), '\\n')\n",
    "print (np.vstack([x,y]), '\\n')\n",
    "print (np.concatenate([x,y], axis=1), '\\n')\n",
    "print (np.hstack([x,y]))"
   ]
  },
  {
   "cell_type": "markdown",
   "metadata": {},
   "source": [
    "## 2-2. Computation on NumPy arrays: Universal Functions\n",
    "\n",
    "#### Loops are slow"
   ]
  },
  {
   "cell_type": "code",
   "execution_count": 22,
   "metadata": {},
   "outputs": [
    {
     "name": "stdout",
     "output_type": "stream",
     "text": [
      "500387.3135894248\n"
     ]
    }
   ],
   "source": [
    "import numpy as np\n",
    "a = np.random.random(size=1000000)\n",
    "print(a.sum())  # TAQ : any guess?"
   ]
  },
  {
   "cell_type": "markdown",
   "metadata": {},
   "source": [
    "- the following code is slow, because of?\n",
    "    * using list?\n",
    "    * using for loop?"
   ]
  },
  {
   "cell_type": "code",
   "execution_count": 23,
   "metadata": {},
   "outputs": [
    {
     "name": "stdout",
     "output_type": "stream",
     "text": [
      "381 ms ± 13.8 ms per loop (mean ± std. dev. of 7 runs, 1 loop each)\n"
     ]
    }
   ],
   "source": [
    "# using list and for-loop\n",
    "def reciprocal_1(x):\n",
    "    n = len(x)\n",
    "    y = []\n",
    "    s = 0.0\n",
    "    for i in range(n):\n",
    "        z = 1.0 / x[i]\n",
    "        s += z\n",
    "        y.append(z)\n",
    "    return y, s\n",
    "\n",
    "%timeit b, s = reciprocal_1(a)"
   ]
  },
  {
   "cell_type": "code",
   "execution_count": 24,
   "metadata": {},
   "outputs": [
    {
     "name": "stdout",
     "output_type": "stream",
     "text": [
      "373 ms ± 37 ms per loop (mean ± std. dev. of 7 runs, 1 loop each)\n"
     ]
    }
   ],
   "source": [
    "# using numpy array and for-loop\n",
    "def reciprocal_2(x):\n",
    "    n = len(x)\n",
    "    y = np.zeros(n)\n",
    "    for i in range(n):\n",
    "        y[i] = 1.0 / x[i]\n",
    "    return y, y.sum()\n",
    "\n",
    "%timeit b, s = reciprocal_2(a)"
   ]
  },
  {
   "cell_type": "code",
   "execution_count": 25,
   "metadata": {},
   "outputs": [
    {
     "name": "stdout",
     "output_type": "stream",
     "text": [
      "4.38 ms ± 121 µs per loop (mean ± std. dev. of 7 runs, 100 loops each)\n"
     ]
    }
   ],
   "source": [
    "# using numpy array and no-loop\n",
    "def reciprocal_3(x):\n",
    "    y = 1/x\n",
    "    return y, y.sum()\n",
    "\n",
    "%timeit b, sum = reciprocal_3(a)"
   ]
  },
  {
   "cell_type": "markdown",
   "metadata": {},
   "source": [
    "#### UFuncs : vectorized opertions\n",
    "\n",
    "- __ufunc__ : universal function\n",
    "    * very fast\n",
    "    * __element-wise__ operations on numpy array\n",
    "    * unary\n",
    "    * binary: scalar $\\odot$ np array\n",
    "    * binary: np array $\\odot$ np array\n"
   ]
  },
  {
   "cell_type": "code",
   "execution_count": 438,
   "metadata": {
    "collapsed": false,
    "jupyter": {
     "outputs_hidden": false
    }
   },
   "outputs": [
    {
     "name": "stdout",
     "output_type": "stream",
     "text": [
      "[ 0  2  4  6  8 10]\n",
      "[ 1  3  5  7  9 11]\n"
     ]
    }
   ],
   "source": [
    "x = np.arange(0,11,2)\n",
    "y = np.arange(1,12,2)\n",
    "print(x)\n",
    "print(y)"
   ]
  },
  {
   "cell_type": "code",
   "execution_count": 439,
   "metadata": {
    "collapsed": false,
    "jupyter": {
     "outputs_hidden": false
    }
   },
   "outputs": [
    {
     "name": "stdout",
     "output_type": "stream",
     "text": [
      "x     = [ 0  2  4  6  8 10]\n",
      "x + 5 = [ 5  7  9 11 13 15]\n",
      "x - 5 = [-5 -3 -1  1  3  5]\n",
      "x * 2 = [ 0  4  8 12 16 20]\n",
      "x / 2 = [0. 1. 2. 3. 4. 5.]\n",
      "x // 2 = [0 1 2 3 4 5]\n"
     ]
    }
   ],
   "source": [
    "print(\"x     =\", x)\n",
    "print(\"x + 5 =\", x + 5)\n",
    "print(\"x - 5 =\", x - 5)\n",
    "print(\"x * 2 =\", x * 2)\n",
    "print(\"x / 2 =\", x / 2)\n",
    "print(\"x // 2 =\", x // 2)  # floor division"
   ]
  },
  {
   "cell_type": "code",
   "execution_count": 440,
   "metadata": {
    "collapsed": false,
    "jupyter": {
     "outputs_hidden": false
    }
   },
   "outputs": [
    {
     "name": "stdout",
     "output_type": "stream",
     "text": [
      "-x     =  [  0  -2  -4  -6  -8 -10]\n",
      "x ** 2 =  [  0   4  16  36  64 100]\n",
      "x % 2  =  [0 0 0 0 0 0]\n",
      "-(x/2+1)**2 =  [ -1.  -4.  -9. -16. -25. -36.]\n"
     ]
    }
   ],
   "source": [
    "print(\"-x     = \", -x)\n",
    "print(\"x ** 2 = \", x ** 2)\n",
    "print(\"x % 2  = \", x % 2)\n",
    "print(\"-(x/2+1)**2 = \", -(0.5*x + 1) ** 2)"
   ]
  },
  {
   "cell_type": "code",
   "execution_count": 441,
   "metadata": {
    "collapsed": false,
    "jupyter": {
     "outputs_hidden": false
    }
   },
   "outputs": [
    {
     "name": "stdout",
     "output_type": "stream",
     "text": [
      "[ 2  4  6  8 10 12]\n",
      "[ 2  4  6  8 10 12]\n"
     ]
    }
   ],
   "source": [
    "print (x + 2)\n",
    "print (np.add(x, 2))"
   ]
  },
  {
   "cell_type": "markdown",
   "metadata": {},
   "source": [
    "The following table lists the arithmetic operators implemented in NumPy:\n",
    "\n",
    "| Operator\t    | Equivalent ufunc    | Description                           |\n",
    "|---------------|---------------------|---------------------------------------|\n",
    "|``+``          |``np.add``           |Addition (e.g., ``1 + 1 = 2``)         |\n",
    "|``-``          |``np.subtract``      |Subtraction (e.g., ``3 - 2 = 1``)      |\n",
    "|``-``          |``np.negative``      |Unary negation (e.g., ``-2``)          |\n",
    "|``*``          |``np.multiply``      |Multiplication (e.g., ``2 * 3 = 6``)   |\n",
    "|``/``          |``np.divide``        |Division (e.g., ``3 / 2 = 1.5``)       |\n",
    "|``//``         |``np.floor_divide``  |Floor division (e.g., ``3 // 2 = 1``)  |\n",
    "|``**``         |``np.power``         |Exponentiation (e.g., ``2 ** 3 = 8``)  |\n",
    "|``%``          |``np.mod``           |Modulus/remainder (e.g., ``9 % 4 = 1``)|"
   ]
  },
  {
   "cell_type": "markdown",
   "metadata": {},
   "source": [
    "#### Math functions"
   ]
  },
  {
   "cell_type": "code",
   "execution_count": 442,
   "metadata": {},
   "outputs": [
    {
     "name": "stdout",
     "output_type": "stream",
     "text": [
      "x     = [-1, 2, -3]\n",
      "y=|x| = [1 2 3]\n"
     ]
    }
   ],
   "source": [
    "x = [-1, 2, -3]\n",
    "print(\"x     =\", x)      # x: python list\n",
    "y = np.abs(x)            # x is converted to np array, so is y\n",
    "print(\"y=|x| =\", y)   "
   ]
  },
  {
   "cell_type": "code",
   "execution_count": 443,
   "metadata": {},
   "outputs": [
    {
     "name": "stdout",
     "output_type": "stream",
     "text": [
      "e^y   = [ 2.71828183  7.3890561  20.08553692]\n",
      "2^y   = [2. 4. 8.]\n",
      "3^y   = [ 3  9 27]\n"
     ]
    }
   ],
   "source": [
    " x = [1, 2, 3]\n",
    "print(\"e^y   =\", np.exp(y))  \n",
    "print(\"2^y   =\", np.exp2(y))\n",
    "print(\"3^y   =\", np.power(3, y))"
   ]
  },
  {
   "cell_type": "code",
   "execution_count": 444,
   "metadata": {},
   "outputs": [
    {
     "name": "stdout",
     "output_type": "stream",
     "text": [
      "x        = [1, 2, 4, 10]\n",
      "ln(x)    = [0.         0.69314718 1.38629436 2.30258509]\n",
      "log2(x)  = [0.         1.         2.         3.32192809]\n",
      "log10(x) = [0.         0.30103    0.60205999 1.        ]\n"
     ]
    }
   ],
   "source": [
    "x = [1, 2, 4, 10]\n",
    "print(\"x        =\", x)\n",
    "print(\"ln(x)    =\", np.log(x))\n",
    "print(\"log2(x)  =\", np.log2(x))\n",
    "print(\"log10(x) =\", np.log10(x))"
   ]
  },
  {
   "cell_type": "markdown",
   "metadata": {},
   "source": [
    "# Special function : np.expm1(x), np.log1p(x)\n",
    "- for computing more pricisely when x is small\n",
    "- ``np.expm1(x)`` : high precision function for np.exp(x)-1\n",
    "- ``np.log1p(x)`` : high precision function for np.log(1+x)"
   ]
  },
  {
   "cell_type": "code",
   "execution_count": 445,
   "metadata": {
    "collapsed": false,
    "jupyter": {
     "outputs_hidden": false
    }
   },
   "outputs": [
    {
     "name": "stdout",
     "output_type": "stream",
     "text": [
      "exp(x) - 1 = [1.00052357e-03 1.00016594e-04 1.00135803e-05]\n",
      "exp(y) - 1 = [1.00050021e-03 1.00004998e-04 1.00000497e-05]\n",
      "expm1(x)   = [1.0005003e-03 1.0000499e-04 1.0000050e-05]\n",
      "log(1 + x) = [9.99546959e-04 1.00011595e-04 1.00135303e-05]\n",
      "log(1 + y) = [9.99500381e-04 9.99949978e-05 9.99994975e-06]\n",
      "log1p(x)   = [9.995003e-04 9.999500e-05 9.999950e-06]\n"
     ]
    }
   ],
   "source": [
    "x = np.array([0.001, 0.0001, 0.00001], dtype=np.float32)\n",
    "y = np.array(x, dtype=np.float64)\n",
    "print(\"exp(x) - 1 =\", np.exp(x)-1)\n",
    "print(\"exp(y) - 1 =\", np.exp(y)-1)\n",
    "print(\"expm1(x)   =\", np.expm1(x))\n",
    "print(\"log(1 + x) =\", np.log(1+x))\n",
    "print(\"log(1 + y) =\", np.log(1+y))\n",
    "print(\"log1p(x)   =\", np.log1p(x))"
   ]
  },
  {
   "cell_type": "markdown",
   "metadata": {},
   "source": [
    "#### Trigonometric functions"
   ]
  },
  {
   "cell_type": "code",
   "execution_count": 446,
   "metadata": {
    "collapsed": false,
    "jupyter": {
     "outputs_hidden": false
    }
   },
   "outputs": [
    {
     "name": "stdout",
     "output_type": "stream",
     "text": [
      "theta      =  [0.         1.04719755 2.0943951  3.14159265]\n",
      "sin(theta) =  [0.00000000e+00 8.66025404e-01 8.66025404e-01 1.22464680e-16]\n",
      "cos(theta) =  [ 1.   0.5 -0.5 -1. ]\n",
      "tan(theta) =  [ 0.00000000e+00  1.73205081e+00 -1.73205081e+00 -1.22464680e-16]\n"
     ]
    }
   ],
   "source": [
    "theta = np.linspace(0, np.pi, 4)\n",
    "print(\"theta      = \", theta)\n",
    "print(\"sin(theta) = \", np.sin(theta))\n",
    "print(\"cos(theta) = \", np.cos(theta))\n",
    "print(\"tan(theta) = \", np.tan(theta))"
   ]
  },
  {
   "cell_type": "code",
   "execution_count": 447,
   "metadata": {
    "collapsed": false,
    "jupyter": {
     "outputs_hidden": false
    }
   },
   "outputs": [
    {
     "name": "stdout",
     "output_type": "stream",
     "text": [
      "x         =  [-1, 0, 1]\n",
      "arcsin(x) =  [-1.57079633  0.          1.57079633]\n",
      "arccos(x) =  [3.14159265 1.57079633 0.        ]\n",
      "arctan(x) =  [-0.78539816  0.          0.78539816]\n"
     ]
    }
   ],
   "source": [
    "x = [-1, 0, 1]\n",
    "print(\"x         = \", x)\n",
    "print(\"arcsin(x) = \", np.arcsin(x))\n",
    "print(\"arccos(x) = \", np.arccos(x))\n",
    "print(\"arctan(x) = \", np.arctan(x))"
   ]
  },
  {
   "cell_type": "markdown",
   "metadata": {},
   "source": [
    "#### Specialized functions : gamma, beta, erf, ...\n",
    "- ``scipy.special`` : provides many special functions"
   ]
  },
  {
   "cell_type": "code",
   "execution_count": 448,
   "metadata": {
    "collapsed": false,
    "jupyter": {
     "outputs_hidden": false
    }
   },
   "outputs": [],
   "source": [
    "from scipy import special"
   ]
  },
  {
   "cell_type": "code",
   "execution_count": 449,
   "metadata": {
    "collapsed": false,
    "jupyter": {
     "outputs_hidden": false
    }
   },
   "outputs": [
    {
     "name": "stdout",
     "output_type": "stream",
     "text": [
      "gamma(x)     = [1.0000e+00 2.4000e+01 3.6288e+05]\n",
      "ln|gamma(x)| = [ 0.          3.17805383 12.80182748]\n",
      "beta(x, 2)   = [0.5        0.03333333 0.00909091]\n"
     ]
    }
   ],
   "source": [
    "# Gamma functions (generalized factorials) and related functions\n",
    "x = [1, 5, 10]\n",
    "print(\"gamma(x)     =\", special.gamma(x))\n",
    "print(\"ln|gamma(x)| =\", special.gammaln(x))\n",
    "print(\"beta(x, 2)   =\", special.beta(x, 2))"
   ]
  },
  {
   "cell_type": "code",
   "execution_count": 450,
   "metadata": {
    "collapsed": false,
    "jupyter": {
     "outputs_hidden": false
    }
   },
   "outputs": [
    {
     "name": "stdout",
     "output_type": "stream",
     "text": [
      "erf(x)  = [0.         0.32862676 0.67780119 0.84270079]\n",
      "erfc(x) = [1.         0.67137324 0.32219881 0.15729921]\n",
      "erfinv(x) = [0.         0.27246271 0.73286908        inf]\n"
     ]
    }
   ],
   "source": [
    "# Error function (integral of Gaussian)\n",
    "# its complement, and its inverse\n",
    "x = np.array([0, 0.3, 0.7, 1.0])\n",
    "print(\"erf(x)  =\", special.erf(x))\n",
    "print(\"erfc(x) =\", special.erfc(x))\n",
    "print(\"erfinv(x) =\", special.erfinv(x))"
   ]
  },
  {
   "cell_type": "markdown",
   "metadata": {},
   "source": [
    "#### Specifying output"
   ]
  },
  {
   "cell_type": "code",
   "execution_count": 27,
   "metadata": {
    "collapsed": false,
    "jupyter": {
     "outputs_hidden": false
    }
   },
   "outputs": [
    {
     "name": "stdout",
     "output_type": "stream",
     "text": [
      "[ 0  1  2  0 10 20 30 40  8  9]\n",
      "[ 0  1  2  0 10 20 30 40  8  9]\n"
     ]
    }
   ],
   "source": [
    "x = np.arange(5)\n",
    "y = np.arange(10)\n",
    "np.multiply(x, 10, out=y[3:8])  # store x*10 to y[3:8]\n",
    "print(y)\n",
    "y[3:8] = np.multiply(x, 10)\n",
    "print(y)"
   ]
  },
  {
   "cell_type": "markdown",
   "metadata": {},
   "source": [
    "## 2-3. Aggregations : sum, min, max, and so on\n",
    "- numpy aggregation functions are much faster than standard python aggregation"
   ]
  },
  {
   "cell_type": "code",
   "execution_count": 452,
   "metadata": {},
   "outputs": [
    {
     "name": "stdout",
     "output_type": "stream",
     "text": [
      "15.4 ms ± 243 µs per loop (mean ± std. dev. of 7 runs, 100 loops each)\n",
      "45.2 µs ± 1.52 µs per loop (mean ± std. dev. of 7 runs, 10000 loops each)\n"
     ]
    }
   ],
   "source": [
    "L = np.random.random(100000)\n",
    "%timeit sum(L)\n",
    "%timeit np.sum(L)"
   ]
  },
  {
   "cell_type": "code",
   "execution_count": 453,
   "metadata": {},
   "outputs": [
    {
     "name": "stdout",
     "output_type": "stream",
     "text": [
      "10 ms ± 248 µs per loop (mean ± std. dev. of 7 runs, 100 loops each)\n",
      "36.3 µs ± 2.6 µs per loop (mean ± std. dev. of 7 runs, 10000 loops each)\n"
     ]
    }
   ],
   "source": [
    "%timeit max(L)\n",
    "%timeit L.max()"
   ]
  },
  {
   "cell_type": "code",
   "execution_count": 28,
   "metadata": {},
   "outputs": [
    {
     "name": "stdout",
     "output_type": "stream",
     "text": [
      "[[0.59753225 0.07463842 0.43803321 0.21812627]\n",
      " [0.53159247 0.10793176 0.8448757  0.03346237]\n",
      " [0.32140902 0.65124221 0.61473394 0.2195387 ]]\n"
     ]
    }
   ],
   "source": [
    "M = np.random.random((3, 4))\n",
    "print(M)"
   ]
  },
  {
   "cell_type": "code",
   "execution_count": 29,
   "metadata": {},
   "outputs": [
    {
     "name": "stdout",
     "output_type": "stream",
     "text": [
      "4.653116331422877\n",
      "[1.45053374 0.83381239 1.89764286 0.47112734] \n",
      "\n",
      "[[0.59753225 0.67217067 1.11020389 1.32833016]\n",
      " [0.53159247 0.63952423 1.48439993 1.5178623 ]\n",
      " [0.32140902 0.97265124 1.58738518 1.80692388]] \n",
      "\n",
      "[0.10209353 0.00524631 0.22750296 0.00160242] \n",
      "\n",
      "[[0.59753225 0.04459886 0.01953578 0.00426127]\n",
      " [0.53159247 0.05737571 0.04847534 0.0016221 ]\n",
      " [0.32140902 0.20931512 0.12867311 0.02824873]] \n",
      "\n"
     ]
    }
   ],
   "source": [
    "print(M.sum())\n",
    "print(M.sum(axis=0), '\\n')\n",
    "print(M.cumsum(axis=1), '\\n')\n",
    "print(M.prod(axis=0), '\\n')\n",
    "print(M.cumprod(axis=1), '\\n')"
   ]
  },
  {
   "cell_type": "code",
   "execution_count": 30,
   "metadata": {},
   "outputs": [
    {
     "name": "stdout",
     "output_type": "stream",
     "text": [
      "min = [0.32140902 0.07463842 0.43803321 0.03346237]\n",
      "max = [0.59753225 0.65124221 0.8448757  0.2195387 ]\n",
      "mean= [0.48351125 0.27793746 0.63254762 0.15704245]\n",
      "var = [0.01386324 0.06986296 0.02774547 0.00763635]\n",
      "std = [0.11774227 0.26431602 0.1665697  0.08738621]\n",
      "med = [0.53159247 0.10793176 0.61473394 0.21812627]\n",
      "p75%= [0.56456236 0.37958699 0.72980482 0.21883248]\n"
     ]
    }
   ],
   "source": [
    "print('min =', M.min(axis=0))\n",
    "print('max =', M.max(axis=0))\n",
    "print('mean=', M.mean(axis=0))\n",
    "print('var =', M.var(axis=0))\n",
    "print('std =', M.std(axis=0))\n",
    "print('med =', np.median(M, axis=0))  # M.median(axis=0) does not work\n",
    "print('p75%=', np.percentile(M, 75, axis=0))"
   ]
  },
  {
   "cell_type": "code",
   "execution_count": 31,
   "metadata": {},
   "outputs": [
    {
     "name": "stdout",
     "output_type": "stream",
     "text": [
      "9\n",
      "0\n"
     ]
    }
   ],
   "source": [
    "x = np.arange(9,-1,-1)\n",
    "print (np.argmin(x))\n",
    "print (x.argmax())"
   ]
  },
  {
   "cell_type": "markdown",
   "metadata": {},
   "source": [
    "## 2-4. Example: What is the Average Height of US Presidents?"
   ]
  },
  {
   "cell_type": "markdown",
   "metadata": {},
   "source": [
    "Aggregates available in NumPy can be extremely useful for summarizing a set of values.\n",
    "As a simple example, let's consider the heights of all US presidents.\n",
    "This data is available in the file *president_heights.csv*, which is a simple comma-separated list of labels and values:"
   ]
  },
  {
   "cell_type": "markdown",
   "metadata": {
    "jupyter": {
     "outputs_hidden": false
    }
   },
   "source": [
    "#### president_heights.csv\n",
    "\n",
    "order,name,height(cm)  \n",
    "1,George Washington,189  \n",
    "2,John Adams,170  \n",
    "3,Thomas Jefferson,189  \n",
    "..."
   ]
  },
  {
   "cell_type": "markdown",
   "metadata": {},
   "source": [
    "#### pandas to read the file\n",
    "- pandas will be explored more fully later"
   ]
  },
  {
   "cell_type": "code",
   "execution_count": 458,
   "metadata": {
    "collapsed": false,
    "jupyter": {
     "outputs_hidden": false
    }
   },
   "outputs": [
    {
     "name": "stdout",
     "output_type": "stream",
     "text": [
      "[189 170 189 163 183 171 185 168 173 183 173 173 175 178 183 193 178 173\n",
      " 174 183 183 168 170 178 182 180 183 178 182 188 175 179 183 193 182 183\n",
      " 177 185 188 188 182 185]\n"
     ]
    }
   ],
   "source": [
    "import pandas as pd\n",
    "data = pd.read_csv('data/president_heights.csv')\n",
    "heights = np.array(data['height(cm)'])\n",
    "print(heights)"
   ]
  },
  {
   "cell_type": "markdown",
   "metadata": {},
   "source": [
    "#### summary statistics:"
   ]
  },
  {
   "cell_type": "code",
   "execution_count": 459,
   "metadata": {
    "collapsed": false,
    "jupyter": {
     "outputs_hidden": false
    }
   },
   "outputs": [
    {
     "name": "stdout",
     "output_type": "stream",
     "text": [
      "Mean height:        179.73809523809524\n",
      "Standard deviation: 6.931843442745892\n",
      "Minimum height:     163\n",
      "Maximum height:     193\n"
     ]
    }
   ],
   "source": [
    "print(\"Mean height:       \", heights.mean())\n",
    "print(\"Standard deviation:\", heights.std())\n",
    "print(\"Minimum height:    \", heights.min())\n",
    "print(\"Maximum height:    \", heights.max())"
   ]
  },
  {
   "cell_type": "markdown",
   "metadata": {},
   "source": [
    "#### quantiles:"
   ]
  },
  {
   "cell_type": "code",
   "execution_count": 460,
   "metadata": {
    "collapsed": false,
    "jupyter": {
     "outputs_hidden": false
    }
   },
   "outputs": [
    {
     "name": "stdout",
     "output_type": "stream",
     "text": [
      "25th percentile:    174.25\n",
      "Median:             182.0\n",
      "75th percentile:    183.0\n"
     ]
    }
   ],
   "source": [
    "print(\"25th percentile:   \", np.percentile(heights, 25))\n",
    "print(\"Median:            \", np.median(heights))\n",
    "print(\"75th percentile:   \", np.percentile(heights, 75))"
   ]
  },
  {
   "cell_type": "code",
   "execution_count": 461,
   "metadata": {
    "collapsed": false,
    "jupyter": {
     "outputs_hidden": false
    }
   },
   "outputs": [],
   "source": [
    "%matplotlib inline\n",
    "import matplotlib.pyplot as plt\n",
    "import seaborn; seaborn.set()  # set plot style"
   ]
  },
  {
   "cell_type": "code",
   "execution_count": 462,
   "metadata": {
    "collapsed": false,
    "jupyter": {
     "outputs_hidden": false
    }
   },
   "outputs": [
    {
     "data": {
      "image/png": "[encoded data removed]",
      "text/plain": [
       "<Figure size 432x288 with 1 Axes>"
      ]
     },
     "metadata": {},
     "output_type": "display_data"
    }
   ],
   "source": [
    "plt.hist(heights)\n",
    "plt.title('Height Distribution of US Presidents')\n",
    "plt.xlabel('height (cm)')\n",
    "plt.ylabel('number');"
   ]
  },
  {
   "cell_type": "code",
   "execution_count": null,
   "metadata": {},
   "outputs": [],
   "source": []
  },
  {
   "cell_type": "markdown",
   "metadata": {},
   "source": [
    "## 2-5. Broadcasting"
   ]
  },
  {
   "cell_type": "markdown",
   "metadata": {},
   "source": [
    "### Motivation\n",
    "- ufunc : element-wise operation\n",
    "    * A $\\odot$ B\n",
    "    * what if A and B has different shape? <br> \n",
    "    <span style=\"color:blue\"> \n",
    "        - we want to match shapes <br>\n",
    "        - as long as there is a natural way\n",
    "    </span>\n",
    "- broadcasting : rules for binary ufunc when shapes differ  "
   ]
  },
  {
   "cell_type": "code",
   "execution_count": 463,
   "metadata": {
    "collapsed": false,
    "jupyter": {
     "outputs_hidden": false
    }
   },
   "outputs": [],
   "source": [
    "import numpy as np"
   ]
  },
  {
   "cell_type": "code",
   "execution_count": 464,
   "metadata": {
    "collapsed": false,
    "jupyter": {
     "outputs_hidden": false
    }
   },
   "outputs": [
    {
     "name": "stdout",
     "output_type": "stream",
     "text": [
      "[5 6 7]\n"
     ]
    }
   ],
   "source": [
    "a = np.array([0, 1, 2])\n",
    "b = np.array([5, 5, 5])\n",
    "print (a + b)"
   ]
  },
  {
   "cell_type": "code",
   "execution_count": 465,
   "metadata": {
    "collapsed": false,
    "jupyter": {
     "outputs_hidden": false
    }
   },
   "outputs": [
    {
     "name": "stdout",
     "output_type": "stream",
     "text": [
      "[5 6 7]\n"
     ]
    }
   ],
   "source": [
    "print(a + 5)"
   ]
  },
  {
   "cell_type": "markdown",
   "metadata": {},
   "source": [
    "- we can view a + 5 as : \n",
    "    * duplicate the value ``5`` into the array ``[5, 5, 5]``\n",
    "    * then add element-wise\n",
    "    * this is only mental model (simple way of thinking broadcasting)\n",
    "    * numpy does this in a more efficient way \n",
    "- We can similarly extend this to arrays of higher dimension"
   ]
  },
  {
   "cell_type": "code",
   "execution_count": 466,
   "metadata": {
    "collapsed": false,
    "jupyter": {
     "outputs_hidden": false
    }
   },
   "outputs": [
    {
     "name": "stdout",
     "output_type": "stream",
     "text": [
      "[[1. 2. 3.]\n",
      " [1. 2. 3.]\n",
      " [1. 2. 3.]]\n"
     ]
    }
   ],
   "source": [
    "a = np.array([0, 1, 2])\n",
    "M = np.ones((3, 3))\n",
    "print(M+a)"
   ]
  },
  {
   "cell_type": "markdown",
   "metadata": {},
   "source": [
    "- ``M``+``a``\n",
    "    - ``a`` is duplicated, or broadcast \n",
    "    - across the second dimension (vertically)\n",
    "    - in order to match the shape of ``M``."
   ]
  },
  {
   "cell_type": "code",
   "execution_count": 32,
   "metadata": {
    "collapsed": false,
    "jupyter": {
     "outputs_hidden": false
    }
   },
   "outputs": [
    {
     "name": "stdout",
     "output_type": "stream",
     "text": [
      "[0 1 2] \n",
      "\n",
      "[[0]\n",
      " [1]\n",
      " [2]] \n",
      "\n",
      "[[0 1 2]\n",
      " [1 2 3]\n",
      " [2 3 4]]\n"
     ]
    }
   ],
   "source": [
    "a = np.arange(3)\n",
    "b = np.arange(3).reshape((3,1))\n",
    "print(a, '\\n')\n",
    "print(b, '\\n')\n",
    "print(a+b)"
   ]
  },
  {
   "cell_type": "markdown",
   "metadata": {},
   "source": [
    "- visualization of broadcasting in  ``a`` + ``5``, ``M`` + ``b``, and ``a`` + ``b`` \n",
    "![Broadcasting Visual](figures/02.05-broadcasting.png)"
   ]
  },
  {
   "cell_type": "markdown",
   "metadata": {},
   "source": [
    "The light boxes represent the broadcasted values: again, this extra memory is not actually allocated in the course of the operation, but it can be useful conceptually to imagine that it is."
   ]
  },
  {
   "cell_type": "markdown",
   "metadata": {},
   "source": [
    "### Rules of Broadcasting\n",
    "\n",
    "Broadcasting in NumPy follows a strict set of rules to determine the interaction between the two arrays:\n",
    "\n",
    "- __Rule 1__: If the two arrays differ in their number of dimensions, the shape of the one with fewer dimensions is *padded* with ones on its leading (left) side.\n",
    "- __Rule 2__: If the shape of the two arrays does not match in any dimension, the array with shape equal to 1 in that dimension is stretched to match the other shape.\n",
    "- __Rule 3__: If in any dimension the sizes disagree and neither is equal to 1, an error is raised."
   ]
  },
  {
   "cell_type": "markdown",
   "metadata": {},
   "source": [
    "### Non-compatible example"
   ]
  },
  {
   "cell_type": "code",
   "execution_count": 468,
   "metadata": {
    "collapsed": false,
    "jupyter": {
     "outputs_hidden": false
    }
   },
   "outputs": [
    {
     "ename": "ValueError",
     "evalue": "operands could not be broadcast together with shapes (3,2) (3,) ",
     "output_type": "error",
     "traceback": [
      "\u001b[1;31m---------------------------------------------------------------------------\u001b[0m",
      "\u001b[1;31mValueError\u001b[0m                                Traceback (most recent call last)",
      "\u001b[1;32m<ipython-input-468-d4adfa68cd62>\u001b[0m in \u001b[0;36m<module>\u001b[1;34m\u001b[0m\n\u001b[0;32m      1\u001b[0m \u001b[0mM\u001b[0m \u001b[1;33m=\u001b[0m \u001b[0mnp\u001b[0m\u001b[1;33m.\u001b[0m\u001b[0mones\u001b[0m\u001b[1;33m(\u001b[0m\u001b[1;33m(\u001b[0m\u001b[1;36m3\u001b[0m\u001b[1;33m,\u001b[0m \u001b[1;36m2\u001b[0m\u001b[1;33m)\u001b[0m\u001b[1;33m)\u001b[0m\u001b[1;33m\u001b[0m\u001b[1;33m\u001b[0m\u001b[0m\n\u001b[0;32m      2\u001b[0m \u001b[0ma\u001b[0m \u001b[1;33m=\u001b[0m \u001b[0mnp\u001b[0m\u001b[1;33m.\u001b[0m\u001b[0marange\u001b[0m\u001b[1;33m(\u001b[0m\u001b[1;36m3\u001b[0m\u001b[1;33m)\u001b[0m\u001b[1;33m\u001b[0m\u001b[1;33m\u001b[0m\u001b[0m\n\u001b[1;32m----> 3\u001b[1;33m \u001b[0mM\u001b[0m \u001b[1;33m+\u001b[0m \u001b[0ma\u001b[0m\u001b[1;33m\u001b[0m\u001b[1;33m\u001b[0m\u001b[0m\n\u001b[0m",
      "\u001b[1;31mValueError\u001b[0m: operands could not be broadcast together with shapes (3,2) (3,) "
     ]
    }
   ],
   "source": [
    "M = np.ones((3, 2))\n",
    "a = np.arange(3)\n",
    "M + a     # TAQ : result?"
   ]
  },
  {
   "cell_type": "markdown",
   "metadata": {},
   "source": [
    "### Broadcasting rules apply to *any* binary ``ufunc``.\n",
    "- e.g. ``logaddexp(a, b)`` = ``log(exp(a) + exp(b))``"
   ]
  },
  {
   "cell_type": "code",
   "execution_count": 33,
   "metadata": {
    "collapsed": false,
    "jupyter": {
     "outputs_hidden": false
    }
   },
   "outputs": [
    {
     "name": "stdout",
     "output_type": "stream",
     "text": [
      "[[1.31326169 1.69314718 2.31326169]\n",
      " [1.31326169 1.69314718 2.31326169]\n",
      " [1.31326169 1.69314718 2.31326169]] \n",
      "\n",
      "[[1.31326169 1.31326169 1.31326169]\n",
      " [1.69314718 1.69314718 1.69314718]\n",
      " [2.31326169 2.31326169 2.31326169]]\n"
     ]
    }
   ],
   "source": [
    "a = np.array([0, 1, 2])\n",
    "M = np.ones((3, 3))\n",
    "print (np.logaddexp(M, a),'\\n')\n",
    "print (np.logaddexp(M, a.reshape((3,1))))"
   ]
  },
  {
   "cell_type": "markdown",
   "metadata": {},
   "source": [
    "### Broadcasting Example : Centering an array (i.e. zero mean)\n",
    "- Some data analysis algorithms assume zero-mean data for simplicity\n",
    "    * PCA\n",
    "- How to do centering?"
   ]
  },
  {
   "cell_type": "code",
   "execution_count": 34,
   "metadata": {
    "collapsed": false,
    "jupyter": {
     "outputs_hidden": false
    }
   },
   "outputs": [
    {
     "name": "stdout",
     "output_type": "stream",
     "text": [
      "[[0.20020551 0.71990961 0.04386778]\n",
      " [0.24253241 0.58362154 0.19365921]\n",
      " [0.73131058 0.54673692 0.34738314]\n",
      " [0.4634587  0.36476761 0.48515853]\n",
      " [0.83694219 0.67311311 0.08619293]\n",
      " [0.08002749 0.40544108 0.42883816]\n",
      " [0.34285624 0.21887864 0.82597284]\n",
      " [0.91164433 0.76492665 0.4030136 ]\n",
      " [0.2637624  0.37390141 0.97775962]\n",
      " [0.40045545 0.65564646 0.33258765]] \n",
      "\n",
      "[0.44731953 0.5306943  0.41244335]\n"
     ]
    }
   ],
   "source": [
    "X = np.random.random((10, 3))\n",
    "print(X,'\\n')\n",
    "Xmean = X.mean(axis=0)\n",
    "print(Xmean)"
   ]
  },
  {
   "cell_type": "markdown",
   "metadata": {},
   "source": [
    "We can compute the mean of each feature using the ``mean`` aggregate across the first dimension:"
   ]
  },
  {
   "cell_type": "code",
   "execution_count": 471,
   "metadata": {
    "collapsed": false,
    "jupyter": {
     "outputs_hidden": false
    }
   },
   "outputs": [
    {
     "name": "stdout",
     "output_type": "stream",
     "text": [
      "[ 9.43689571e-17 -5.55111512e-17  4.44089210e-17]\n"
     ]
    }
   ],
   "source": [
    "X_centered = X - Xmean\n",
    "print (X_centered.mean(axis=0))"
   ]
  },
  {
   "cell_type": "markdown",
   "metadata": {},
   "source": [
    "### Broadcasting Example : Plotting a two-dimensional function\n",
    "- plot a function $z = f(x, y)$\n",
    "    * need to evaluate $f(x, y)$ at 50x50 grid points\n",
    "    * use broadcasting to compute $z = f(x, y)$\n",
    "- then plot z using matplotlib, which will be covered later"
   ]
  },
  {
   "cell_type": "code",
   "execution_count": 472,
   "metadata": {
    "collapsed": false,
    "jupyter": {
     "outputs_hidden": false
    }
   },
   "outputs": [
    {
     "name": "stdout",
     "output_type": "stream",
     "text": [
      "shape of z =  (50, 50)\n",
      "[[-0.83907153 -0.83470697 -0.8216586  ...  0.8956708   0.68617261\n",
      "   0.41940746]\n",
      " [-0.83907153 -0.82902677 -0.8103873  ...  0.92522407  0.75321348\n",
      "   0.52508175]\n",
      " [-0.83907153 -0.82325668 -0.79876457 ...  0.96427357  0.84172689\n",
      "   0.66446403]\n",
      " ...\n",
      " [-0.83907153 -0.48233077 -0.01646558 ...  0.96449925  0.75196531\n",
      "   0.41982581]\n",
      " [-0.83907153 -0.47324558  0.00392612 ...  0.92542163  0.68540362\n",
      "   0.37440839]\n",
      " [-0.83907153 -0.46410908  0.02431613 ...  0.89579384  0.65690314\n",
      "   0.40107702]]\n"
     ]
    }
   ],
   "source": [
    "# x and y have 50 steps from 0 to 5\n",
    "x = np.linspace(0, 5, 50)  # shape=(50,)\n",
    "y = np.linspace(0, 5, 50).reshape((-1,1))  # shape=(50,1)\n",
    "\n",
    "z = np.sin(x)**10 + np.cos(10 + y * x) * np.cos(x)\n",
    "print('shape of z = ', z.shape)\n",
    "print(z)"
   ]
  },
  {
   "cell_type": "code",
   "execution_count": 473,
   "metadata": {
    "collapsed": false,
    "jupyter": {
     "outputs_hidden": false
    }
   },
   "outputs": [
    {
     "data": {
      "image/png": "[encoded data removed]",
      "text/plain": [
       "<Figure size 432x288 with 2 Axes>"
      ]
     },
     "metadata": {
      "needs_background": "light"
     },
     "output_type": "display_data"
    }
   ],
   "source": [
    "%matplotlib inline\n",
    "import matplotlib.pyplot as plt\n",
    "plt.imshow(z, origin='lower', extent=[0, 5, 0, 5], cmap='viridis')\n",
    "plt.colorbar();"
   ]
  },
  {
   "cell_type": "markdown",
   "metadata": {},
   "source": [
    "## 2-6. Comparisons, Masks, and Boolean Logic"
   ]
  },
  {
   "cell_type": "code",
   "execution_count": null,
   "metadata": {},
   "outputs": [],
   "source": [
    "x = np.array([1, 2, 3, 4, 5])\n",
    "b = (x <= 3)\n",
    "print (\"x <= 3 : \", b)\n",
    "print (np.sum(x <= 3))   # TAQ\n",
    "print (np.count_nonzero(x <= 3))  # TAQ"
   ]
  },
  {
   "cell_type": "code",
   "execution_count": 475,
   "metadata": {},
   "outputs": [
    {
     "name": "stdout",
     "output_type": "stream",
     "text": [
      "[1 2 3 0 0]\n",
      "6\n",
      "[1 2 3]\n",
      "[1 2 3]\n",
      "6\n"
     ]
    }
   ],
   "source": [
    "print (x*b)  # masking\n",
    "print (np.sum(x*b))\n",
    "\n",
    "print (x[x<=3])\n",
    "print (x[b])\n",
    "print (np.sum(x[x<=3]))"
   ]
  },
  {
   "cell_type": "code",
   "execution_count": 476,
   "metadata": {},
   "outputs": [
    {
     "name": "stdout",
     "output_type": "stream",
     "text": [
      "[False False  True  True False]\n",
      "True\n",
      "[ True  True False False  True]\n",
      "False\n"
     ]
    }
   ],
   "source": [
    "print ((3 <= x) & (x <= 4))\n",
    "print (np.any((3 <= x) & (x <= 4)))\n",
    "print ((x < 3) | (x > 4))\n",
    "print (np.all((x < 3) | (x > 4)))"
   ]
  },
  {
   "cell_type": "code",
   "execution_count": 477,
   "metadata": {},
   "outputs": [
    {
     "name": "stdout",
     "output_type": "stream",
     "text": [
      "[1 2 3 0 0]\n",
      "6\n"
     ]
    }
   ],
   "source": [
    "b = (x <= 3)\n",
    "print (x*b)  # masking\n",
    "print (np.sum(x*b))"
   ]
  },
  {
   "cell_type": "markdown",
   "metadata": {},
   "source": [
    "### Motivating Example: Sleepless in Seatle\n",
    "- Is Seatle really rainy city?\n",
    "- Let's get data first!\n",
    "    * daily rainfall data from January 1 to December 31, 2014."
   ]
  },
  {
   "cell_type": "code",
   "execution_count": 37,
   "metadata": {
    "collapsed": false,
    "jupyter": {
     "outputs_hidden": false
    }
   },
   "outputs": [
    {
     "data": {
      "text/plain": [
       "(365,)"
      ]
     },
     "execution_count": 37,
     "metadata": {},
     "output_type": "execute_result"
    }
   ],
   "source": [
    "import numpy as np\n",
    "import pandas as pd\n",
    "\n",
    "# use pandas to extract rainfall inches as a NumPy array\n",
    "data = pd.read_csv('data/Seattle2014.csv')\n",
    "rainfall = data['PRCP'].values\n",
    "rainfall.shape"
   ]
  },
  {
   "cell_type": "code",
   "execution_count": 43,
   "metadata": {
    "collapsed": false,
    "jupyter": {
     "outputs_hidden": false
    }
   },
   "outputs": [
    {
     "data": {
      "image/png": "[encoded data removed]",
      "text/plain": [
       "<Figure size 432x288 with 1 Axes>"
      ]
     },
     "metadata": {},
     "output_type": "display_data"
    }
   ],
   "source": [
    "%matplotlib inline\n",
    "import matplotlib.pyplot as plt\n",
    "# you may need to install seaborn to set nice plot styles\n",
    "# >>> conda install seaborn \n",
    "import seaborn; seaborn.set()  \n",
    "plt.hist(rainfall, 40);"
   ]
  },
  {
   "cell_type": "markdown",
   "metadata": {},
   "source": [
    "#### Questions (on Seatle rainfall data in 2014)\n",
    "- number of rainy days\n",
    "- number of rainy days in non-summer\n",
    "- precipitation in summer\n",
    "- precipitation in non-summer\n",
    "- ..."
   ]
  },
  {
   "cell_type": "code",
   "execution_count": 480,
   "metadata": {},
   "outputs": [
    {
     "name": "stdout",
     "output_type": "stream",
     "text": [
      "Number days without rain:       215\n",
      "Number days with rain:          150\n",
      "Days with more than 10 mm:      120\n",
      "Rainy days with < 5 mm:         10\n"
     ]
    }
   ],
   "source": [
    "print(\"Number days without rain:      \", np.sum(rainfall == 0))\n",
    "print(\"Number days with rain:         \", np.sum(rainfall > 0))\n",
    "print(\"Days with more than 10 mm:     \", np.sum(rainfall > 10))\n",
    "print(\"Rainy days with < 5 mm:        \", np.sum((rainfall > 0) & (rainfall < 5)))"
   ]
  },
  {
   "cell_type": "code",
   "execution_count": 481,
   "metadata": {
    "collapsed": false,
    "jupyter": {
     "outputs_hidden": false
    }
   },
   "outputs": [
    {
     "name": "stdout",
     "output_type": "stream",
     "text": [
      "Median precip on rainy days in 2014 (mm):    49.5\n",
      "Median precip on summer days in 2014 (mm):   0.0\n",
      "Maximum precip on summer days in 2014 (mm):  216\n",
      "Median precip on non-summer rainy days (mm): 51.0\n"
     ]
    }
   ],
   "source": [
    "# construct a mask of all rainy days\n",
    "rainy = (rainfall > 0)\n",
    "\n",
    "# construct a mask of all summer days (June 21st is the 172nd day)\n",
    "days = np.arange(365)\n",
    "summer = (days > 172) & (days < 262)\n",
    "\n",
    "print(\"Median precip on rainy days in 2014 (mm):   \",\n",
    "      np.median(rainfall[rainy]))\n",
    "print(\"Median precip on summer days in 2014 (mm):  \",\n",
    "      np.median(rainfall[summer]))\n",
    "print(\"Maximum precip on summer days in 2014 (mm): \",\n",
    "      np.max(rainfall[summer]))\n",
    "print(\"Median precip on non-summer rainy days (mm):\",\n",
    "      np.median(rainfall[rainy & ~summer]))"
   ]
  },
  {
   "cell_type": "markdown",
   "metadata": {},
   "source": [
    "## 2-7. Fancy Indexing"
   ]
  },
  {
   "cell_type": "markdown",
   "metadata": {},
   "source": [
    "#### Indexing np array\n",
    "- simple index: ``arr[0]``\n",
    "- slice: ``arr[:5]``\n",
    "- Boolean mask: ``arr[arr > 0]``\n",
    "- fancy indexing: ``arr[[1,3,7]]``"
   ]
  },
  {
   "cell_type": "code",
   "execution_count": 482,
   "metadata": {
    "collapsed": false,
    "jupyter": {
     "outputs_hidden": false
    }
   },
   "outputs": [
    {
     "name": "stdout",
     "output_type": "stream",
     "text": [
      "[ 7  8 89 16 52 87 72 34  4  0]\n"
     ]
    }
   ],
   "source": [
    "x = np.random.randint(100, size=10)\n",
    "print(x)"
   ]
  },
  {
   "cell_type": "code",
   "execution_count": null,
   "metadata": {
    "collapsed": false,
    "jupyter": {
     "outputs_hidden": false
    }
   },
   "outputs": [],
   "source": [
    "ind = [3, 7, 4]\n",
    "print (x[ind])   # TAQ : result?"
   ]
  },
  {
   "cell_type": "code",
   "execution_count": null,
   "metadata": {
    "collapsed": false,
    "jupyter": {
     "outputs_hidden": false
    }
   },
   "outputs": [],
   "source": [
    "ind = np.array([[3, 7],\n",
    "                [4, 5]])\n",
    "x[ind]  # TAQ : result?"
   ]
  },
  {
   "cell_type": "code",
   "execution_count": 485,
   "metadata": {
    "collapsed": false,
    "jupyter": {
     "outputs_hidden": false
    }
   },
   "outputs": [
    {
     "data": {
      "text/plain": [
       "array([[ 0,  1,  2,  3],\n",
       "       [ 4,  5,  6,  7],\n",
       "       [ 8,  9, 10, 11]])"
      ]
     },
     "execution_count": 485,
     "metadata": {},
     "output_type": "execute_result"
    }
   ],
   "source": [
    "X = np.arange(12).reshape((3, 4))\n",
    "X"
   ]
  },
  {
   "cell_type": "code",
   "execution_count": 486,
   "metadata": {
    "collapsed": false,
    "jupyter": {
     "outputs_hidden": false
    }
   },
   "outputs": [
    {
     "data": {
      "text/plain": [
       "array([ 2,  5, 11])"
      ]
     },
     "execution_count": 486,
     "metadata": {},
     "output_type": "execute_result"
    }
   ],
   "source": [
    "row = np.array([0, 1, 2])\n",
    "col = np.array([2, 1, 3])\n",
    "X[row, col]   # TAQ : result?"
   ]
  },
  {
   "cell_type": "code",
   "execution_count": 487,
   "metadata": {
    "collapsed": false,
    "jupyter": {
     "outputs_hidden": false
    }
   },
   "outputs": [
    {
     "data": {
      "text/plain": [
       "array([[ 2,  1,  3],\n",
       "       [10,  9, 11]])"
      ]
     },
     "execution_count": 487,
     "metadata": {},
     "output_type": "execute_result"
    }
   ],
   "source": [
    "row = np.array([0, 2]).reshape((2,1))\n",
    "col = np.array([2, 1, 3])\n",
    "X[row, col]   # TAQ : result?    Hint : broadcasting is applied"
   ]
  },
  {
   "cell_type": "markdown",
   "metadata": {},
   "source": [
    "#### Combined Indexing\n",
    "- combining simple, slice, mask, and fancy index"
   ]
  },
  {
   "cell_type": "code",
   "execution_count": 488,
   "metadata": {
    "collapsed": false,
    "jupyter": {
     "outputs_hidden": false
    }
   },
   "outputs": [
    {
     "name": "stdout",
     "output_type": "stream",
     "text": [
      "[[ 0  1  2  3]\n",
      " [ 4  5  6  7]\n",
      " [ 8  9 10 11]]\n",
      "[10  8  9]\n",
      "[[ 6  4  5]\n",
      " [10  8  9]]\n"
     ]
    }
   ],
   "source": [
    "print(X)\n",
    "col = [2,0,1]\n",
    "print(X[2, col])\n",
    "print(X[1:, col])"
   ]
  },
  {
   "cell_type": "code",
   "execution_count": 489,
   "metadata": {
    "collapsed": false,
    "jupyter": {
     "outputs_hidden": false
    }
   },
   "outputs": [
    {
     "data": {
      "text/plain": [
       "array([[ 0,  2],\n",
       "       [ 8, 10]])"
      ]
     },
     "execution_count": 489,
     "metadata": {},
     "output_type": "execute_result"
    }
   ],
   "source": [
    "row = np.array([0, 2]).reshape((2,1))\n",
    "col_mask = np.array([True, False, True, False])\n",
    "X[row, col_mask]"
   ]
  },
  {
   "cell_type": "markdown",
   "metadata": {},
   "source": [
    "### Example: Selecting Random Points\n",
    "- consider a set of $N$ points in $D$ dimensions\n",
    "- we generate $N=100$ points in $2D$\n",
    "    * bi-variate normal\n",
    "    * plot them using matplotlib\n",
    "- randomly select 20 points from them\n",
    "    * mark selected points in different shape"
   ]
  },
  {
   "cell_type": "code",
   "execution_count": 45,
   "metadata": {
    "collapsed": false,
    "jupyter": {
     "outputs_hidden": false
    }
   },
   "outputs": [
    {
     "data": {
      "text/plain": [
       "(100, 2)"
      ]
     },
     "execution_count": 45,
     "metadata": {},
     "output_type": "execute_result"
    }
   ],
   "source": [
    "mean = [0, 0]\n",
    "cov = [[1, 2],\n",
    "       [2, 5]]\n",
    "X = np.random.multivariate_normal(mean, cov, 100)\n",
    "X.shape"
   ]
  },
  {
   "cell_type": "code",
   "execution_count": 46,
   "metadata": {
    "collapsed": false,
    "jupyter": {
     "outputs_hidden": false
    }
   },
   "outputs": [
    {
     "data": {
      "image/png": "[encoded data removed]",
      "text/plain": [
       "<Figure size 432x288 with 1 Axes>"
      ]
     },
     "metadata": {},
     "output_type": "display_data"
    }
   ],
   "source": [
    "%matplotlib inline\n",
    "import matplotlib.pyplot as plt\n",
    "import seaborn; seaborn.set()  # for plot styling\n",
    "\n",
    "plt.scatter(X[:, 0], X[:, 1]);"
   ]
  },
  {
   "cell_type": "code",
   "execution_count": 47,
   "metadata": {
    "collapsed": false,
    "jupyter": {
     "outputs_hidden": false
    }
   },
   "outputs": [
    {
     "name": "stdout",
     "output_type": "stream",
     "text": [
      "[ 2 81 12  6 94 68 82 30  1 23 37  3 64 21 11 45 83 67 92 71]\n",
      "(20, 2)\n"
     ]
    }
   ],
   "source": [
    "indices = np.random.choice(X.shape[0], 20, replace=False)\n",
    "print (indices)\n",
    "selection = X[indices]  # fancy indexing here\n",
    "print (selection.shape)"
   ]
  },
  {
   "cell_type": "code",
   "execution_count": 48,
   "metadata": {
    "collapsed": false,
    "jupyter": {
     "outputs_hidden": false
    }
   },
   "outputs": [
    {
     "data": {
      "image/png": "[encoded data removed]",
      "text/plain": [
       "<Figure size 432x288 with 1 Axes>"
      ]
     },
     "metadata": {},
     "output_type": "display_data"
    }
   ],
   "source": [
    "plt.scatter(X[:, 0], X[:, 1], alpha=0.3)\n",
    "plt.scatter(selection[:, 0], selection[:, 1],\n",
    "            facecolor='red', s=7);"
   ]
  },
  {
   "cell_type": "markdown",
   "metadata": {},
   "source": [
    "### Modifying Values with Fancy Indexing"
   ]
  },
  {
   "cell_type": "code",
   "execution_count": 494,
   "metadata": {
    "collapsed": false,
    "jupyter": {
     "outputs_hidden": false
    }
   },
   "outputs": [
    {
     "name": "stdout",
     "output_type": "stream",
     "text": [
      "[ 0 99 99  3 99  5  6  7 99  9]\n",
      "[ 0 89 89  3 89  5  6  7 89  9]\n"
     ]
    }
   ],
   "source": [
    "x = np.arange(10)\n",
    "idx = np.array([2, 1, 8, 4])\n",
    "x[idx] = 99\n",
    "print(x)\n",
    "x[idx] -= 10\n",
    "print(x)"
   ]
  },
  {
   "cell_type": "markdown",
   "metadata": {},
   "source": [
    "We can use any assignment-type operator for this. For example:"
   ]
  },
  {
   "cell_type": "code",
   "execution_count": 495,
   "metadata": {
    "collapsed": false,
    "jupyter": {
     "outputs_hidden": false
    }
   },
   "outputs": [
    {
     "name": "stdout",
     "output_type": "stream",
     "text": [
      "[ 0 89 89  3 89  5  6  7 89 -1]\n"
     ]
    }
   ],
   "source": [
    "x[i] -= 10\n",
    "print(x)"
   ]
  },
  {
   "cell_type": "markdown",
   "metadata": {},
   "source": [
    "#### Avoid duplication in fancy index\n",
    "- may cause unexpected results\n",
    "- use at() method if duplication is unavoidable"
   ]
  },
  {
   "cell_type": "code",
   "execution_count": 496,
   "metadata": {
    "collapsed": false,
    "jupyter": {
     "outputs_hidden": false
    }
   },
   "outputs": [
    {
     "name": "stdout",
     "output_type": "stream",
     "text": [
      "[6. 0. 0. 0. 0. 0. 0. 0. 0. 0.]\n"
     ]
    }
   ],
   "source": [
    "# duplication in fancy index\n",
    "x = np.zeros(10)\n",
    "x[[0, 0]] = [4, 6]\n",
    "print(x)"
   ]
  },
  {
   "cell_type": "code",
   "execution_count": 497,
   "metadata": {
    "collapsed": false,
    "jupyter": {
     "outputs_hidden": false
    }
   },
   "outputs": [
    {
     "name": "stdout",
     "output_type": "stream",
     "text": [
      "[6. 0. 1. 1. 1. 0. 0. 0. 0. 0.]\n"
     ]
    }
   ],
   "source": [
    "# duplication in fancy index\n",
    "idx = [2, 3, 3, 4, 4, 4]\n",
    "x[idx] += 1\n",
    "print(x)"
   ]
  },
  {
   "cell_type": "code",
   "execution_count": 498,
   "metadata": {
    "collapsed": false,
    "jupyter": {
     "outputs_hidden": false
    }
   },
   "outputs": [
    {
     "name": "stdout",
     "output_type": "stream",
     "text": [
      "[0. 0. 1. 2. 3. 0. 0. 0. 0. 0.]\n"
     ]
    }
   ],
   "source": [
    "x = np.zeros(10)\n",
    "np.add.at(x, idx, 1)\n",
    "print(x)"
   ]
  },
  {
   "cell_type": "markdown",
   "metadata": {},
   "source": [
    "### Sorting\n",
    "- np.sort\n",
    "- np.argsort"
   ]
  },
  {
   "cell_type": "code",
   "execution_count": 499,
   "metadata": {},
   "outputs": [
    {
     "name": "stdout",
     "output_type": "stream",
     "text": [
      "[0.59488531 0.19874637 0.33881144 0.23509604 0.80192003]\n",
      "[0.19874637 0.23509604 0.33881144 0.59488531 0.80192003]\n",
      "[0.19874637 0.23509604 0.33881144 0.59488531 0.80192003]\n"
     ]
    }
   ],
   "source": [
    "x = np.random.random(5)\n",
    "y = np.sort(x)\n",
    "print(x)  # x is not changed\n",
    "print(y)\n",
    "x.sort()  # in-place sort\n",
    "print(x)"
   ]
  },
  {
   "cell_type": "code",
   "execution_count": 500,
   "metadata": {},
   "outputs": [
    {
     "name": "stdout",
     "output_type": "stream",
     "text": [
      "hieght= [189.40070616 161.84410721 163.2017855  167.6655901  184.75984166]\n",
      "money = [ 3.3759033  12.44325455 84.22738284  5.61546723 45.12811488]\n",
      "index = [1 2 3 4 0]\n",
      "h[idx]= [161.84410721 163.2017855  167.6655901  184.75984166 189.40070616]\n",
      "m[idx]= [12.44325455 84.22738284  5.61546723 45.12811488  3.3759033 ]\n"
     ]
    }
   ],
   "source": [
    "height = 150 + 40*np.random.random(5)\n",
    "print('hieght=', height)\n",
    "money = 100*np.random.random(5)\n",
    "print('money =', money)\n",
    "\n",
    "idx = np.argsort(height)  # idx in order of height\n",
    "print('index =', idx)\n",
    "print('h[idx]=', height[idx])  # fancy index\n",
    "print('m[idx]=', money[idx])   # fancy index"
   ]
  },
  {
   "cell_type": "markdown",
   "metadata": {},
   "source": [
    "### Partitioning\n",
    "- complete sorting is not needed\n",
    "- want to find the k-smallest values in the array\n",
    "- ``np.partition`` : \n",
    "    * the smallest *K* values to the left of the partition\n",
    "    * and the remaining values to the right, in arbitrary order:"
   ]
  },
  {
   "cell_type": "code",
   "execution_count": 501,
   "metadata": {
    "collapsed": false,
    "jupyter": {
     "outputs_hidden": false
    }
   },
   "outputs": [
    {
     "name": "stdout",
     "output_type": "stream",
     "text": [
      "[2 1 3 4 6 5 7]\n",
      "[1 3 2 6 4 5 0]\n",
      "[2 1 3 4 6 5 7]\n"
     ]
    }
   ],
   "source": [
    "x = np.array([7, 2, 3, 1, 6, 5, 4])\n",
    "y = np.partition(x, 3)\n",
    "print (y)\n",
    "idx = np.argpartition(x, 3)\n",
    "print (idx)\n",
    "print (x[idx])"
   ]
  },
  {
   "cell_type": "code",
   "execution_count": 502,
   "metadata": {
    "collapsed": false,
    "jupyter": {
     "outputs_hidden": false
    }
   },
   "outputs": [
    {
     "name": "stdout",
     "output_type": "stream",
     "text": [
      "[[5 8 4 2 0 0]\n",
      " [6 5 1 9 6 8]\n",
      " [8 4 4 1 2 1]\n",
      " [0 4 1 0 6 7]]\n",
      "[[0 0 2 4 5 8]\n",
      " [1 5 6 9 6 8]\n",
      " [1 1 2 8 4 4]\n",
      " [0 0 1 4 6 7]]\n"
     ]
    }
   ],
   "source": [
    "X = np.random.randint(0, 10, (4, 6))\n",
    "print (X)\n",
    "print (np.partition(X, 2, axis=1))"
   ]
  },
  {
   "cell_type": "markdown",
   "metadata": {},
   "source": [
    "### Example: k-Nearest Neighbors\n",
    "- Randomy created 10 points in 2D"
   ]
  },
  {
   "cell_type": "code",
   "execution_count": 509,
   "metadata": {
    "collapsed": false,
    "jupyter": {
     "outputs_hidden": false
    }
   },
   "outputs": [],
   "source": [
    "N = 10\n",
    "X = np.random.rand(N, 2)"
   ]
  },
  {
   "cell_type": "code",
   "execution_count": 510,
   "metadata": {
    "collapsed": false,
    "jupyter": {
     "outputs_hidden": false
    }
   },
   "outputs": [
    {
     "data": {
      "image/png": "[encoded data removed]",
      "text/plain": [
       "<Figure size 432x288 with 1 Axes>"
      ]
     },
     "metadata": {},
     "output_type": "display_data"
    }
   ],
   "source": [
    "%matplotlib inline\n",
    "import matplotlib.pyplot as plt\n",
    "import seaborn; seaborn.set() # Plot styling\n",
    "plt.scatter(X[:, 0], X[:, 1], s=100);"
   ]
  },
  {
   "cell_type": "code",
   "execution_count": 511,
   "metadata": {
    "collapsed": false,
    "jupyter": {
     "outputs_hidden": false
    }
   },
   "outputs": [],
   "source": [
    "# squared distance matrix (NxN)\n",
    "dist_sq = np.sum((X.reshape(N,1,2) - X.reshape(1,N,-1)) ** 2, axis=-1)\n",
    "dist = np.sqrt(dist_sq)"
   ]
  },
  {
   "cell_type": "code",
   "execution_count": 512,
   "metadata": {},
   "outputs": [],
   "source": [
    "# the above can be done using scipy.spatial.distance\n",
    "from scipy.spatial.distance import pdist, squareform\n",
    "\n",
    "dist = squareform(pdist(X))"
   ]
  },
  {
   "cell_type": "code",
   "execution_count": 513,
   "metadata": {
    "collapsed": false,
    "jupyter": {
     "outputs_hidden": false
    }
   },
   "outputs": [],
   "source": [
    "K = 2\n",
    "knn0 = np.argpartition(dist, K + 1, axis=1)"
   ]
  },
  {
   "cell_type": "code",
   "execution_count": 514,
   "metadata": {
    "collapsed": false,
    "jupyter": {
     "outputs_hidden": false
    }
   },
   "outputs": [
    {
     "data": {
      "image/png": "[encoded data removed]",
      "text/plain": [
       "<Figure size 432x288 with 1 Axes>"
      ]
     },
     "metadata": {},
     "output_type": "display_data"
    }
   ],
   "source": [
    "plt.scatter(X[:, 0], X[:, 1], s=100)\n",
    "\n",
    "# draw lines from each point to its two nearest neighbors\n",
    "knn = knn0[:, 1:K+1]  # exclude column 0\n",
    "for i in range(N):\n",
    "    for j in knn[i]:\n",
    "        # plot a line from X[i] to X[j]\n",
    "        # use some zip magic to make it happen:\n",
    "        plt.plot(*zip(X[j], X[i]), color='black')"
   ]
  },
  {
   "cell_type": "code",
   "execution_count": null,
   "metadata": {},
   "outputs": [],
   "source": []
  },
  {
   "cell_type": "code",
   "execution_count": null,
   "metadata": {},
   "outputs": [],
   "source": []
  }
 ],
 "metadata": {
  "colab": {
   "collapsed_sections": [
    "_rehYX145nEk",
    "g4-XjayC8KO7"
   ],
   "name": "Lesson5-Python For Data Science-Python-Data-structure.ipynb의 사본",
   "provenance": [
    {
     "file_id": "https://github.com/paiml/python_for_datascience/blob/master/Lesson5_Python_For_Data_Science_Python_Data_structure.ipynb",
     "timestamp": 1629953121902
    }
   ]
  },
  "kernelspec": {
   "display_name": "Python 3 (ipykernel)",
   "language": "python",
   "name": "python3"
  },
  "language_info": {
   "codemirror_mode": {
    "name": "ipython",
    "version": 3
   },
   "file_extension": ".py",
   "mimetype": "text/x-python",
   "name": "python",
   "nbconvert_exporter": "python",
   "pygments_lexer": "ipython3",
   "version": "3.8.5"
  }
 },
 "nbformat": 4,
 "nbformat_minor": 4
}
